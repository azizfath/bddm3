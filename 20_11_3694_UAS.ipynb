{
  "nbformat": 4,
  "nbformat_minor": 0,
  "metadata": {
    "colab": {
      "provenance": [],
      "include_colab_link": true
    },
    "kernelspec": {
      "name": "python3",
      "display_name": "Python 3"
    },
    "language_info": {
      "name": "python"
    }
  },
  "cells": [
    {
      "cell_type": "markdown",
      "metadata": {
        "id": "view-in-github",
        "colab_type": "text"
      },
      "source": [
        "<a href=\"https://colab.research.google.com/github/azizfath/bddm3/blob/main/20_11_3694_UAS.ipynb\" target=\"_parent\"><img src=\"https://colab.research.google.com/assets/colab-badge.svg\" alt=\"Open In Colab\"/></a>"
      ]
    },
    {
      "cell_type": "markdown",
      "source": [
        "#**UAS BIG DATA & DATA MINING**\n",
        "##\"Cervical Cancer Prediction by Classification using Support Vector Machines Algorithm\""
      ],
      "metadata": {
        "id": "9lak_0YfeO2M"
      }
    },
    {
      "cell_type": "markdown",
      "source": [
        "# Identitas\n",
        "\n",
        "\n",
        "*   **Nim: 20.11.3694**\n",
        "*   **Nama: Fathurrahman Nur Aziz**\n",
        "*   **Kelas: 20IF07**\n",
        "\n",
        "\n"
      ],
      "metadata": {
        "id": "7j4qV4cQiLG3"
      }
    },
    {
      "cell_type": "markdown",
      "source": [
        "#Import Library"
      ],
      "metadata": {
        "id": "3iqdJhdaQgEG"
      }
    },
    {
      "cell_type": "code",
      "source": [
        "import numpy as np\n",
        "import pandas as pd\n",
        "import seaborn as sns\n",
        "import matplotlib.pyplot as plt\n",
        "\n",
        "from sklearn.metrics import *\n",
        "from sklearn import svm\n",
        "from sklearn.model_selection import train_test_split\n",
        "from sklearn.preprocessing import StandardScaler\n",
        "\n",
        "import warnings\n",
        "warnings.filterwarnings('ignore')"
      ],
      "metadata": {
        "id": "ijVi7ct1QawL"
      },
      "execution_count": 1,
      "outputs": []
    },
    {
      "cell_type": "markdown",
      "source": [
        "#LOAD DATASET"
      ],
      "metadata": {
        "id": "3LNEsRpQQkqf"
      }
    },
    {
      "cell_type": "markdown",
      "source": [
        "*   DATAFRAME diambil dari KAGGLE : https://www.kaggle.com/datasets/loveall/cervical-cancer-risk-classification\n",
        "*   Kemudian saya taruh di github untuk mempermudah proses import : https://raw.githubusercontent.com/azizfath/bddm3/main/uas/kag_risk_factors_cervical_cancer.csv'\n"
      ],
      "metadata": {
        "id": "zAvA962CZl45"
      }
    },
    {
      "cell_type": "code",
      "source": [
        "url = 'https://raw.githubusercontent.com/azizfath/bddm3/main/uas/kag_risk_factors_cervical_cancer.csv'\n",
        "#url = '/content/kag_risk_factors_cervical_cancer.csv'\n",
        "\n",
        "df = pd.read_csv(url)"
      ],
      "metadata": {
        "id": "5YOGuMvsoySf"
      },
      "execution_count": 2,
      "outputs": []
    },
    {
      "cell_type": "markdown",
      "source": [
        "## 1. Data Visualization"
      ],
      "metadata": {
        "id": "hzGsB5yEO0gG"
      }
    },
    {
      "cell_type": "code",
      "source": [
        "df.head()"
      ],
      "metadata": {
        "colab": {
          "base_uri": "https://localhost:8080/",
          "height": 369
        },
        "id": "yNWckvWhr_x2",
        "outputId": "8762d15c-9845-492e-fa2a-97af659daa1e"
      },
      "execution_count": 3,
      "outputs": [
        {
          "output_type": "execute_result",
          "data": {
            "text/plain": [
              "   Age Number of sexual partners First sexual intercourse Num of pregnancies  \\\n",
              "0   18                       4.0                     15.0                1.0   \n",
              "1   15                       1.0                     14.0                1.0   \n",
              "2   34                       1.0                        ?                1.0   \n",
              "3   52                       5.0                     16.0                4.0   \n",
              "4   46                       3.0                     21.0                4.0   \n",
              "\n",
              "  Smokes Smokes (years) Smokes (packs/year) Hormonal Contraceptives  \\\n",
              "0    0.0            0.0                 0.0                     0.0   \n",
              "1    0.0            0.0                 0.0                     0.0   \n",
              "2    0.0            0.0                 0.0                     0.0   \n",
              "3    1.0           37.0                37.0                     1.0   \n",
              "4    0.0            0.0                 0.0                     1.0   \n",
              "\n",
              "  Hormonal Contraceptives (years)  IUD  ... STDs: Time since first diagnosis  \\\n",
              "0                             0.0  0.0  ...                                ?   \n",
              "1                             0.0  0.0  ...                                ?   \n",
              "2                             0.0  0.0  ...                                ?   \n",
              "3                             3.0  0.0  ...                                ?   \n",
              "4                            15.0  0.0  ...                                ?   \n",
              "\n",
              "  STDs: Time since last diagnosis Dx:Cancer Dx:CIN Dx:HPV Dx Hinselmann  \\\n",
              "0                               ?         0      0      0  0          0   \n",
              "1                               ?         0      0      0  0          0   \n",
              "2                               ?         0      0      0  0          0   \n",
              "3                               ?         1      0      1  0          0   \n",
              "4                               ?         0      0      0  0          0   \n",
              "\n",
              "  Schiller Citology Biopsy  \n",
              "0        0        0      0  \n",
              "1        0        0      0  \n",
              "2        0        0      0  \n",
              "3        0        0      0  \n",
              "4        0        0      0  \n",
              "\n",
              "[5 rows x 36 columns]"
            ],
            "text/html": [
              "\n",
              "  <div id=\"df-8b36ebf5-febe-4655-8851-b3e78d466b02\">\n",
              "    <div class=\"colab-df-container\">\n",
              "      <div>\n",
              "<style scoped>\n",
              "    .dataframe tbody tr th:only-of-type {\n",
              "        vertical-align: middle;\n",
              "    }\n",
              "\n",
              "    .dataframe tbody tr th {\n",
              "        vertical-align: top;\n",
              "    }\n",
              "\n",
              "    .dataframe thead th {\n",
              "        text-align: right;\n",
              "    }\n",
              "</style>\n",
              "<table border=\"1\" class=\"dataframe\">\n",
              "  <thead>\n",
              "    <tr style=\"text-align: right;\">\n",
              "      <th></th>\n",
              "      <th>Age</th>\n",
              "      <th>Number of sexual partners</th>\n",
              "      <th>First sexual intercourse</th>\n",
              "      <th>Num of pregnancies</th>\n",
              "      <th>Smokes</th>\n",
              "      <th>Smokes (years)</th>\n",
              "      <th>Smokes (packs/year)</th>\n",
              "      <th>Hormonal Contraceptives</th>\n",
              "      <th>Hormonal Contraceptives (years)</th>\n",
              "      <th>IUD</th>\n",
              "      <th>...</th>\n",
              "      <th>STDs: Time since first diagnosis</th>\n",
              "      <th>STDs: Time since last diagnosis</th>\n",
              "      <th>Dx:Cancer</th>\n",
              "      <th>Dx:CIN</th>\n",
              "      <th>Dx:HPV</th>\n",
              "      <th>Dx</th>\n",
              "      <th>Hinselmann</th>\n",
              "      <th>Schiller</th>\n",
              "      <th>Citology</th>\n",
              "      <th>Biopsy</th>\n",
              "    </tr>\n",
              "  </thead>\n",
              "  <tbody>\n",
              "    <tr>\n",
              "      <th>0</th>\n",
              "      <td>18</td>\n",
              "      <td>4.0</td>\n",
              "      <td>15.0</td>\n",
              "      <td>1.0</td>\n",
              "      <td>0.0</td>\n",
              "      <td>0.0</td>\n",
              "      <td>0.0</td>\n",
              "      <td>0.0</td>\n",
              "      <td>0.0</td>\n",
              "      <td>0.0</td>\n",
              "      <td>...</td>\n",
              "      <td>?</td>\n",
              "      <td>?</td>\n",
              "      <td>0</td>\n",
              "      <td>0</td>\n",
              "      <td>0</td>\n",
              "      <td>0</td>\n",
              "      <td>0</td>\n",
              "      <td>0</td>\n",
              "      <td>0</td>\n",
              "      <td>0</td>\n",
              "    </tr>\n",
              "    <tr>\n",
              "      <th>1</th>\n",
              "      <td>15</td>\n",
              "      <td>1.0</td>\n",
              "      <td>14.0</td>\n",
              "      <td>1.0</td>\n",
              "      <td>0.0</td>\n",
              "      <td>0.0</td>\n",
              "      <td>0.0</td>\n",
              "      <td>0.0</td>\n",
              "      <td>0.0</td>\n",
              "      <td>0.0</td>\n",
              "      <td>...</td>\n",
              "      <td>?</td>\n",
              "      <td>?</td>\n",
              "      <td>0</td>\n",
              "      <td>0</td>\n",
              "      <td>0</td>\n",
              "      <td>0</td>\n",
              "      <td>0</td>\n",
              "      <td>0</td>\n",
              "      <td>0</td>\n",
              "      <td>0</td>\n",
              "    </tr>\n",
              "    <tr>\n",
              "      <th>2</th>\n",
              "      <td>34</td>\n",
              "      <td>1.0</td>\n",
              "      <td>?</td>\n",
              "      <td>1.0</td>\n",
              "      <td>0.0</td>\n",
              "      <td>0.0</td>\n",
              "      <td>0.0</td>\n",
              "      <td>0.0</td>\n",
              "      <td>0.0</td>\n",
              "      <td>0.0</td>\n",
              "      <td>...</td>\n",
              "      <td>?</td>\n",
              "      <td>?</td>\n",
              "      <td>0</td>\n",
              "      <td>0</td>\n",
              "      <td>0</td>\n",
              "      <td>0</td>\n",
              "      <td>0</td>\n",
              "      <td>0</td>\n",
              "      <td>0</td>\n",
              "      <td>0</td>\n",
              "    </tr>\n",
              "    <tr>\n",
              "      <th>3</th>\n",
              "      <td>52</td>\n",
              "      <td>5.0</td>\n",
              "      <td>16.0</td>\n",
              "      <td>4.0</td>\n",
              "      <td>1.0</td>\n",
              "      <td>37.0</td>\n",
              "      <td>37.0</td>\n",
              "      <td>1.0</td>\n",
              "      <td>3.0</td>\n",
              "      <td>0.0</td>\n",
              "      <td>...</td>\n",
              "      <td>?</td>\n",
              "      <td>?</td>\n",
              "      <td>1</td>\n",
              "      <td>0</td>\n",
              "      <td>1</td>\n",
              "      <td>0</td>\n",
              "      <td>0</td>\n",
              "      <td>0</td>\n",
              "      <td>0</td>\n",
              "      <td>0</td>\n",
              "    </tr>\n",
              "    <tr>\n",
              "      <th>4</th>\n",
              "      <td>46</td>\n",
              "      <td>3.0</td>\n",
              "      <td>21.0</td>\n",
              "      <td>4.0</td>\n",
              "      <td>0.0</td>\n",
              "      <td>0.0</td>\n",
              "      <td>0.0</td>\n",
              "      <td>1.0</td>\n",
              "      <td>15.0</td>\n",
              "      <td>0.0</td>\n",
              "      <td>...</td>\n",
              "      <td>?</td>\n",
              "      <td>?</td>\n",
              "      <td>0</td>\n",
              "      <td>0</td>\n",
              "      <td>0</td>\n",
              "      <td>0</td>\n",
              "      <td>0</td>\n",
              "      <td>0</td>\n",
              "      <td>0</td>\n",
              "      <td>0</td>\n",
              "    </tr>\n",
              "  </tbody>\n",
              "</table>\n",
              "<p>5 rows × 36 columns</p>\n",
              "</div>\n",
              "      <button class=\"colab-df-convert\" onclick=\"convertToInteractive('df-8b36ebf5-febe-4655-8851-b3e78d466b02')\"\n",
              "              title=\"Convert this dataframe to an interactive table.\"\n",
              "              style=\"display:none;\">\n",
              "        \n",
              "  <svg xmlns=\"http://www.w3.org/2000/svg\" height=\"24px\"viewBox=\"0 0 24 24\"\n",
              "       width=\"24px\">\n",
              "    <path d=\"M0 0h24v24H0V0z\" fill=\"none\"/>\n",
              "    <path d=\"M18.56 5.44l.94 2.06.94-2.06 2.06-.94-2.06-.94-.94-2.06-.94 2.06-2.06.94zm-11 1L8.5 8.5l.94-2.06 2.06-.94-2.06-.94L8.5 2.5l-.94 2.06-2.06.94zm10 10l.94 2.06.94-2.06 2.06-.94-2.06-.94-.94-2.06-.94 2.06-2.06.94z\"/><path d=\"M17.41 7.96l-1.37-1.37c-.4-.4-.92-.59-1.43-.59-.52 0-1.04.2-1.43.59L10.3 9.45l-7.72 7.72c-.78.78-.78 2.05 0 2.83L4 21.41c.39.39.9.59 1.41.59.51 0 1.02-.2 1.41-.59l7.78-7.78 2.81-2.81c.8-.78.8-2.07 0-2.86zM5.41 20L4 18.59l7.72-7.72 1.47 1.35L5.41 20z\"/>\n",
              "  </svg>\n",
              "      </button>\n",
              "      \n",
              "  <style>\n",
              "    .colab-df-container {\n",
              "      display:flex;\n",
              "      flex-wrap:wrap;\n",
              "      gap: 12px;\n",
              "    }\n",
              "\n",
              "    .colab-df-convert {\n",
              "      background-color: #E8F0FE;\n",
              "      border: none;\n",
              "      border-radius: 50%;\n",
              "      cursor: pointer;\n",
              "      display: none;\n",
              "      fill: #1967D2;\n",
              "      height: 32px;\n",
              "      padding: 0 0 0 0;\n",
              "      width: 32px;\n",
              "    }\n",
              "\n",
              "    .colab-df-convert:hover {\n",
              "      background-color: #E2EBFA;\n",
              "      box-shadow: 0px 1px 2px rgba(60, 64, 67, 0.3), 0px 1px 3px 1px rgba(60, 64, 67, 0.15);\n",
              "      fill: #174EA6;\n",
              "    }\n",
              "\n",
              "    [theme=dark] .colab-df-convert {\n",
              "      background-color: #3B4455;\n",
              "      fill: #D2E3FC;\n",
              "    }\n",
              "\n",
              "    [theme=dark] .colab-df-convert:hover {\n",
              "      background-color: #434B5C;\n",
              "      box-shadow: 0px 1px 3px 1px rgba(0, 0, 0, 0.15);\n",
              "      filter: drop-shadow(0px 1px 2px rgba(0, 0, 0, 0.3));\n",
              "      fill: #FFFFFF;\n",
              "    }\n",
              "  </style>\n",
              "\n",
              "      <script>\n",
              "        const buttonEl =\n",
              "          document.querySelector('#df-8b36ebf5-febe-4655-8851-b3e78d466b02 button.colab-df-convert');\n",
              "        buttonEl.style.display =\n",
              "          google.colab.kernel.accessAllowed ? 'block' : 'none';\n",
              "\n",
              "        async function convertToInteractive(key) {\n",
              "          const element = document.querySelector('#df-8b36ebf5-febe-4655-8851-b3e78d466b02');\n",
              "          const dataTable =\n",
              "            await google.colab.kernel.invokeFunction('convertToInteractive',\n",
              "                                                     [key], {});\n",
              "          if (!dataTable) return;\n",
              "\n",
              "          const docLinkHtml = 'Like what you see? Visit the ' +\n",
              "            '<a target=\"_blank\" href=https://colab.research.google.com/notebooks/data_table.ipynb>data table notebook</a>'\n",
              "            + ' to learn more about interactive tables.';\n",
              "          element.innerHTML = '';\n",
              "          dataTable['output_type'] = 'display_data';\n",
              "          await google.colab.output.renderOutput(dataTable, element);\n",
              "          const docLink = document.createElement('div');\n",
              "          docLink.innerHTML = docLinkHtml;\n",
              "          element.appendChild(docLink);\n",
              "        }\n",
              "      </script>\n",
              "    </div>\n",
              "  </div>\n",
              "  "
            ]
          },
          "metadata": {},
          "execution_count": 3
        }
      ]
    },
    {
      "cell_type": "code",
      "source": [
        "df.shape"
      ],
      "metadata": {
        "colab": {
          "base_uri": "https://localhost:8080/"
        },
        "id": "NReA2uaCO3Ls",
        "outputId": "c6c97103-b0a7-4251-eb32-51f32e39d66e"
      },
      "execution_count": 4,
      "outputs": [
        {
          "output_type": "execute_result",
          "data": {
            "text/plain": [
              "(858, 36)"
            ]
          },
          "metadata": {},
          "execution_count": 4
        }
      ]
    },
    {
      "cell_type": "code",
      "source": [
        "df.dtypes"
      ],
      "metadata": {
        "colab": {
          "base_uri": "https://localhost:8080/"
        },
        "id": "l9qD4ctLXdu-",
        "outputId": "bacbd742-e36c-48b2-a71e-6b8b877e26ed"
      },
      "execution_count": 5,
      "outputs": [
        {
          "output_type": "execute_result",
          "data": {
            "text/plain": [
              "Age                                    int64\n",
              "Number of sexual partners             object\n",
              "First sexual intercourse              object\n",
              "Num of pregnancies                    object\n",
              "Smokes                                object\n",
              "Smokes (years)                        object\n",
              "Smokes (packs/year)                   object\n",
              "Hormonal Contraceptives               object\n",
              "Hormonal Contraceptives (years)       object\n",
              "IUD                                   object\n",
              "IUD (years)                           object\n",
              "STDs                                  object\n",
              "STDs (number)                         object\n",
              "STDs:condylomatosis                   object\n",
              "STDs:cervical condylomatosis          object\n",
              "STDs:vaginal condylomatosis           object\n",
              "STDs:vulvo-perineal condylomatosis    object\n",
              "STDs:syphilis                         object\n",
              "STDs:pelvic inflammatory disease      object\n",
              "STDs:genital herpes                   object\n",
              "STDs:molluscum contagiosum            object\n",
              "STDs:AIDS                             object\n",
              "STDs:HIV                              object\n",
              "STDs:Hepatitis B                      object\n",
              "STDs:HPV                              object\n",
              "STDs: Number of diagnosis              int64\n",
              "STDs: Time since first diagnosis      object\n",
              "STDs: Time since last diagnosis       object\n",
              "Dx:Cancer                              int64\n",
              "Dx:CIN                                 int64\n",
              "Dx:HPV                                 int64\n",
              "Dx                                     int64\n",
              "Hinselmann                             int64\n",
              "Schiller                               int64\n",
              "Citology                               int64\n",
              "Biopsy                                 int64\n",
              "dtype: object"
            ]
          },
          "metadata": {},
          "execution_count": 5
        }
      ]
    },
    {
      "cell_type": "markdown",
      "source": [
        "## 2. Data Preprocessing (Data Cleaning)"
      ],
      "metadata": {
        "id": "oQyUyUNEXi8K"
      }
    },
    {
      "cell_type": "markdown",
      "source": [
        "####Dari Dataset tersebut, terlihat ada data yang berisi \"?\", kita lakukan preprocessing terlebih dahulu untuk seluruh data \"?\""
      ],
      "metadata": {
        "id": "o5R5XaaxQ9pG"
      }
    },
    {
      "cell_type": "code",
      "source": [
        "#mengubah data \"?\" menjadi Null Values\n",
        "for col in df.columns:\n",
        "    df[col].replace('?',np.nan,inplace=True )"
      ],
      "metadata": {
        "id": "CXotX456TOuQ"
      },
      "execution_count": 6,
      "outputs": []
    },
    {
      "cell_type": "code",
      "source": [
        "#cek null\n",
        "df.isna().sum()"
      ],
      "metadata": {
        "colab": {
          "base_uri": "https://localhost:8080/"
        },
        "id": "MCysev5fS7vu",
        "outputId": "07a570ef-d246-4a6f-9a3b-470b0807068f"
      },
      "execution_count": 7,
      "outputs": [
        {
          "output_type": "execute_result",
          "data": {
            "text/plain": [
              "Age                                     0\n",
              "Number of sexual partners              26\n",
              "First sexual intercourse                7\n",
              "Num of pregnancies                     56\n",
              "Smokes                                 13\n",
              "Smokes (years)                         13\n",
              "Smokes (packs/year)                    13\n",
              "Hormonal Contraceptives               108\n",
              "Hormonal Contraceptives (years)       108\n",
              "IUD                                   117\n",
              "IUD (years)                           117\n",
              "STDs                                  105\n",
              "STDs (number)                         105\n",
              "STDs:condylomatosis                   105\n",
              "STDs:cervical condylomatosis          105\n",
              "STDs:vaginal condylomatosis           105\n",
              "STDs:vulvo-perineal condylomatosis    105\n",
              "STDs:syphilis                         105\n",
              "STDs:pelvic inflammatory disease      105\n",
              "STDs:genital herpes                   105\n",
              "STDs:molluscum contagiosum            105\n",
              "STDs:AIDS                             105\n",
              "STDs:HIV                              105\n",
              "STDs:Hepatitis B                      105\n",
              "STDs:HPV                              105\n",
              "STDs: Number of diagnosis               0\n",
              "STDs: Time since first diagnosis      787\n",
              "STDs: Time since last diagnosis       787\n",
              "Dx:Cancer                               0\n",
              "Dx:CIN                                  0\n",
              "Dx:HPV                                  0\n",
              "Dx                                      0\n",
              "Hinselmann                              0\n",
              "Schiller                                0\n",
              "Citology                                0\n",
              "Biopsy                                  0\n",
              "dtype: int64"
            ]
          },
          "metadata": {},
          "execution_count": 7
        }
      ]
    },
    {
      "cell_type": "markdown",
      "source": [
        "dari informasi null tersebut, kolom '**STDs: Time since first diagnosis**' dan '**STDs: Time since last diagnosis**' memiliki terlalu banyak nilai null, sehingga kita drop saja"
      ],
      "metadata": {
        "id": "pPMIbIQgTSHm"
      }
    },
    {
      "cell_type": "code",
      "source": [
        "#drop kolom 'STDs: Time since first diagnosis' dan 'STDs: Time since last diagnosis'\n",
        "df.drop(columns=['STDs: Time since first diagnosis', 'STDs: Time since last diagnosis'], inplace=True)"
      ],
      "metadata": {
        "id": "SDjcOhNTNKj5"
      },
      "execution_count": 8,
      "outputs": []
    },
    {
      "cell_type": "code",
      "source": [
        "#cek null lagi\n",
        "df.isna().sum()"
      ],
      "metadata": {
        "colab": {
          "base_uri": "https://localhost:8080/"
        },
        "id": "t2lu2-VKT8im",
        "outputId": "517c27c6-d0b7-40bb-c16c-0fc4d4a9d97b"
      },
      "execution_count": 9,
      "outputs": [
        {
          "output_type": "execute_result",
          "data": {
            "text/plain": [
              "Age                                     0\n",
              "Number of sexual partners              26\n",
              "First sexual intercourse                7\n",
              "Num of pregnancies                     56\n",
              "Smokes                                 13\n",
              "Smokes (years)                         13\n",
              "Smokes (packs/year)                    13\n",
              "Hormonal Contraceptives               108\n",
              "Hormonal Contraceptives (years)       108\n",
              "IUD                                   117\n",
              "IUD (years)                           117\n",
              "STDs                                  105\n",
              "STDs (number)                         105\n",
              "STDs:condylomatosis                   105\n",
              "STDs:cervical condylomatosis          105\n",
              "STDs:vaginal condylomatosis           105\n",
              "STDs:vulvo-perineal condylomatosis    105\n",
              "STDs:syphilis                         105\n",
              "STDs:pelvic inflammatory disease      105\n",
              "STDs:genital herpes                   105\n",
              "STDs:molluscum contagiosum            105\n",
              "STDs:AIDS                             105\n",
              "STDs:HIV                              105\n",
              "STDs:Hepatitis B                      105\n",
              "STDs:HPV                              105\n",
              "STDs: Number of diagnosis               0\n",
              "Dx:Cancer                               0\n",
              "Dx:CIN                                  0\n",
              "Dx:HPV                                  0\n",
              "Dx                                      0\n",
              "Hinselmann                              0\n",
              "Schiller                                0\n",
              "Citology                                0\n",
              "Biopsy                                  0\n",
              "dtype: int64"
            ]
          },
          "metadata": {},
          "execution_count": 9
        }
      ]
    },
    {
      "cell_type": "code",
      "source": [
        "#drop null baris null yang lain\n",
        "df.dropna(inplace=True)\n",
        "df.isna().sum()"
      ],
      "metadata": {
        "colab": {
          "base_uri": "https://localhost:8080/"
        },
        "id": "9N_ZLODqUBc9",
        "outputId": "80d868a8-b19e-4bd3-ac70-842f24a224cf"
      },
      "execution_count": 10,
      "outputs": [
        {
          "output_type": "execute_result",
          "data": {
            "text/plain": [
              "Age                                   0\n",
              "Number of sexual partners             0\n",
              "First sexual intercourse              0\n",
              "Num of pregnancies                    0\n",
              "Smokes                                0\n",
              "Smokes (years)                        0\n",
              "Smokes (packs/year)                   0\n",
              "Hormonal Contraceptives               0\n",
              "Hormonal Contraceptives (years)       0\n",
              "IUD                                   0\n",
              "IUD (years)                           0\n",
              "STDs                                  0\n",
              "STDs (number)                         0\n",
              "STDs:condylomatosis                   0\n",
              "STDs:cervical condylomatosis          0\n",
              "STDs:vaginal condylomatosis           0\n",
              "STDs:vulvo-perineal condylomatosis    0\n",
              "STDs:syphilis                         0\n",
              "STDs:pelvic inflammatory disease      0\n",
              "STDs:genital herpes                   0\n",
              "STDs:molluscum contagiosum            0\n",
              "STDs:AIDS                             0\n",
              "STDs:HIV                              0\n",
              "STDs:Hepatitis B                      0\n",
              "STDs:HPV                              0\n",
              "STDs: Number of diagnosis             0\n",
              "Dx:Cancer                             0\n",
              "Dx:CIN                                0\n",
              "Dx:HPV                                0\n",
              "Dx                                    0\n",
              "Hinselmann                            0\n",
              "Schiller                              0\n",
              "Citology                              0\n",
              "Biopsy                                0\n",
              "dtype: int64"
            ]
          },
          "metadata": {},
          "execution_count": 10
        }
      ]
    },
    {
      "cell_type": "code",
      "source": [
        "#cek hasil akhir jumlah kolom dan baris\n",
        "df.shape"
      ],
      "metadata": {
        "colab": {
          "base_uri": "https://localhost:8080/"
        },
        "id": "1rcc3CN-ULom",
        "outputId": "0a7d87f5-30b6-474f-b6e2-931dea677cb1"
      },
      "execution_count": 11,
      "outputs": [
        {
          "output_type": "execute_result",
          "data": {
            "text/plain": [
              "(668, 34)"
            ]
          },
          "metadata": {},
          "execution_count": 11
        }
      ]
    },
    {
      "cell_type": "code",
      "source": [
        "#mengubah seluruh tipe data menjadi float\n",
        "df = df.astype(float)\n",
        "df.info()"
      ],
      "metadata": {
        "colab": {
          "base_uri": "https://localhost:8080/"
        },
        "id": "Bvqc-_LCVkeJ",
        "outputId": "787e9abe-449f-46f7-9c37-52d9e2cd0b6a"
      },
      "execution_count": 12,
      "outputs": [
        {
          "output_type": "stream",
          "name": "stdout",
          "text": [
            "<class 'pandas.core.frame.DataFrame'>\n",
            "Int64Index: 668 entries, 0 to 857\n",
            "Data columns (total 34 columns):\n",
            " #   Column                              Non-Null Count  Dtype  \n",
            "---  ------                              --------------  -----  \n",
            " 0   Age                                 668 non-null    float64\n",
            " 1   Number of sexual partners           668 non-null    float64\n",
            " 2   First sexual intercourse            668 non-null    float64\n",
            " 3   Num of pregnancies                  668 non-null    float64\n",
            " 4   Smokes                              668 non-null    float64\n",
            " 5   Smokes (years)                      668 non-null    float64\n",
            " 6   Smokes (packs/year)                 668 non-null    float64\n",
            " 7   Hormonal Contraceptives             668 non-null    float64\n",
            " 8   Hormonal Contraceptives (years)     668 non-null    float64\n",
            " 9   IUD                                 668 non-null    float64\n",
            " 10  IUD (years)                         668 non-null    float64\n",
            " 11  STDs                                668 non-null    float64\n",
            " 12  STDs (number)                       668 non-null    float64\n",
            " 13  STDs:condylomatosis                 668 non-null    float64\n",
            " 14  STDs:cervical condylomatosis        668 non-null    float64\n",
            " 15  STDs:vaginal condylomatosis         668 non-null    float64\n",
            " 16  STDs:vulvo-perineal condylomatosis  668 non-null    float64\n",
            " 17  STDs:syphilis                       668 non-null    float64\n",
            " 18  STDs:pelvic inflammatory disease    668 non-null    float64\n",
            " 19  STDs:genital herpes                 668 non-null    float64\n",
            " 20  STDs:molluscum contagiosum          668 non-null    float64\n",
            " 21  STDs:AIDS                           668 non-null    float64\n",
            " 22  STDs:HIV                            668 non-null    float64\n",
            " 23  STDs:Hepatitis B                    668 non-null    float64\n",
            " 24  STDs:HPV                            668 non-null    float64\n",
            " 25  STDs: Number of diagnosis           668 non-null    float64\n",
            " 26  Dx:Cancer                           668 non-null    float64\n",
            " 27  Dx:CIN                              668 non-null    float64\n",
            " 28  Dx:HPV                              668 non-null    float64\n",
            " 29  Dx                                  668 non-null    float64\n",
            " 30  Hinselmann                          668 non-null    float64\n",
            " 31  Schiller                            668 non-null    float64\n",
            " 32  Citology                            668 non-null    float64\n",
            " 33  Biopsy                              668 non-null    float64\n",
            "dtypes: float64(34)\n",
            "memory usage: 182.7 KB\n"
          ]
        }
      ]
    },
    {
      "cell_type": "code",
      "source": [
        "#lihat deskripsi statistik\n",
        "df.describe()"
      ],
      "metadata": {
        "colab": {
          "base_uri": "https://localhost:8080/",
          "height": 446
        },
        "id": "Yqw6DvtAU9EM",
        "outputId": "c6c2a73d-f44a-4271-f987-667b5e0a8db6"
      },
      "execution_count": 13,
      "outputs": [
        {
          "output_type": "execute_result",
          "data": {
            "text/plain": [
              "              Age  Number of sexual partners  First sexual intercourse  \\\n",
              "count  668.000000                 668.000000                668.000000   \n",
              "mean    27.264970                   2.523952                 17.142216   \n",
              "std      8.727432                   1.640299                  2.852046   \n",
              "min     13.000000                   1.000000                 10.000000   \n",
              "25%     21.000000                   2.000000                 15.000000   \n",
              "50%     26.000000                   2.000000                 17.000000   \n",
              "75%     33.000000                   3.000000                 18.000000   \n",
              "max     84.000000                  28.000000                 32.000000   \n",
              "\n",
              "       Num of pregnancies      Smokes  Smokes (years)  Smokes (packs/year)  \\\n",
              "count          668.000000  668.000000      668.000000           668.000000   \n",
              "mean             2.323353    0.143713        1.235524             0.458953   \n",
              "std              1.465319    0.351061        4.193611             2.336308   \n",
              "min              0.000000    0.000000        0.000000             0.000000   \n",
              "25%              1.000000    0.000000        0.000000             0.000000   \n",
              "50%              2.000000    0.000000        0.000000             0.000000   \n",
              "75%              3.000000    0.000000        0.000000             0.000000   \n",
              "max             11.000000    1.000000       37.000000            37.000000   \n",
              "\n",
              "       Hormonal Contraceptives  Hormonal Contraceptives (years)         IUD  \\\n",
              "count               668.000000                       668.000000  668.000000   \n",
              "mean                  0.643713                         2.290037    0.112275   \n",
              "std                   0.479260                         3.724400    0.315942   \n",
              "min                   0.000000                         0.000000    0.000000   \n",
              "25%                   0.000000                         0.000000    0.000000   \n",
              "50%                   1.000000                         0.500000    0.000000   \n",
              "75%                   1.000000                         3.000000    0.000000   \n",
              "max                   1.000000                        22.000000    1.000000   \n",
              "\n",
              "       ...    STDs:HPV  STDs: Number of diagnosis   Dx:Cancer      Dx:CIN  \\\n",
              "count  ...  668.000000                 668.000000  668.000000  668.000000   \n",
              "mean   ...    0.002994                   0.092814    0.025449    0.004491   \n",
              "std    ...    0.054677                   0.310355    0.157603    0.066915   \n",
              "min    ...    0.000000                   0.000000    0.000000    0.000000   \n",
              "25%    ...    0.000000                   0.000000    0.000000    0.000000   \n",
              "50%    ...    0.000000                   0.000000    0.000000    0.000000   \n",
              "75%    ...    0.000000                   0.000000    0.000000    0.000000   \n",
              "max    ...    1.000000                   3.000000    1.000000    1.000000   \n",
              "\n",
              "           Dx:HPV          Dx  Hinselmann    Schiller    Citology      Biopsy  \n",
              "count  668.000000  668.000000  668.000000  668.000000  668.000000  668.000000  \n",
              "mean     0.023952    0.023952    0.044910    0.094311    0.058383    0.067365  \n",
              "std      0.153015    0.153015    0.207262    0.292480    0.234642    0.250841  \n",
              "min      0.000000    0.000000    0.000000    0.000000    0.000000    0.000000  \n",
              "25%      0.000000    0.000000    0.000000    0.000000    0.000000    0.000000  \n",
              "50%      0.000000    0.000000    0.000000    0.000000    0.000000    0.000000  \n",
              "75%      0.000000    0.000000    0.000000    0.000000    0.000000    0.000000  \n",
              "max      1.000000    1.000000    1.000000    1.000000    1.000000    1.000000  \n",
              "\n",
              "[8 rows x 34 columns]"
            ],
            "text/html": [
              "\n",
              "  <div id=\"df-cc34f968-fb22-47a5-901e-e6fad8cceb9e\">\n",
              "    <div class=\"colab-df-container\">\n",
              "      <div>\n",
              "<style scoped>\n",
              "    .dataframe tbody tr th:only-of-type {\n",
              "        vertical-align: middle;\n",
              "    }\n",
              "\n",
              "    .dataframe tbody tr th {\n",
              "        vertical-align: top;\n",
              "    }\n",
              "\n",
              "    .dataframe thead th {\n",
              "        text-align: right;\n",
              "    }\n",
              "</style>\n",
              "<table border=\"1\" class=\"dataframe\">\n",
              "  <thead>\n",
              "    <tr style=\"text-align: right;\">\n",
              "      <th></th>\n",
              "      <th>Age</th>\n",
              "      <th>Number of sexual partners</th>\n",
              "      <th>First sexual intercourse</th>\n",
              "      <th>Num of pregnancies</th>\n",
              "      <th>Smokes</th>\n",
              "      <th>Smokes (years)</th>\n",
              "      <th>Smokes (packs/year)</th>\n",
              "      <th>Hormonal Contraceptives</th>\n",
              "      <th>Hormonal Contraceptives (years)</th>\n",
              "      <th>IUD</th>\n",
              "      <th>...</th>\n",
              "      <th>STDs:HPV</th>\n",
              "      <th>STDs: Number of diagnosis</th>\n",
              "      <th>Dx:Cancer</th>\n",
              "      <th>Dx:CIN</th>\n",
              "      <th>Dx:HPV</th>\n",
              "      <th>Dx</th>\n",
              "      <th>Hinselmann</th>\n",
              "      <th>Schiller</th>\n",
              "      <th>Citology</th>\n",
              "      <th>Biopsy</th>\n",
              "    </tr>\n",
              "  </thead>\n",
              "  <tbody>\n",
              "    <tr>\n",
              "      <th>count</th>\n",
              "      <td>668.000000</td>\n",
              "      <td>668.000000</td>\n",
              "      <td>668.000000</td>\n",
              "      <td>668.000000</td>\n",
              "      <td>668.000000</td>\n",
              "      <td>668.000000</td>\n",
              "      <td>668.000000</td>\n",
              "      <td>668.000000</td>\n",
              "      <td>668.000000</td>\n",
              "      <td>668.000000</td>\n",
              "      <td>...</td>\n",
              "      <td>668.000000</td>\n",
              "      <td>668.000000</td>\n",
              "      <td>668.000000</td>\n",
              "      <td>668.000000</td>\n",
              "      <td>668.000000</td>\n",
              "      <td>668.000000</td>\n",
              "      <td>668.000000</td>\n",
              "      <td>668.000000</td>\n",
              "      <td>668.000000</td>\n",
              "      <td>668.000000</td>\n",
              "    </tr>\n",
              "    <tr>\n",
              "      <th>mean</th>\n",
              "      <td>27.264970</td>\n",
              "      <td>2.523952</td>\n",
              "      <td>17.142216</td>\n",
              "      <td>2.323353</td>\n",
              "      <td>0.143713</td>\n",
              "      <td>1.235524</td>\n",
              "      <td>0.458953</td>\n",
              "      <td>0.643713</td>\n",
              "      <td>2.290037</td>\n",
              "      <td>0.112275</td>\n",
              "      <td>...</td>\n",
              "      <td>0.002994</td>\n",
              "      <td>0.092814</td>\n",
              "      <td>0.025449</td>\n",
              "      <td>0.004491</td>\n",
              "      <td>0.023952</td>\n",
              "      <td>0.023952</td>\n",
              "      <td>0.044910</td>\n",
              "      <td>0.094311</td>\n",
              "      <td>0.058383</td>\n",
              "      <td>0.067365</td>\n",
              "    </tr>\n",
              "    <tr>\n",
              "      <th>std</th>\n",
              "      <td>8.727432</td>\n",
              "      <td>1.640299</td>\n",
              "      <td>2.852046</td>\n",
              "      <td>1.465319</td>\n",
              "      <td>0.351061</td>\n",
              "      <td>4.193611</td>\n",
              "      <td>2.336308</td>\n",
              "      <td>0.479260</td>\n",
              "      <td>3.724400</td>\n",
              "      <td>0.315942</td>\n",
              "      <td>...</td>\n",
              "      <td>0.054677</td>\n",
              "      <td>0.310355</td>\n",
              "      <td>0.157603</td>\n",
              "      <td>0.066915</td>\n",
              "      <td>0.153015</td>\n",
              "      <td>0.153015</td>\n",
              "      <td>0.207262</td>\n",
              "      <td>0.292480</td>\n",
              "      <td>0.234642</td>\n",
              "      <td>0.250841</td>\n",
              "    </tr>\n",
              "    <tr>\n",
              "      <th>min</th>\n",
              "      <td>13.000000</td>\n",
              "      <td>1.000000</td>\n",
              "      <td>10.000000</td>\n",
              "      <td>0.000000</td>\n",
              "      <td>0.000000</td>\n",
              "      <td>0.000000</td>\n",
              "      <td>0.000000</td>\n",
              "      <td>0.000000</td>\n",
              "      <td>0.000000</td>\n",
              "      <td>0.000000</td>\n",
              "      <td>...</td>\n",
              "      <td>0.000000</td>\n",
              "      <td>0.000000</td>\n",
              "      <td>0.000000</td>\n",
              "      <td>0.000000</td>\n",
              "      <td>0.000000</td>\n",
              "      <td>0.000000</td>\n",
              "      <td>0.000000</td>\n",
              "      <td>0.000000</td>\n",
              "      <td>0.000000</td>\n",
              "      <td>0.000000</td>\n",
              "    </tr>\n",
              "    <tr>\n",
              "      <th>25%</th>\n",
              "      <td>21.000000</td>\n",
              "      <td>2.000000</td>\n",
              "      <td>15.000000</td>\n",
              "      <td>1.000000</td>\n",
              "      <td>0.000000</td>\n",
              "      <td>0.000000</td>\n",
              "      <td>0.000000</td>\n",
              "      <td>0.000000</td>\n",
              "      <td>0.000000</td>\n",
              "      <td>0.000000</td>\n",
              "      <td>...</td>\n",
              "      <td>0.000000</td>\n",
              "      <td>0.000000</td>\n",
              "      <td>0.000000</td>\n",
              "      <td>0.000000</td>\n",
              "      <td>0.000000</td>\n",
              "      <td>0.000000</td>\n",
              "      <td>0.000000</td>\n",
              "      <td>0.000000</td>\n",
              "      <td>0.000000</td>\n",
              "      <td>0.000000</td>\n",
              "    </tr>\n",
              "    <tr>\n",
              "      <th>50%</th>\n",
              "      <td>26.000000</td>\n",
              "      <td>2.000000</td>\n",
              "      <td>17.000000</td>\n",
              "      <td>2.000000</td>\n",
              "      <td>0.000000</td>\n",
              "      <td>0.000000</td>\n",
              "      <td>0.000000</td>\n",
              "      <td>1.000000</td>\n",
              "      <td>0.500000</td>\n",
              "      <td>0.000000</td>\n",
              "      <td>...</td>\n",
              "      <td>0.000000</td>\n",
              "      <td>0.000000</td>\n",
              "      <td>0.000000</td>\n",
              "      <td>0.000000</td>\n",
              "      <td>0.000000</td>\n",
              "      <td>0.000000</td>\n",
              "      <td>0.000000</td>\n",
              "      <td>0.000000</td>\n",
              "      <td>0.000000</td>\n",
              "      <td>0.000000</td>\n",
              "    </tr>\n",
              "    <tr>\n",
              "      <th>75%</th>\n",
              "      <td>33.000000</td>\n",
              "      <td>3.000000</td>\n",
              "      <td>18.000000</td>\n",
              "      <td>3.000000</td>\n",
              "      <td>0.000000</td>\n",
              "      <td>0.000000</td>\n",
              "      <td>0.000000</td>\n",
              "      <td>1.000000</td>\n",
              "      <td>3.000000</td>\n",
              "      <td>0.000000</td>\n",
              "      <td>...</td>\n",
              "      <td>0.000000</td>\n",
              "      <td>0.000000</td>\n",
              "      <td>0.000000</td>\n",
              "      <td>0.000000</td>\n",
              "      <td>0.000000</td>\n",
              "      <td>0.000000</td>\n",
              "      <td>0.000000</td>\n",
              "      <td>0.000000</td>\n",
              "      <td>0.000000</td>\n",
              "      <td>0.000000</td>\n",
              "    </tr>\n",
              "    <tr>\n",
              "      <th>max</th>\n",
              "      <td>84.000000</td>\n",
              "      <td>28.000000</td>\n",
              "      <td>32.000000</td>\n",
              "      <td>11.000000</td>\n",
              "      <td>1.000000</td>\n",
              "      <td>37.000000</td>\n",
              "      <td>37.000000</td>\n",
              "      <td>1.000000</td>\n",
              "      <td>22.000000</td>\n",
              "      <td>1.000000</td>\n",
              "      <td>...</td>\n",
              "      <td>1.000000</td>\n",
              "      <td>3.000000</td>\n",
              "      <td>1.000000</td>\n",
              "      <td>1.000000</td>\n",
              "      <td>1.000000</td>\n",
              "      <td>1.000000</td>\n",
              "      <td>1.000000</td>\n",
              "      <td>1.000000</td>\n",
              "      <td>1.000000</td>\n",
              "      <td>1.000000</td>\n",
              "    </tr>\n",
              "  </tbody>\n",
              "</table>\n",
              "<p>8 rows × 34 columns</p>\n",
              "</div>\n",
              "      <button class=\"colab-df-convert\" onclick=\"convertToInteractive('df-cc34f968-fb22-47a5-901e-e6fad8cceb9e')\"\n",
              "              title=\"Convert this dataframe to an interactive table.\"\n",
              "              style=\"display:none;\">\n",
              "        \n",
              "  <svg xmlns=\"http://www.w3.org/2000/svg\" height=\"24px\"viewBox=\"0 0 24 24\"\n",
              "       width=\"24px\">\n",
              "    <path d=\"M0 0h24v24H0V0z\" fill=\"none\"/>\n",
              "    <path d=\"M18.56 5.44l.94 2.06.94-2.06 2.06-.94-2.06-.94-.94-2.06-.94 2.06-2.06.94zm-11 1L8.5 8.5l.94-2.06 2.06-.94-2.06-.94L8.5 2.5l-.94 2.06-2.06.94zm10 10l.94 2.06.94-2.06 2.06-.94-2.06-.94-.94-2.06-.94 2.06-2.06.94z\"/><path d=\"M17.41 7.96l-1.37-1.37c-.4-.4-.92-.59-1.43-.59-.52 0-1.04.2-1.43.59L10.3 9.45l-7.72 7.72c-.78.78-.78 2.05 0 2.83L4 21.41c.39.39.9.59 1.41.59.51 0 1.02-.2 1.41-.59l7.78-7.78 2.81-2.81c.8-.78.8-2.07 0-2.86zM5.41 20L4 18.59l7.72-7.72 1.47 1.35L5.41 20z\"/>\n",
              "  </svg>\n",
              "      </button>\n",
              "      \n",
              "  <style>\n",
              "    .colab-df-container {\n",
              "      display:flex;\n",
              "      flex-wrap:wrap;\n",
              "      gap: 12px;\n",
              "    }\n",
              "\n",
              "    .colab-df-convert {\n",
              "      background-color: #E8F0FE;\n",
              "      border: none;\n",
              "      border-radius: 50%;\n",
              "      cursor: pointer;\n",
              "      display: none;\n",
              "      fill: #1967D2;\n",
              "      height: 32px;\n",
              "      padding: 0 0 0 0;\n",
              "      width: 32px;\n",
              "    }\n",
              "\n",
              "    .colab-df-convert:hover {\n",
              "      background-color: #E2EBFA;\n",
              "      box-shadow: 0px 1px 2px rgba(60, 64, 67, 0.3), 0px 1px 3px 1px rgba(60, 64, 67, 0.15);\n",
              "      fill: #174EA6;\n",
              "    }\n",
              "\n",
              "    [theme=dark] .colab-df-convert {\n",
              "      background-color: #3B4455;\n",
              "      fill: #D2E3FC;\n",
              "    }\n",
              "\n",
              "    [theme=dark] .colab-df-convert:hover {\n",
              "      background-color: #434B5C;\n",
              "      box-shadow: 0px 1px 3px 1px rgba(0, 0, 0, 0.15);\n",
              "      filter: drop-shadow(0px 1px 2px rgba(0, 0, 0, 0.3));\n",
              "      fill: #FFFFFF;\n",
              "    }\n",
              "  </style>\n",
              "\n",
              "      <script>\n",
              "        const buttonEl =\n",
              "          document.querySelector('#df-cc34f968-fb22-47a5-901e-e6fad8cceb9e button.colab-df-convert');\n",
              "        buttonEl.style.display =\n",
              "          google.colab.kernel.accessAllowed ? 'block' : 'none';\n",
              "\n",
              "        async function convertToInteractive(key) {\n",
              "          const element = document.querySelector('#df-cc34f968-fb22-47a5-901e-e6fad8cceb9e');\n",
              "          const dataTable =\n",
              "            await google.colab.kernel.invokeFunction('convertToInteractive',\n",
              "                                                     [key], {});\n",
              "          if (!dataTable) return;\n",
              "\n",
              "          const docLinkHtml = 'Like what you see? Visit the ' +\n",
              "            '<a target=\"_blank\" href=https://colab.research.google.com/notebooks/data_table.ipynb>data table notebook</a>'\n",
              "            + ' to learn more about interactive tables.';\n",
              "          element.innerHTML = '';\n",
              "          dataTable['output_type'] = 'display_data';\n",
              "          await google.colab.output.renderOutput(dataTable, element);\n",
              "          const docLink = document.createElement('div');\n",
              "          docLink.innerHTML = docLinkHtml;\n",
              "          element.appendChild(docLink);\n",
              "        }\n",
              "      </script>\n",
              "    </div>\n",
              "  </div>\n",
              "  "
            ]
          },
          "metadata": {},
          "execution_count": 13
        }
      ]
    },
    {
      "cell_type": "markdown",
      "source": [
        "\n",
        "Dari deskripsi statistik diatas, dapat disimpulkan bahwa\n",
        "* Nilai maksimum dari \"Age\" adalah 84, yang mana nilainya terlalu besar jika dibandingkan dengan nilai maksimum pada kolom lain, sehingga perlu dilakukan standarisasi skala seluruh kolom agar tidak mengganggu proses klasifikasi\n",
        "* Nilai maksimal dari \"Num of pregnanices\" adalah 11 dimana rata-ratanya hanya sebesar 2 sehingga dapat disimpulkan bahwa nilai 11 adalah outlier dari kolom tersebut\n",
        "* Kolom \"STDs:cervical condylomatosis\" dan \"STDs:AIDS\" hanya berisi nilai 0 yang membuat fitur tersebut tidak berguna. sehingga kita perlu drop.\n",
        "* Kolom \"Dx:CIN\", \"Dx:HPV\" tidak berhubungan dengan diagnosis kanker serviks, dan kolom \"Dx\" hanya merupakan jumlah diagnosis sehingga tidak berkaitan dan perlu di drop"
      ],
      "metadata": {
        "id": "j3ovdW-dVN9X"
      }
    },
    {
      "cell_type": "code",
      "source": [
        "#menghapus kolom tidak berguna\n",
        "df.drop(columns = ['STDs:cervical condylomatosis', 'STDs:AIDS', 'Dx:CIN', 'Dx:CIN', 'Dx'], inplace=True)"
      ],
      "metadata": {
        "id": "p-opMDs_WRtX"
      },
      "execution_count": 14,
      "outputs": []
    },
    {
      "cell_type": "code",
      "source": [
        "#cek korelasi kolom\n",
        "plt.figure(figsize=(12,8))\n",
        "sns.heatmap(df.corr(),cmap='coolwarm')"
      ],
      "metadata": {
        "colab": {
          "base_uri": "https://localhost:8080/",
          "height": 675
        },
        "id": "igQpEIc1XYss",
        "outputId": "8dc3f055-cddb-446e-8084-68f22593e640"
      },
      "execution_count": 15,
      "outputs": [
        {
          "output_type": "execute_result",
          "data": {
            "text/plain": [
              "<matplotlib.axes._subplots.AxesSubplot at 0x7f4fa6336d00>"
            ]
          },
          "metadata": {},
          "execution_count": 15
        },
        {
          "output_type": "display_data",
          "data": {
            "text/plain": [
              "<Figure size 864x576 with 2 Axes>"
            ],
            "image/png": "[encoded data removed]"
          },
          "metadata": {
            "needs_background": "light"
          }
        }
      ]
    },
    {
      "cell_type": "code",
      "source": [
        "#menghapus data duplikat\n",
        "df.drop_duplicates(inplace=True)"
      ],
      "metadata": {
        "id": "n0fwduu3XvUX"
      },
      "execution_count": 16,
      "outputs": []
    },
    {
      "cell_type": "markdown",
      "source": [
        "##3. Exploratory Data Analysis"
      ],
      "metadata": {
        "id": "W6DhlOYBUW-g"
      }
    },
    {
      "cell_type": "code",
      "source": [
        "#melihat hasil diagnosis kanker serviks\n",
        "plt.figure(figsize=(4, 3))\n",
        "splot = sns.countplot(df['Dx:Cancer'])\n",
        "for p in splot.patches:\n",
        "  splot.annotate(format(p.get_height(), '.2f'), (p.get_x() + p.get_width() / 2., p.get_height()),  ha = 'center', va = 'center', xytext = (0, 10), textcoords = 'offset points')"
      ],
      "metadata": {
        "colab": {
          "base_uri": "https://localhost:8080/",
          "height": 232
        },
        "id": "Gttvrm1-UZT7",
        "outputId": "eb756a0f-30ab-429f-9798-f5808c00a691"
      },
      "execution_count": 17,
      "outputs": [
        {
          "output_type": "display_data",
          "data": {
            "text/plain": [
              "<Figure size 288x216 with 1 Axes>"
            ],
            "image/png": "[encoded data removed]"
          },
          "metadata": {
            "needs_background": "light"
          }
        }
      ]
    },
    {
      "cell_type": "markdown",
      "source": [
        "Dari hasil EDA tersebut, dapat kita lihat bahwa terdapat 633 data negatif dan 17 data positif yang artinya class tersebut tidak balance sehingga dapat membuat performance tidak bagus.\n",
        "Tetapi untuk sementara kita abaikan terlebih dahulu."
      ],
      "metadata": {
        "id": "sZv3Nx6Rameb"
      }
    },
    {
      "cell_type": "markdown",
      "source": [
        "##4. Feature Selection"
      ],
      "metadata": {
        "id": "60wM_-3bWluj"
      }
    },
    {
      "cell_type": "code",
      "source": [
        "#seleksi dataframe menjadi fitur dan target\n",
        "\n",
        "col = df.columns\n",
        "\n",
        "#independent variable adalah seluruh kolom selain Dx:Cancer\n",
        "X = df.iloc[:, col != 'Dx:Cancer'].values\n",
        "\n",
        "#dependent variable adalah kolom Dx:Cancer\n",
        "y = df[['Dx:Cancer']].values"
      ],
      "metadata": {
        "id": "UJ3zY1MebET3"
      },
      "execution_count": 18,
      "outputs": []
    },
    {
      "cell_type": "code",
      "source": [
        "#standaridasi values berdasarkan analisis deskripsi statistik sebelumnya\n",
        "\n",
        "std = StandardScaler()\n",
        "X = std.fit_transform(X)"
      ],
      "metadata": {
        "id": "N9jCybAebpVC"
      },
      "execution_count": 19,
      "outputs": []
    },
    {
      "cell_type": "code",
      "source": [
        "#menampilkan 5 nilai awal X dan y\n",
        "print(f'X: \\n {X[:5]}')\n",
        "print(f'y: \\n {y[:5]}')"
      ],
      "metadata": {
        "colab": {
          "base_uri": "https://localhost:8080/"
        },
        "id": "TBzh-1ORcBrx",
        "outputId": "be969158-b358-4631-9d16-274c142198fe"
      },
      "execution_count": 20,
      "outputs": [
        {
          "output_type": "stream",
          "name": "stdout",
          "text": [
            "X: \n",
            " [[-1.09209185  0.8799257  -0.75975637 -0.91936906 -0.41627539 -0.29925615\n",
            "  -0.19940107 -1.37905247 -0.62423406 -0.36115756 -0.26894667 -0.33333333\n",
            "  -0.30629694 -0.24568046 -0.07868895 -0.24214029 -0.15369466 -0.03925343\n",
            "  -0.03925343 -0.03925343 -0.14285714 -0.03925343 -0.05555556 -0.30377561\n",
            "  -0.15886029 -0.21997067 -0.32471861 -0.24918167 -0.26945734]\n",
            " [-1.43724243 -0.93964494 -1.10925506 -0.91936906 -0.41627539 -0.29925615\n",
            "  -0.19940107 -1.37905247 -0.62423406 -0.36115756 -0.26894667 -0.33333333\n",
            "  -0.30629694 -0.24568046 -0.07868895 -0.24214029 -0.15369466 -0.03925343\n",
            "  -0.03925343 -0.03925343 -0.14285714 -0.03925343 -0.05555556 -0.30377561\n",
            "  -0.15886029 -0.21997067 -0.32471861 -0.24918167 -0.26945734]\n",
            " [ 2.81961477  1.48644925 -0.41025769  1.12018687  2.40225588  8.42102868\n",
            "  15.44279945  0.72513557  0.1749288  -0.36115756 -0.26894667 -0.33333333\n",
            "  -0.30629694 -0.24568046 -0.07868895 -0.24214029 -0.15369466 -0.03925343\n",
            "  -0.03925343 -0.03925343 -0.14285714 -0.03925343 -0.05555556 -0.30377561\n",
            "   6.29483916 -0.21997067 -0.32471861 -0.24918167 -0.26945734]\n",
            " [ 2.1293136   0.27340215  1.33723574  1.12018687 -0.41627539 -0.29925615\n",
            "  -0.19940107  0.72513557  3.37158023 -0.36115756 -0.26894667 -0.33333333\n",
            "  -0.30629694 -0.24568046 -0.07868895 -0.24214029 -0.15369466 -0.03925343\n",
            "  -0.03925343 -0.03925343 -0.14285714 -0.03925343 -0.05555556 -0.30377561\n",
            "  -0.15886029 -0.21997067 -0.32471861 -0.24918167 -0.26945734]\n",
            " [ 1.66911282  0.27340215  2.03623311 -0.23951708 -0.41627539 -0.29925615\n",
            "  -0.19940107 -1.37905247 -0.62423406 -0.36115756 -0.26894667 -0.33333333\n",
            "  -0.30629694 -0.24568046 -0.07868895 -0.24214029 -0.15369466 -0.03925343\n",
            "  -0.03925343 -0.03925343 -0.14285714 -0.03925343 -0.05555556 -0.30377561\n",
            "  -0.15886029 -0.21997067 -0.32471861 -0.24918167 -0.26945734]]\n",
            "y: \n",
            " [[0.]\n",
            " [0.]\n",
            " [1.]\n",
            " [0.]\n",
            " [0.]]\n"
          ]
        }
      ]
    },
    {
      "cell_type": "markdown",
      "source": [
        "##5. Classification Model and Prediction"
      ],
      "metadata": {
        "id": "8GxCsIyqZoOm"
      }
    },
    {
      "cell_type": "code",
      "source": [
        "#split dataset dengan test size 25%\n",
        "X_train, X_test, y_train, y_test = train_test_split(X, y, test_size=0.25, random_state=42)"
      ],
      "metadata": {
        "id": "62rRL9lTyt9l"
      },
      "execution_count": 21,
      "outputs": []
    },
    {
      "cell_type": "code",
      "source": [
        "#print bentuk dari hasil data split\n",
        "print('X_train shape: ',X_train.shape)\n",
        "print('X_test shape: ',X_test.shape)\n",
        "print('y_train shape: ',y_train.shape)\n",
        "print('y_test shape: ',y_test.shape)"
      ],
      "metadata": {
        "colab": {
          "base_uri": "https://localhost:8080/"
        },
        "id": "GNlIUp7RzCtm",
        "outputId": "554706b1-0113-40fd-ddc5-1b3a3b051526"
      },
      "execution_count": 22,
      "outputs": [
        {
          "output_type": "stream",
          "name": "stdout",
          "text": [
            "X_train shape:  (487, 29)\n",
            "X_test shape:  (163, 29)\n",
            "y_train shape:  (487, 1)\n",
            "y_test shape:  (163, 1)\n"
          ]
        }
      ]
    },
    {
      "cell_type": "code",
      "source": [
        "#membuat model klasifikasi dengan SVM\n",
        "classifierSVM= svm.SVC(kernel='linear')"
      ],
      "metadata": {
        "id": "xfzKwd8EzG9t"
      },
      "execution_count": 23,
      "outputs": []
    },
    {
      "cell_type": "code",
      "source": [
        "#training model klasifikasi\n",
        "classifierSVM.fit(X_train, y_train)"
      ],
      "metadata": {
        "colab": {
          "base_uri": "https://localhost:8080/"
        },
        "id": "6TseeeshdY4q",
        "outputId": "8a9680f4-a99e-4e38-f24f-57b0683f8fe1"
      },
      "execution_count": 24,
      "outputs": [
        {
          "output_type": "execute_result",
          "data": {
            "text/plain": [
              "SVC(kernel='linear')"
            ]
          },
          "metadata": {},
          "execution_count": 24
        }
      ]
    },
    {
      "cell_type": "code",
      "source": [
        "#melakukan prediksi\n",
        "SVM_pred = classifierSVM.predict(X_test)"
      ],
      "metadata": {
        "id": "_sP5b-IhzIcN"
      },
      "execution_count": 25,
      "outputs": []
    },
    {
      "cell_type": "code",
      "source": [
        "#menampilkan hasil prediksi 15 kolom pertama\n",
        "print('index \\t cancer');\n",
        "for i,y in enumerate(SVM_pred[:15]):\n",
        "  print(f'{i} \\t {y}')"
      ],
      "metadata": {
        "colab": {
          "base_uri": "https://localhost:8080/"
        },
        "id": "nf7ZvbNMzMMc",
        "outputId": "a39c7053-8985-4eb4-fc33-ddd7c4926154"
      },
      "execution_count": 26,
      "outputs": [
        {
          "output_type": "stream",
          "name": "stdout",
          "text": [
            "index \t cancer\n",
            "0 \t 0.0\n",
            "1 \t 0.0\n",
            "2 \t 0.0\n",
            "3 \t 0.0\n",
            "4 \t 0.0\n",
            "5 \t 0.0\n",
            "6 \t 0.0\n",
            "7 \t 0.0\n",
            "8 \t 0.0\n",
            "9 \t 0.0\n",
            "10 \t 0.0\n",
            "11 \t 0.0\n",
            "12 \t 0.0\n",
            "13 \t 0.0\n",
            "14 \t 0.0\n"
          ]
        }
      ]
    },
    {
      "cell_type": "markdown",
      "source": [
        "## 6. Model Evaluation"
      ],
      "metadata": {
        "id": "fDyl2OH2acnt"
      }
    },
    {
      "cell_type": "code",
      "source": [
        "#menampilkan confussion matrix antara Naive Bayes\n",
        "plot_confusion_matrix(classifierSVM,X_test,y_test)\n",
        "plt.show()"
      ],
      "metadata": {
        "colab": {
          "base_uri": "https://localhost:8080/",
          "height": 279
        },
        "id": "JrMbvW_U0Yf1",
        "outputId": "b9be7ff2-ddeb-450e-a19e-eee20a69bd11"
      },
      "execution_count": 27,
      "outputs": [
        {
          "output_type": "display_data",
          "data": {
            "text/plain": [
              "<Figure size 432x288 with 2 Axes>"
            ],
            "image/png": "[encoded data removed]"
          },
          "metadata": {
            "needs_background": "light"
          }
        }
      ]
    },
    {
      "cell_type": "code",
      "source": [
        "#menampilkan classification report untuk SVM Classification\n",
        "print('-------------------------------------------------------')\n",
        "print('Classification Report for SVM Classification')\n",
        "print('-------------------------------------------------------')\n",
        "print(classification_report(y_test,SVM_pred,zero_division=0))"
      ],
      "metadata": {
        "colab": {
          "base_uri": "https://localhost:8080/"
        },
        "id": "LxVFeYy9zZrM",
        "outputId": "40de04d6-6b6e-49d9-f180-944d132efff7"
      },
      "execution_count": 28,
      "outputs": [
        {
          "output_type": "stream",
          "name": "stdout",
          "text": [
            "-------------------------------------------------------\n",
            "Classification Report for SVM Classification\n",
            "-------------------------------------------------------\n",
            "              precision    recall  f1-score   support\n",
            "\n",
            "         0.0       0.99      0.99      0.99       157\n",
            "         1.0       0.83      0.83      0.83         6\n",
            "\n",
            "    accuracy                           0.99       163\n",
            "   macro avg       0.91      0.91      0.91       163\n",
            "weighted avg       0.99      0.99      0.99       163\n",
            "\n"
          ]
        }
      ]
    },
    {
      "cell_type": "markdown",
      "source": [
        "###ANALISIS"
      ],
      "metadata": {
        "id": "Dpz4BKfa0fv-"
      }
    },
    {
      "cell_type": "markdown",
      "source": [
        "Berdasarkan Confusion Matrix, maka klasifikasi tersebut menghasilkan:\n",
        "\n",
        "* True Negative : 156\n",
        "* True Positive : 5\n",
        "* False Positive : 1\n",
        "* False Negative : 1\n",
        "\n",
        "**Maka dapat dikatakan bahwa klasifikasi tersebut dapat benar-benar melakukan prediksi positif ataupun negatif karena nilai false nya sangat sedikit**"
      ],
      "metadata": {
        "id": "RBL5rW7l0u6U"
      }
    },
    {
      "cell_type": "markdown",
      "source": [
        "Berdasarkan Classification Report, maka klasifikasi tersebut menghasilkan: \n",
        "* Akurasi : 99%\n",
        "* Nilai Presisi Negatif : 99%\n",
        "* Nilai Presisi Positif : 83%\n",
        "* Nilai Recall Negatif : 99%\n",
        "* Nilai Recall Positif : 83%\n",
        "\n",
        "Artinya: \n",
        "* **Berdasakan nilai presisi, maka Algoritma SVM telah bagus dalam melakukan klasifikasi dataset tersebut karena banyak True Positif dengan prediksi yang dilakukan (99% dan 83%)**\n",
        "* **Berdasarkan nilai Recall, maka Algoritma SVM telah bagus dalam melakukan klasifikasi dataset tersebut karena banyak True Positif yang sesuai dengan class sebenarnya (99% dan 83%)**\n",
        "* **Nilai akurasi yang cukup tinggi (99%) mengindikasikan bahwa klasifikasi dataset tersebut dengan SVM telah menghasilkan prediksi class yang baik**"
      ],
      "metadata": {
        "id": "RXkYdIQg1fgg"
      }
    }
  ]
}