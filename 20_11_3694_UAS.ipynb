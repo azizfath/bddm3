{
  "nbformat": 4,
  "nbformat_minor": 0,
  "metadata": {
    "colab": {
      "provenance": [],
      "include_colab_link": true
    },
    "kernelspec": {
      "name": "python3",
      "display_name": "Python 3"
    },
    "language_info": {
      "name": "python"
    }
  },
  "cells": [
    {
      "cell_type": "markdown",
      "metadata": {
        "id": "view-in-github",
        "colab_type": "text"
      },
      "source": [
        "<a href=\"https://colab.research.google.com/github/azizfath/bddm3/blob/main/20_11_3694_UAS.ipynb\" target=\"_parent\"><img src=\"https://colab.research.google.com/assets/colab-badge.svg\" alt=\"Open In Colab\"/></a>"
      ]
    },
    {
      "cell_type": "markdown",
      "source": [
        "#**UAS BIG DATA & DATA MINING**\n",
        "##\"Cervical Cancer Classification using Support Vector Machines Algorithm\""
      ],
      "metadata": {
        "id": "9lak_0YfeO2M"
      }
    },
    {
      "cell_type": "markdown",
      "source": [
        "# Identitas\n",
        "\n",
        "\n",
        "*   **Nim: 20.11.3694**\n",
        "*   **Nama: Fathurrahman Nur Aziz**\n",
        "*   **Kelas: 20IF07**\n",
        "\n",
        "\n"
      ],
      "metadata": {
        "id": "7j4qV4cQiLG3"
      }
    },
    {
      "cell_type": "markdown",
      "source": [
        "#Import Library"
      ],
      "metadata": {
        "id": "3iqdJhdaQgEG"
      }
    },
    {
      "cell_type": "code",
      "source": [
        "import numpy as np\n",
        "import pandas as pd\n",
        "import seaborn as sns\n",
        "import matplotlib.pyplot as plt\n",
        "from sklearn.metrics import *\n",
        "from sklearn import svm\n",
        "from sklearn.model_selection import train_test_split\n",
        "import warnings\n",
        "warnings.filterwarnings('ignore')"
      ],
      "metadata": {
        "id": "ijVi7ct1QawL"
      },
      "execution_count": 1,
      "outputs": []
    },
    {
      "cell_type": "markdown",
      "source": [
        "#LOAD DATASET"
      ],
      "metadata": {
        "id": "3LNEsRpQQkqf"
      }
    },
    {
      "cell_type": "markdown",
      "source": [
        "*   DATAFRAME diambil dari KAGGLE : https://www.kaggle.com/datasets/loveall/cervical-cancer-risk-classification\n",
        "*   Kemudian saya taruh di github untuk mempermudah proses import : https://raw.githubusercontent.com/azizfath/bddm3/main/uas/kag_risk_factors_cervical_cancer.csv'\n"
      ],
      "metadata": {
        "id": "zAvA962CZl45"
      }
    },
    {
      "cell_type": "code",
      "source": [
        "url = 'https://raw.githubusercontent.com/azizfath/bddm3/main/uas/kag_risk_factors_cervical_cancer.csv'\n",
        "#url = '/content/kag_risk_factors_cervical_cancer.csv'\n",
        "\n",
        "df = pd.read_csv(url)"
      ],
      "metadata": {
        "id": "5YOGuMvsoySf"
      },
      "execution_count": 2,
      "outputs": []
    },
    {
      "cell_type": "markdown",
      "source": [
        "## 1. Tampilkan Data Menggunakan Dataframe"
      ],
      "metadata": {
        "id": "hzGsB5yEO0gG"
      }
    },
    {
      "cell_type": "code",
      "source": [
        "df.head()"
      ],
      "metadata": {
        "colab": {
          "base_uri": "https://localhost:8080/",
          "height": 369
        },
        "id": "yNWckvWhr_x2",
        "outputId": "f8955037-25a1-45fe-a574-6c628f4428e1"
      },
      "execution_count": 3,
      "outputs": [
        {
          "output_type": "execute_result",
          "data": {
            "text/plain": [
              "   Age Number of sexual partners First sexual intercourse Num of pregnancies  \\\n",
              "0   18                       4.0                     15.0                1.0   \n",
              "1   15                       1.0                     14.0                1.0   \n",
              "2   34                       1.0                        ?                1.0   \n",
              "3   52                       5.0                     16.0                4.0   \n",
              "4   46                       3.0                     21.0                4.0   \n",
              "\n",
              "  Smokes Smokes (years) Smokes (packs/year) Hormonal Contraceptives  \\\n",
              "0    0.0            0.0                 0.0                     0.0   \n",
              "1    0.0            0.0                 0.0                     0.0   \n",
              "2    0.0            0.0                 0.0                     0.0   \n",
              "3    1.0           37.0                37.0                     1.0   \n",
              "4    0.0            0.0                 0.0                     1.0   \n",
              "\n",
              "  Hormonal Contraceptives (years)  IUD  ... STDs: Time since first diagnosis  \\\n",
              "0                             0.0  0.0  ...                                ?   \n",
              "1                             0.0  0.0  ...                                ?   \n",
              "2                             0.0  0.0  ...                                ?   \n",
              "3                             3.0  0.0  ...                                ?   \n",
              "4                            15.0  0.0  ...                                ?   \n",
              "\n",
              "  STDs: Time since last diagnosis Dx:Cancer Dx:CIN Dx:HPV Dx Hinselmann  \\\n",
              "0                               ?         0      0      0  0          0   \n",
              "1                               ?         0      0      0  0          0   \n",
              "2                               ?         0      0      0  0          0   \n",
              "3                               ?         1      0      1  0          0   \n",
              "4                               ?         0      0      0  0          0   \n",
              "\n",
              "  Schiller Citology Biopsy  \n",
              "0        0        0      0  \n",
              "1        0        0      0  \n",
              "2        0        0      0  \n",
              "3        0        0      0  \n",
              "4        0        0      0  \n",
              "\n",
              "[5 rows x 36 columns]"
            ],
            "text/html": [
              "\n",
              "  <div id=\"df-84e806d6-0666-4902-8bd0-e8ac1e065383\">\n",
              "    <div class=\"colab-df-container\">\n",
              "      <div>\n",
              "<style scoped>\n",
              "    .dataframe tbody tr th:only-of-type {\n",
              "        vertical-align: middle;\n",
              "    }\n",
              "\n",
              "    .dataframe tbody tr th {\n",
              "        vertical-align: top;\n",
              "    }\n",
              "\n",
              "    .dataframe thead th {\n",
              "        text-align: right;\n",
              "    }\n",
              "</style>\n",
              "<table border=\"1\" class=\"dataframe\">\n",
              "  <thead>\n",
              "    <tr style=\"text-align: right;\">\n",
              "      <th></th>\n",
              "      <th>Age</th>\n",
              "      <th>Number of sexual partners</th>\n",
              "      <th>First sexual intercourse</th>\n",
              "      <th>Num of pregnancies</th>\n",
              "      <th>Smokes</th>\n",
              "      <th>Smokes (years)</th>\n",
              "      <th>Smokes (packs/year)</th>\n",
              "      <th>Hormonal Contraceptives</th>\n",
              "      <th>Hormonal Contraceptives (years)</th>\n",
              "      <th>IUD</th>\n",
              "      <th>...</th>\n",
              "      <th>STDs: Time since first diagnosis</th>\n",
              "      <th>STDs: Time since last diagnosis</th>\n",
              "      <th>Dx:Cancer</th>\n",
              "      <th>Dx:CIN</th>\n",
              "      <th>Dx:HPV</th>\n",
              "      <th>Dx</th>\n",
              "      <th>Hinselmann</th>\n",
              "      <th>Schiller</th>\n",
              "      <th>Citology</th>\n",
              "      <th>Biopsy</th>\n",
              "    </tr>\n",
              "  </thead>\n",
              "  <tbody>\n",
              "    <tr>\n",
              "      <th>0</th>\n",
              "      <td>18</td>\n",
              "      <td>4.0</td>\n",
              "      <td>15.0</td>\n",
              "      <td>1.0</td>\n",
              "      <td>0.0</td>\n",
              "      <td>0.0</td>\n",
              "      <td>0.0</td>\n",
              "      <td>0.0</td>\n",
              "      <td>0.0</td>\n",
              "      <td>0.0</td>\n",
              "      <td>...</td>\n",
              "      <td>?</td>\n",
              "      <td>?</td>\n",
              "      <td>0</td>\n",
              "      <td>0</td>\n",
              "      <td>0</td>\n",
              "      <td>0</td>\n",
              "      <td>0</td>\n",
              "      <td>0</td>\n",
              "      <td>0</td>\n",
              "      <td>0</td>\n",
              "    </tr>\n",
              "    <tr>\n",
              "      <th>1</th>\n",
              "      <td>15</td>\n",
              "      <td>1.0</td>\n",
              "      <td>14.0</td>\n",
              "      <td>1.0</td>\n",
              "      <td>0.0</td>\n",
              "      <td>0.0</td>\n",
              "      <td>0.0</td>\n",
              "      <td>0.0</td>\n",
              "      <td>0.0</td>\n",
              "      <td>0.0</td>\n",
              "      <td>...</td>\n",
              "      <td>?</td>\n",
              "      <td>?</td>\n",
              "      <td>0</td>\n",
              "      <td>0</td>\n",
              "      <td>0</td>\n",
              "      <td>0</td>\n",
              "      <td>0</td>\n",
              "      <td>0</td>\n",
              "      <td>0</td>\n",
              "      <td>0</td>\n",
              "    </tr>\n",
              "    <tr>\n",
              "      <th>2</th>\n",
              "      <td>34</td>\n",
              "      <td>1.0</td>\n",
              "      <td>?</td>\n",
              "      <td>1.0</td>\n",
              "      <td>0.0</td>\n",
              "      <td>0.0</td>\n",
              "      <td>0.0</td>\n",
              "      <td>0.0</td>\n",
              "      <td>0.0</td>\n",
              "      <td>0.0</td>\n",
              "      <td>...</td>\n",
              "      <td>?</td>\n",
              "      <td>?</td>\n",
              "      <td>0</td>\n",
              "      <td>0</td>\n",
              "      <td>0</td>\n",
              "      <td>0</td>\n",
              "      <td>0</td>\n",
              "      <td>0</td>\n",
              "      <td>0</td>\n",
              "      <td>0</td>\n",
              "    </tr>\n",
              "    <tr>\n",
              "      <th>3</th>\n",
              "      <td>52</td>\n",
              "      <td>5.0</td>\n",
              "      <td>16.0</td>\n",
              "      <td>4.0</td>\n",
              "      <td>1.0</td>\n",
              "      <td>37.0</td>\n",
              "      <td>37.0</td>\n",
              "      <td>1.0</td>\n",
              "      <td>3.0</td>\n",
              "      <td>0.0</td>\n",
              "      <td>...</td>\n",
              "      <td>?</td>\n",
              "      <td>?</td>\n",
              "      <td>1</td>\n",
              "      <td>0</td>\n",
              "      <td>1</td>\n",
              "      <td>0</td>\n",
              "      <td>0</td>\n",
              "      <td>0</td>\n",
              "      <td>0</td>\n",
              "      <td>0</td>\n",
              "    </tr>\n",
              "    <tr>\n",
              "      <th>4</th>\n",
              "      <td>46</td>\n",
              "      <td>3.0</td>\n",
              "      <td>21.0</td>\n",
              "      <td>4.0</td>\n",
              "      <td>0.0</td>\n",
              "      <td>0.0</td>\n",
              "      <td>0.0</td>\n",
              "      <td>1.0</td>\n",
              "      <td>15.0</td>\n",
              "      <td>0.0</td>\n",
              "      <td>...</td>\n",
              "      <td>?</td>\n",
              "      <td>?</td>\n",
              "      <td>0</td>\n",
              "      <td>0</td>\n",
              "      <td>0</td>\n",
              "      <td>0</td>\n",
              "      <td>0</td>\n",
              "      <td>0</td>\n",
              "      <td>0</td>\n",
              "      <td>0</td>\n",
              "    </tr>\n",
              "  </tbody>\n",
              "</table>\n",
              "<p>5 rows × 36 columns</p>\n",
              "</div>\n",
              "      <button class=\"colab-df-convert\" onclick=\"convertToInteractive('df-84e806d6-0666-4902-8bd0-e8ac1e065383')\"\n",
              "              title=\"Convert this dataframe to an interactive table.\"\n",
              "              style=\"display:none;\">\n",
              "        \n",
              "  <svg xmlns=\"http://www.w3.org/2000/svg\" height=\"24px\"viewBox=\"0 0 24 24\"\n",
              "       width=\"24px\">\n",
              "    <path d=\"M0 0h24v24H0V0z\" fill=\"none\"/>\n",
              "    <path d=\"M18.56 5.44l.94 2.06.94-2.06 2.06-.94-2.06-.94-.94-2.06-.94 2.06-2.06.94zm-11 1L8.5 8.5l.94-2.06 2.06-.94-2.06-.94L8.5 2.5l-.94 2.06-2.06.94zm10 10l.94 2.06.94-2.06 2.06-.94-2.06-.94-.94-2.06-.94 2.06-2.06.94z\"/><path d=\"M17.41 7.96l-1.37-1.37c-.4-.4-.92-.59-1.43-.59-.52 0-1.04.2-1.43.59L10.3 9.45l-7.72 7.72c-.78.78-.78 2.05 0 2.83L4 21.41c.39.39.9.59 1.41.59.51 0 1.02-.2 1.41-.59l7.78-7.78 2.81-2.81c.8-.78.8-2.07 0-2.86zM5.41 20L4 18.59l7.72-7.72 1.47 1.35L5.41 20z\"/>\n",
              "  </svg>\n",
              "      </button>\n",
              "      \n",
              "  <style>\n",
              "    .colab-df-container {\n",
              "      display:flex;\n",
              "      flex-wrap:wrap;\n",
              "      gap: 12px;\n",
              "    }\n",
              "\n",
              "    .colab-df-convert {\n",
              "      background-color: #E8F0FE;\n",
              "      border: none;\n",
              "      border-radius: 50%;\n",
              "      cursor: pointer;\n",
              "      display: none;\n",
              "      fill: #1967D2;\n",
              "      height: 32px;\n",
              "      padding: 0 0 0 0;\n",
              "      width: 32px;\n",
              "    }\n",
              "\n",
              "    .colab-df-convert:hover {\n",
              "      background-color: #E2EBFA;\n",
              "      box-shadow: 0px 1px 2px rgba(60, 64, 67, 0.3), 0px 1px 3px 1px rgba(60, 64, 67, 0.15);\n",
              "      fill: #174EA6;\n",
              "    }\n",
              "\n",
              "    [theme=dark] .colab-df-convert {\n",
              "      background-color: #3B4455;\n",
              "      fill: #D2E3FC;\n",
              "    }\n",
              "\n",
              "    [theme=dark] .colab-df-convert:hover {\n",
              "      background-color: #434B5C;\n",
              "      box-shadow: 0px 1px 3px 1px rgba(0, 0, 0, 0.15);\n",
              "      filter: drop-shadow(0px 1px 2px rgba(0, 0, 0, 0.3));\n",
              "      fill: #FFFFFF;\n",
              "    }\n",
              "  </style>\n",
              "\n",
              "      <script>\n",
              "        const buttonEl =\n",
              "          document.querySelector('#df-84e806d6-0666-4902-8bd0-e8ac1e065383 button.colab-df-convert');\n",
              "        buttonEl.style.display =\n",
              "          google.colab.kernel.accessAllowed ? 'block' : 'none';\n",
              "\n",
              "        async function convertToInteractive(key) {\n",
              "          const element = document.querySelector('#df-84e806d6-0666-4902-8bd0-e8ac1e065383');\n",
              "          const dataTable =\n",
              "            await google.colab.kernel.invokeFunction('convertToInteractive',\n",
              "                                                     [key], {});\n",
              "          if (!dataTable) return;\n",
              "\n",
              "          const docLinkHtml = 'Like what you see? Visit the ' +\n",
              "            '<a target=\"_blank\" href=https://colab.research.google.com/notebooks/data_table.ipynb>data table notebook</a>'\n",
              "            + ' to learn more about interactive tables.';\n",
              "          element.innerHTML = '';\n",
              "          dataTable['output_type'] = 'display_data';\n",
              "          await google.colab.output.renderOutput(dataTable, element);\n",
              "          const docLink = document.createElement('div');\n",
              "          docLink.innerHTML = docLinkHtml;\n",
              "          element.appendChild(docLink);\n",
              "        }\n",
              "      </script>\n",
              "    </div>\n",
              "  </div>\n",
              "  "
            ]
          },
          "metadata": {},
          "execution_count": 3
        }
      ]
    },
    {
      "cell_type": "code",
      "source": [
        "df.dtypes"
      ],
      "metadata": {
        "colab": {
          "base_uri": "https://localhost:8080/"
        },
        "id": "l9qD4ctLXdu-",
        "outputId": "14078b53-0b96-4924-c94a-e893f93515e4"
      },
      "execution_count": 4,
      "outputs": [
        {
          "output_type": "execute_result",
          "data": {
            "text/plain": [
              "Age                                    int64\n",
              "Number of sexual partners             object\n",
              "First sexual intercourse              object\n",
              "Num of pregnancies                    object\n",
              "Smokes                                object\n",
              "Smokes (years)                        object\n",
              "Smokes (packs/year)                   object\n",
              "Hormonal Contraceptives               object\n",
              "Hormonal Contraceptives (years)       object\n",
              "IUD                                   object\n",
              "IUD (years)                           object\n",
              "STDs                                  object\n",
              "STDs (number)                         object\n",
              "STDs:condylomatosis                   object\n",
              "STDs:cervical condylomatosis          object\n",
              "STDs:vaginal condylomatosis           object\n",
              "STDs:vulvo-perineal condylomatosis    object\n",
              "STDs:syphilis                         object\n",
              "STDs:pelvic inflammatory disease      object\n",
              "STDs:genital herpes                   object\n",
              "STDs:molluscum contagiosum            object\n",
              "STDs:AIDS                             object\n",
              "STDs:HIV                              object\n",
              "STDs:Hepatitis B                      object\n",
              "STDs:HPV                              object\n",
              "STDs: Number of diagnosis              int64\n",
              "STDs: Time since first diagnosis      object\n",
              "STDs: Time since last diagnosis       object\n",
              "Dx:Cancer                              int64\n",
              "Dx:CIN                                 int64\n",
              "Dx:HPV                                 int64\n",
              "Dx                                     int64\n",
              "Hinselmann                             int64\n",
              "Schiller                               int64\n",
              "Citology                               int64\n",
              "Biopsy                                 int64\n",
              "dtype: object"
            ]
          },
          "metadata": {},
          "execution_count": 4
        }
      ]
    },
    {
      "cell_type": "markdown",
      "source": [
        "## 2. Data Preprocessing (Data Cleaning)"
      ],
      "metadata": {
        "id": "oQyUyUNEXi8K"
      }
    },
    {
      "cell_type": "markdown",
      "source": [
        "####Dari Dataset tersebut, terlihat ada data yang berisi \"?\", kita lakukan preprocessing terlebih dahulu untuk seluruh data \"?\""
      ],
      "metadata": {
        "id": "o5R5XaaxQ9pG"
      }
    },
    {
      "cell_type": "code",
      "source": [
        "#mengubah data \"?\" menjadi Null Values dan ubah jadi -1\n",
        "for col in df.columns:\n",
        "    df[col].replace('?',np.nan,inplace=True )\n",
        "    df[col].fillna(value=-1,inplace=True)"
      ],
      "metadata": {
        "id": "SDjcOhNTNKj5"
      },
      "execution_count": 5,
      "outputs": []
    },
    {
      "cell_type": "code",
      "source": [
        "#mengisi Null Values yang telah telah diubah menjadi -1 dengan Median\n",
        "for col in df.columns:\n",
        "    df[col].replace(-1,df[col].median(),inplace=True)"
      ],
      "metadata": {
        "id": "j1TK59V5VkIY"
      },
      "execution_count": 6,
      "outputs": []
    },
    {
      "cell_type": "code",
      "source": [
        "df.head()"
      ],
      "metadata": {
        "colab": {
          "base_uri": "https://localhost:8080/",
          "height": 369
        },
        "id": "HfjtKYI5WAZq",
        "outputId": "c3b96d43-f401-4f4d-b967-b888ccdf31d6"
      },
      "execution_count": 7,
      "outputs": [
        {
          "output_type": "execute_result",
          "data": {
            "text/plain": [
              "   Age Number of sexual partners First sexual intercourse Num of pregnancies  \\\n",
              "0   18                       4.0                     15.0                1.0   \n",
              "1   15                       1.0                     14.0                1.0   \n",
              "2   34                       1.0                     17.0                1.0   \n",
              "3   52                       5.0                     16.0                4.0   \n",
              "4   46                       3.0                     21.0                4.0   \n",
              "\n",
              "  Smokes Smokes (years) Smokes (packs/year) Hormonal Contraceptives  \\\n",
              "0    0.0            0.0                 0.0                     0.0   \n",
              "1    0.0            0.0                 0.0                     0.0   \n",
              "2    0.0            0.0                 0.0                     0.0   \n",
              "3    1.0           37.0                37.0                     1.0   \n",
              "4    0.0            0.0                 0.0                     1.0   \n",
              "\n",
              "  Hormonal Contraceptives (years)  IUD  ... STDs: Time since first diagnosis  \\\n",
              "0                             0.0  0.0  ...                             -1.0   \n",
              "1                             0.0  0.0  ...                             -1.0   \n",
              "2                             0.0  0.0  ...                             -1.0   \n",
              "3                             3.0  0.0  ...                             -1.0   \n",
              "4                            15.0  0.0  ...                             -1.0   \n",
              "\n",
              "  STDs: Time since last diagnosis Dx:Cancer Dx:CIN Dx:HPV Dx Hinselmann  \\\n",
              "0                            -1.0         0      0      0  0          0   \n",
              "1                            -1.0         0      0      0  0          0   \n",
              "2                            -1.0         0      0      0  0          0   \n",
              "3                            -1.0         1      0      1  0          0   \n",
              "4                            -1.0         0      0      0  0          0   \n",
              "\n",
              "  Schiller Citology Biopsy  \n",
              "0        0        0      0  \n",
              "1        0        0      0  \n",
              "2        0        0      0  \n",
              "3        0        0      0  \n",
              "4        0        0      0  \n",
              "\n",
              "[5 rows x 36 columns]"
            ],
            "text/html": [
              "\n",
              "  <div id=\"df-b8cf7bf4-533a-485a-b25b-c1632361586d\">\n",
              "    <div class=\"colab-df-container\">\n",
              "      <div>\n",
              "<style scoped>\n",
              "    .dataframe tbody tr th:only-of-type {\n",
              "        vertical-align: middle;\n",
              "    }\n",
              "\n",
              "    .dataframe tbody tr th {\n",
              "        vertical-align: top;\n",
              "    }\n",
              "\n",
              "    .dataframe thead th {\n",
              "        text-align: right;\n",
              "    }\n",
              "</style>\n",
              "<table border=\"1\" class=\"dataframe\">\n",
              "  <thead>\n",
              "    <tr style=\"text-align: right;\">\n",
              "      <th></th>\n",
              "      <th>Age</th>\n",
              "      <th>Number of sexual partners</th>\n",
              "      <th>First sexual intercourse</th>\n",
              "      <th>Num of pregnancies</th>\n",
              "      <th>Smokes</th>\n",
              "      <th>Smokes (years)</th>\n",
              "      <th>Smokes (packs/year)</th>\n",
              "      <th>Hormonal Contraceptives</th>\n",
              "      <th>Hormonal Contraceptives (years)</th>\n",
              "      <th>IUD</th>\n",
              "      <th>...</th>\n",
              "      <th>STDs: Time since first diagnosis</th>\n",
              "      <th>STDs: Time since last diagnosis</th>\n",
              "      <th>Dx:Cancer</th>\n",
              "      <th>Dx:CIN</th>\n",
              "      <th>Dx:HPV</th>\n",
              "      <th>Dx</th>\n",
              "      <th>Hinselmann</th>\n",
              "      <th>Schiller</th>\n",
              "      <th>Citology</th>\n",
              "      <th>Biopsy</th>\n",
              "    </tr>\n",
              "  </thead>\n",
              "  <tbody>\n",
              "    <tr>\n",
              "      <th>0</th>\n",
              "      <td>18</td>\n",
              "      <td>4.0</td>\n",
              "      <td>15.0</td>\n",
              "      <td>1.0</td>\n",
              "      <td>0.0</td>\n",
              "      <td>0.0</td>\n",
              "      <td>0.0</td>\n",
              "      <td>0.0</td>\n",
              "      <td>0.0</td>\n",
              "      <td>0.0</td>\n",
              "      <td>...</td>\n",
              "      <td>-1.0</td>\n",
              "      <td>-1.0</td>\n",
              "      <td>0</td>\n",
              "      <td>0</td>\n",
              "      <td>0</td>\n",
              "      <td>0</td>\n",
              "      <td>0</td>\n",
              "      <td>0</td>\n",
              "      <td>0</td>\n",
              "      <td>0</td>\n",
              "    </tr>\n",
              "    <tr>\n",
              "      <th>1</th>\n",
              "      <td>15</td>\n",
              "      <td>1.0</td>\n",
              "      <td>14.0</td>\n",
              "      <td>1.0</td>\n",
              "      <td>0.0</td>\n",
              "      <td>0.0</td>\n",
              "      <td>0.0</td>\n",
              "      <td>0.0</td>\n",
              "      <td>0.0</td>\n",
              "      <td>0.0</td>\n",
              "      <td>...</td>\n",
              "      <td>-1.0</td>\n",
              "      <td>-1.0</td>\n",
              "      <td>0</td>\n",
              "      <td>0</td>\n",
              "      <td>0</td>\n",
              "      <td>0</td>\n",
              "      <td>0</td>\n",
              "      <td>0</td>\n",
              "      <td>0</td>\n",
              "      <td>0</td>\n",
              "    </tr>\n",
              "    <tr>\n",
              "      <th>2</th>\n",
              "      <td>34</td>\n",
              "      <td>1.0</td>\n",
              "      <td>17.0</td>\n",
              "      <td>1.0</td>\n",
              "      <td>0.0</td>\n",
              "      <td>0.0</td>\n",
              "      <td>0.0</td>\n",
              "      <td>0.0</td>\n",
              "      <td>0.0</td>\n",
              "      <td>0.0</td>\n",
              "      <td>...</td>\n",
              "      <td>-1.0</td>\n",
              "      <td>-1.0</td>\n",
              "      <td>0</td>\n",
              "      <td>0</td>\n",
              "      <td>0</td>\n",
              "      <td>0</td>\n",
              "      <td>0</td>\n",
              "      <td>0</td>\n",
              "      <td>0</td>\n",
              "      <td>0</td>\n",
              "    </tr>\n",
              "    <tr>\n",
              "      <th>3</th>\n",
              "      <td>52</td>\n",
              "      <td>5.0</td>\n",
              "      <td>16.0</td>\n",
              "      <td>4.0</td>\n",
              "      <td>1.0</td>\n",
              "      <td>37.0</td>\n",
              "      <td>37.0</td>\n",
              "      <td>1.0</td>\n",
              "      <td>3.0</td>\n",
              "      <td>0.0</td>\n",
              "      <td>...</td>\n",
              "      <td>-1.0</td>\n",
              "      <td>-1.0</td>\n",
              "      <td>1</td>\n",
              "      <td>0</td>\n",
              "      <td>1</td>\n",
              "      <td>0</td>\n",
              "      <td>0</td>\n",
              "      <td>0</td>\n",
              "      <td>0</td>\n",
              "      <td>0</td>\n",
              "    </tr>\n",
              "    <tr>\n",
              "      <th>4</th>\n",
              "      <td>46</td>\n",
              "      <td>3.0</td>\n",
              "      <td>21.0</td>\n",
              "      <td>4.0</td>\n",
              "      <td>0.0</td>\n",
              "      <td>0.0</td>\n",
              "      <td>0.0</td>\n",
              "      <td>1.0</td>\n",
              "      <td>15.0</td>\n",
              "      <td>0.0</td>\n",
              "      <td>...</td>\n",
              "      <td>-1.0</td>\n",
              "      <td>-1.0</td>\n",
              "      <td>0</td>\n",
              "      <td>0</td>\n",
              "      <td>0</td>\n",
              "      <td>0</td>\n",
              "      <td>0</td>\n",
              "      <td>0</td>\n",
              "      <td>0</td>\n",
              "      <td>0</td>\n",
              "    </tr>\n",
              "  </tbody>\n",
              "</table>\n",
              "<p>5 rows × 36 columns</p>\n",
              "</div>\n",
              "      <button class=\"colab-df-convert\" onclick=\"convertToInteractive('df-b8cf7bf4-533a-485a-b25b-c1632361586d')\"\n",
              "              title=\"Convert this dataframe to an interactive table.\"\n",
              "              style=\"display:none;\">\n",
              "        \n",
              "  <svg xmlns=\"http://www.w3.org/2000/svg\" height=\"24px\"viewBox=\"0 0 24 24\"\n",
              "       width=\"24px\">\n",
              "    <path d=\"M0 0h24v24H0V0z\" fill=\"none\"/>\n",
              "    <path d=\"M18.56 5.44l.94 2.06.94-2.06 2.06-.94-2.06-.94-.94-2.06-.94 2.06-2.06.94zm-11 1L8.5 8.5l.94-2.06 2.06-.94-2.06-.94L8.5 2.5l-.94 2.06-2.06.94zm10 10l.94 2.06.94-2.06 2.06-.94-2.06-.94-.94-2.06-.94 2.06-2.06.94z\"/><path d=\"M17.41 7.96l-1.37-1.37c-.4-.4-.92-.59-1.43-.59-.52 0-1.04.2-1.43.59L10.3 9.45l-7.72 7.72c-.78.78-.78 2.05 0 2.83L4 21.41c.39.39.9.59 1.41.59.51 0 1.02-.2 1.41-.59l7.78-7.78 2.81-2.81c.8-.78.8-2.07 0-2.86zM5.41 20L4 18.59l7.72-7.72 1.47 1.35L5.41 20z\"/>\n",
              "  </svg>\n",
              "      </button>\n",
              "      \n",
              "  <style>\n",
              "    .colab-df-container {\n",
              "      display:flex;\n",
              "      flex-wrap:wrap;\n",
              "      gap: 12px;\n",
              "    }\n",
              "\n",
              "    .colab-df-convert {\n",
              "      background-color: #E8F0FE;\n",
              "      border: none;\n",
              "      border-radius: 50%;\n",
              "      cursor: pointer;\n",
              "      display: none;\n",
              "      fill: #1967D2;\n",
              "      height: 32px;\n",
              "      padding: 0 0 0 0;\n",
              "      width: 32px;\n",
              "    }\n",
              "\n",
              "    .colab-df-convert:hover {\n",
              "      background-color: #E2EBFA;\n",
              "      box-shadow: 0px 1px 2px rgba(60, 64, 67, 0.3), 0px 1px 3px 1px rgba(60, 64, 67, 0.15);\n",
              "      fill: #174EA6;\n",
              "    }\n",
              "\n",
              "    [theme=dark] .colab-df-convert {\n",
              "      background-color: #3B4455;\n",
              "      fill: #D2E3FC;\n",
              "    }\n",
              "\n",
              "    [theme=dark] .colab-df-convert:hover {\n",
              "      background-color: #434B5C;\n",
              "      box-shadow: 0px 1px 3px 1px rgba(0, 0, 0, 0.15);\n",
              "      filter: drop-shadow(0px 1px 2px rgba(0, 0, 0, 0.3));\n",
              "      fill: #FFFFFF;\n",
              "    }\n",
              "  </style>\n",
              "\n",
              "      <script>\n",
              "        const buttonEl =\n",
              "          document.querySelector('#df-b8cf7bf4-533a-485a-b25b-c1632361586d button.colab-df-convert');\n",
              "        buttonEl.style.display =\n",
              "          google.colab.kernel.accessAllowed ? 'block' : 'none';\n",
              "\n",
              "        async function convertToInteractive(key) {\n",
              "          const element = document.querySelector('#df-b8cf7bf4-533a-485a-b25b-c1632361586d');\n",
              "          const dataTable =\n",
              "            await google.colab.kernel.invokeFunction('convertToInteractive',\n",
              "                                                     [key], {});\n",
              "          if (!dataTable) return;\n",
              "\n",
              "          const docLinkHtml = 'Like what you see? Visit the ' +\n",
              "            '<a target=\"_blank\" href=https://colab.research.google.com/notebooks/data_table.ipynb>data table notebook</a>'\n",
              "            + ' to learn more about interactive tables.';\n",
              "          element.innerHTML = '';\n",
              "          dataTable['output_type'] = 'display_data';\n",
              "          await google.colab.output.renderOutput(dataTable, element);\n",
              "          const docLink = document.createElement('div');\n",
              "          docLink.innerHTML = docLinkHtml;\n",
              "          element.appendChild(docLink);\n",
              "        }\n",
              "      </script>\n",
              "    </div>\n",
              "  </div>\n",
              "  "
            ]
          },
          "metadata": {},
          "execution_count": 7
        }
      ]
    },
    {
      "cell_type": "code",
      "source": [
        "#cek null pada data yang sudah dibersihkan\n",
        "df.isna().sum()"
      ],
      "metadata": {
        "colab": {
          "base_uri": "https://localhost:8080/"
        },
        "id": "zjLenY4hTpWY",
        "outputId": "f41cecf3-1240-4e16-faf4-fbd50c8f1649"
      },
      "execution_count": 8,
      "outputs": [
        {
          "output_type": "execute_result",
          "data": {
            "text/plain": [
              "Age                                   0\n",
              "Number of sexual partners             0\n",
              "First sexual intercourse              0\n",
              "Num of pregnancies                    0\n",
              "Smokes                                0\n",
              "Smokes (years)                        0\n",
              "Smokes (packs/year)                   0\n",
              "Hormonal Contraceptives               0\n",
              "Hormonal Contraceptives (years)       0\n",
              "IUD                                   0\n",
              "IUD (years)                           0\n",
              "STDs                                  0\n",
              "STDs (number)                         0\n",
              "STDs:condylomatosis                   0\n",
              "STDs:cervical condylomatosis          0\n",
              "STDs:vaginal condylomatosis           0\n",
              "STDs:vulvo-perineal condylomatosis    0\n",
              "STDs:syphilis                         0\n",
              "STDs:pelvic inflammatory disease      0\n",
              "STDs:genital herpes                   0\n",
              "STDs:molluscum contagiosum            0\n",
              "STDs:AIDS                             0\n",
              "STDs:HIV                              0\n",
              "STDs:Hepatitis B                      0\n",
              "STDs:HPV                              0\n",
              "STDs: Number of diagnosis             0\n",
              "STDs: Time since first diagnosis      0\n",
              "STDs: Time since last diagnosis       0\n",
              "Dx:Cancer                             0\n",
              "Dx:CIN                                0\n",
              "Dx:HPV                                0\n",
              "Dx                                    0\n",
              "Hinselmann                            0\n",
              "Schiller                              0\n",
              "Citology                              0\n",
              "Biopsy                                0\n",
              "dtype: int64"
            ]
          },
          "metadata": {},
          "execution_count": 8
        }
      ]
    },
    {
      "cell_type": "code",
      "source": [
        "df.dtypes"
      ],
      "metadata": {
        "colab": {
          "base_uri": "https://localhost:8080/"
        },
        "id": "d3fYSv_oW8oG",
        "outputId": "023efcec-cdf4-4336-8085-d2f572444d6f"
      },
      "execution_count": 9,
      "outputs": [
        {
          "output_type": "execute_result",
          "data": {
            "text/plain": [
              "Age                                    int64\n",
              "Number of sexual partners             object\n",
              "First sexual intercourse              object\n",
              "Num of pregnancies                    object\n",
              "Smokes                                object\n",
              "Smokes (years)                        object\n",
              "Smokes (packs/year)                   object\n",
              "Hormonal Contraceptives               object\n",
              "Hormonal Contraceptives (years)       object\n",
              "IUD                                   object\n",
              "IUD (years)                           object\n",
              "STDs                                  object\n",
              "STDs (number)                         object\n",
              "STDs:condylomatosis                   object\n",
              "STDs:cervical condylomatosis          object\n",
              "STDs:vaginal condylomatosis           object\n",
              "STDs:vulvo-perineal condylomatosis    object\n",
              "STDs:syphilis                         object\n",
              "STDs:pelvic inflammatory disease      object\n",
              "STDs:genital herpes                   object\n",
              "STDs:molluscum contagiosum            object\n",
              "STDs:AIDS                             object\n",
              "STDs:HIV                              object\n",
              "STDs:Hepatitis B                      object\n",
              "STDs:HPV                              object\n",
              "STDs: Number of diagnosis              int64\n",
              "STDs: Time since first diagnosis      object\n",
              "STDs: Time since last diagnosis       object\n",
              "Dx:Cancer                              int64\n",
              "Dx:CIN                                 int64\n",
              "Dx:HPV                                 int64\n",
              "Dx                                     int64\n",
              "Hinselmann                             int64\n",
              "Schiller                               int64\n",
              "Citology                               int64\n",
              "Biopsy                                 int64\n",
              "dtype: object"
            ]
          },
          "metadata": {},
          "execution_count": 9
        }
      ]
    },
    {
      "cell_type": "markdown",
      "source": [
        "Kita biarkan terlebih dahulu data yang berupa object karena belum tentu akan digunakan"
      ],
      "metadata": {
        "id": "V0vmULwwX3uq"
      }
    },
    {
      "cell_type": "markdown",
      "source": [
        "##3. Exploratory Data Analysis"
      ],
      "metadata": {
        "id": "W6DhlOYBUW-g"
      }
    },
    {
      "cell_type": "code",
      "source": [
        "#melihat potensi kanker serviks berdasar umur\n",
        "sns.distplot(df['Age'])"
      ],
      "metadata": {
        "colab": {
          "base_uri": "https://localhost:8080/",
          "height": 297
        },
        "id": "Gttvrm1-UZT7",
        "outputId": "286c4405-a4d1-4d14-dc60-18bd0d89942c"
      },
      "execution_count": 10,
      "outputs": [
        {
          "output_type": "execute_result",
          "data": {
            "text/plain": [
              "<matplotlib.axes._subplots.AxesSubplot at 0x7f1cf8ce8910>"
            ]
          },
          "metadata": {},
          "execution_count": 10
        },
        {
          "output_type": "display_data",
          "data": {
            "text/plain": [
              "<Figure size 432x288 with 1 Axes>"
            ],
            "image/png": "[encoded data removed]"
          },
          "metadata": {
            "needs_background": "light"
          }
        }
      ]
    },
    {
      "cell_type": "markdown",
      "source": [
        "Dari data tersebut, sebaran kanker serviks banyak terjadi di umur 20-40. Maka pada clasifikasi ini kita akan melakukan prediksi yang berkaitan dengan umur."
      ],
      "metadata": {
        "id": "JceCAIoCUkFJ"
      }
    },
    {
      "cell_type": "markdown",
      "source": [
        "##4. Feature Selection"
      ],
      "metadata": {
        "id": "60wM_-3bWluj"
      }
    },
    {
      "cell_type": "code",
      "source": [
        "#membuat dataframe baru berisi jenis test yang dijalani\n",
        "df_cancer_test=pd.DataFrame(df[['Hinselmann','Schiller','Citology','Biopsy']])\n",
        "df_cancer_test.head()"
      ],
      "metadata": {
        "colab": {
          "base_uri": "https://localhost:8080/",
          "height": 206
        },
        "id": "3yzLm52AUpAV",
        "outputId": "7d2e9451-603e-40b1-a5d2-bb704e8cc873"
      },
      "execution_count": 11,
      "outputs": [
        {
          "output_type": "execute_result",
          "data": {
            "text/plain": [
              "   Hinselmann  Schiller  Citology  Biopsy\n",
              "0           0         0         0       0\n",
              "1           0         0         0       0\n",
              "2           0         0         0       0\n",
              "3           0         0         0       0\n",
              "4           0         0         0       0"
            ],
            "text/html": [
              "\n",
              "  <div id=\"df-ffc182cc-a437-4277-b1f0-65572d4c8bd3\">\n",
              "    <div class=\"colab-df-container\">\n",
              "      <div>\n",
              "<style scoped>\n",
              "    .dataframe tbody tr th:only-of-type {\n",
              "        vertical-align: middle;\n",
              "    }\n",
              "\n",
              "    .dataframe tbody tr th {\n",
              "        vertical-align: top;\n",
              "    }\n",
              "\n",
              "    .dataframe thead th {\n",
              "        text-align: right;\n",
              "    }\n",
              "</style>\n",
              "<table border=\"1\" class=\"dataframe\">\n",
              "  <thead>\n",
              "    <tr style=\"text-align: right;\">\n",
              "      <th></th>\n",
              "      <th>Hinselmann</th>\n",
              "      <th>Schiller</th>\n",
              "      <th>Citology</th>\n",
              "      <th>Biopsy</th>\n",
              "    </tr>\n",
              "  </thead>\n",
              "  <tbody>\n",
              "    <tr>\n",
              "      <th>0</th>\n",
              "      <td>0</td>\n",
              "      <td>0</td>\n",
              "      <td>0</td>\n",
              "      <td>0</td>\n",
              "    </tr>\n",
              "    <tr>\n",
              "      <th>1</th>\n",
              "      <td>0</td>\n",
              "      <td>0</td>\n",
              "      <td>0</td>\n",
              "      <td>0</td>\n",
              "    </tr>\n",
              "    <tr>\n",
              "      <th>2</th>\n",
              "      <td>0</td>\n",
              "      <td>0</td>\n",
              "      <td>0</td>\n",
              "      <td>0</td>\n",
              "    </tr>\n",
              "    <tr>\n",
              "      <th>3</th>\n",
              "      <td>0</td>\n",
              "      <td>0</td>\n",
              "      <td>0</td>\n",
              "      <td>0</td>\n",
              "    </tr>\n",
              "    <tr>\n",
              "      <th>4</th>\n",
              "      <td>0</td>\n",
              "      <td>0</td>\n",
              "      <td>0</td>\n",
              "      <td>0</td>\n",
              "    </tr>\n",
              "  </tbody>\n",
              "</table>\n",
              "</div>\n",
              "      <button class=\"colab-df-convert\" onclick=\"convertToInteractive('df-ffc182cc-a437-4277-b1f0-65572d4c8bd3')\"\n",
              "              title=\"Convert this dataframe to an interactive table.\"\n",
              "              style=\"display:none;\">\n",
              "        \n",
              "  <svg xmlns=\"http://www.w3.org/2000/svg\" height=\"24px\"viewBox=\"0 0 24 24\"\n",
              "       width=\"24px\">\n",
              "    <path d=\"M0 0h24v24H0V0z\" fill=\"none\"/>\n",
              "    <path d=\"M18.56 5.44l.94 2.06.94-2.06 2.06-.94-2.06-.94-.94-2.06-.94 2.06-2.06.94zm-11 1L8.5 8.5l.94-2.06 2.06-.94-2.06-.94L8.5 2.5l-.94 2.06-2.06.94zm10 10l.94 2.06.94-2.06 2.06-.94-2.06-.94-.94-2.06-.94 2.06-2.06.94z\"/><path d=\"M17.41 7.96l-1.37-1.37c-.4-.4-.92-.59-1.43-.59-.52 0-1.04.2-1.43.59L10.3 9.45l-7.72 7.72c-.78.78-.78 2.05 0 2.83L4 21.41c.39.39.9.59 1.41.59.51 0 1.02-.2 1.41-.59l7.78-7.78 2.81-2.81c.8-.78.8-2.07 0-2.86zM5.41 20L4 18.59l7.72-7.72 1.47 1.35L5.41 20z\"/>\n",
              "  </svg>\n",
              "      </button>\n",
              "      \n",
              "  <style>\n",
              "    .colab-df-container {\n",
              "      display:flex;\n",
              "      flex-wrap:wrap;\n",
              "      gap: 12px;\n",
              "    }\n",
              "\n",
              "    .colab-df-convert {\n",
              "      background-color: #E8F0FE;\n",
              "      border: none;\n",
              "      border-radius: 50%;\n",
              "      cursor: pointer;\n",
              "      display: none;\n",
              "      fill: #1967D2;\n",
              "      height: 32px;\n",
              "      padding: 0 0 0 0;\n",
              "      width: 32px;\n",
              "    }\n",
              "\n",
              "    .colab-df-convert:hover {\n",
              "      background-color: #E2EBFA;\n",
              "      box-shadow: 0px 1px 2px rgba(60, 64, 67, 0.3), 0px 1px 3px 1px rgba(60, 64, 67, 0.15);\n",
              "      fill: #174EA6;\n",
              "    }\n",
              "\n",
              "    [theme=dark] .colab-df-convert {\n",
              "      background-color: #3B4455;\n",
              "      fill: #D2E3FC;\n",
              "    }\n",
              "\n",
              "    [theme=dark] .colab-df-convert:hover {\n",
              "      background-color: #434B5C;\n",
              "      box-shadow: 0px 1px 3px 1px rgba(0, 0, 0, 0.15);\n",
              "      filter: drop-shadow(0px 1px 2px rgba(0, 0, 0, 0.3));\n",
              "      fill: #FFFFFF;\n",
              "    }\n",
              "  </style>\n",
              "\n",
              "      <script>\n",
              "        const buttonEl =\n",
              "          document.querySelector('#df-ffc182cc-a437-4277-b1f0-65572d4c8bd3 button.colab-df-convert');\n",
              "        buttonEl.style.display =\n",
              "          google.colab.kernel.accessAllowed ? 'block' : 'none';\n",
              "\n",
              "        async function convertToInteractive(key) {\n",
              "          const element = document.querySelector('#df-ffc182cc-a437-4277-b1f0-65572d4c8bd3');\n",
              "          const dataTable =\n",
              "            await google.colab.kernel.invokeFunction('convertToInteractive',\n",
              "                                                     [key], {});\n",
              "          if (!dataTable) return;\n",
              "\n",
              "          const docLinkHtml = 'Like what you see? Visit the ' +\n",
              "            '<a target=\"_blank\" href=https://colab.research.google.com/notebooks/data_table.ipynb>data table notebook</a>'\n",
              "            + ' to learn more about interactive tables.';\n",
              "          element.innerHTML = '';\n",
              "          dataTable['output_type'] = 'display_data';\n",
              "          await google.colab.output.renderOutput(dataTable, element);\n",
              "          const docLink = document.createElement('div');\n",
              "          docLink.innerHTML = docLinkHtml;\n",
              "          element.appendChild(docLink);\n",
              "        }\n",
              "      </script>\n",
              "    </div>\n",
              "  </div>\n",
              "  "
            ]
          },
          "metadata": {},
          "execution_count": 11
        }
      ]
    },
    {
      "cell_type": "code",
      "source": [
        "#melihat umur yang terdiagnosis cancer dari 4 test yang dijalani\n",
        "\n",
        "for col in df_cancer_test.columns:\n",
        "    s=df.copy()\n",
        "    sns.barplot(x=s[col],y=df['Age'])\n",
        "    plt.xlabel(col)\n",
        "    plt.ylabel(\"Age\")\n",
        "    plt.title(col)\n",
        "    plt.show()"
      ],
      "metadata": {
        "colab": {
          "base_uri": "https://localhost:8080/",
          "height": 1000
        },
        "id": "E2SdlZgiYLul",
        "outputId": "0191212f-b91d-4a49-aa67-0a9a789e9803"
      },
      "execution_count": 12,
      "outputs": [
        {
          "output_type": "display_data",
          "data": {
            "text/plain": [
              "<Figure size 432x288 with 1 Axes>"
            ],
            "image/png": "[encoded data removed]"
          },
          "metadata": {
            "needs_background": "light"
          }
        },
        {
          "output_type": "display_data",
          "data": {
            "text/plain": [
              "<Figure size 432x288 with 1 Axes>"
            ],
            "image/png": "[encoded data removed]"
          },
          "metadata": {
            "needs_background": "light"
          }
        },
        {
          "output_type": "display_data",
          "data": {
            "text/plain": [
              "<Figure size 432x288 with 1 Axes>"
            ],
            "image/png": "[encoded data removed]"
          },
          "metadata": {
            "needs_background": "light"
          }
        },
        {
          "output_type": "display_data",
          "data": {
            "text/plain": [
              "<Figure size 432x288 with 1 Axes>"
            ],
            "image/png": "[encoded data removed]"
          },
          "metadata": {
            "needs_background": "light"
          }
        }
      ]
    },
    {
      "cell_type": "code",
      "source": [
        "#Mencari korelasi dari 4 jenis test cancer\n",
        "sns.heatmap(df_cancer_test.corr(),annot=True)"
      ],
      "metadata": {
        "colab": {
          "base_uri": "https://localhost:8080/",
          "height": 287
        },
        "id": "8dTtC70_vhUt",
        "outputId": "bc27ab1e-8969-4d73-91ab-a0e080c8cb83"
      },
      "execution_count": 13,
      "outputs": [
        {
          "output_type": "execute_result",
          "data": {
            "text/plain": [
              "<matplotlib.axes._subplots.AxesSubplot at 0x7f1cf66614c0>"
            ]
          },
          "metadata": {},
          "execution_count": 13
        },
        {
          "output_type": "display_data",
          "data": {
            "text/plain": [
              "<Figure size 432x288 with 2 Axes>"
            ],
            "image/png": "[encoded data removed]"
          },
          "metadata": {
            "needs_background": "light"
          }
        }
      ]
    },
    {
      "cell_type": "markdown",
      "source": [
        "Fitur yang akan digunakan ada kolom, sehingga kita bisa menjumlahkan baris pada kolom tersebut. Nantinya, jika penjumlahan 4 kolom tersebut menghasilkan > 0 maka dia terkena cancer"
      ],
      "metadata": {
        "id": "dPv7pmSHa1j6"
      }
    },
    {
      "cell_type": "code",
      "source": [
        "#menjumlahkan 4 kolom test\n",
        "df_cancer_test['count']=df_cancer_test['Hinselmann']\\\n",
        "                        +df_cancer_test['Schiller']\\\n",
        "                        +df_cancer_test['Citology']\\\n",
        "                        +df_cancer_test['Biopsy']"
      ],
      "metadata": {
        "id": "2YuBsF2UbZW6"
      },
      "execution_count": 14,
      "outputs": []
    },
    {
      "cell_type": "code",
      "source": [
        "#melihat banyaknya hasil penjumlahan\n",
        "df_cancer_test['count'].value_counts()"
      ],
      "metadata": {
        "colab": {
          "base_uri": "https://localhost:8080/"
        },
        "id": "gSSyc_rXblkI",
        "outputId": "4abd192d-ddb1-4ad4-f252-8550bf9392e0"
      },
      "execution_count": 15,
      "outputs": [
        {
          "output_type": "execute_result",
          "data": {
            "text/plain": [
              "0    756\n",
              "1     41\n",
              "3     33\n",
              "2     22\n",
              "4      6\n",
              "Name: count, dtype: int64"
            ]
          },
          "metadata": {},
          "execution_count": 15
        }
      ]
    },
    {
      "cell_type": "code",
      "source": [
        "#memberikan label, jika > 0 maka dianggap cancer (=1)\n",
        "df_cancer_test['result']=np.where(df_cancer_test['count']>0,1,df_cancer_test['count'])\n",
        "\n",
        "#drop column count karena sudah tidak dipakai\n",
        "df_cancer_test.drop(columns=['count'], inplace=True)"
      ],
      "metadata": {
        "id": "vAH4oGUfbt9p"
      },
      "execution_count": 16,
      "outputs": []
    },
    {
      "cell_type": "code",
      "source": [
        "#melihat banyaknya hasil pelabelan\n",
        "df_cancer_test['result'].value_counts()"
      ],
      "metadata": {
        "colab": {
          "base_uri": "https://localhost:8080/"
        },
        "id": "gc_87XV9cBA6",
        "outputId": "c00ffe43-ea9c-45aa-caae-74f53c1b3e7d"
      },
      "execution_count": 17,
      "outputs": [
        {
          "output_type": "execute_result",
          "data": {
            "text/plain": [
              "0    756\n",
              "1    102\n",
              "Name: result, dtype: int64"
            ]
          },
          "metadata": {},
          "execution_count": 17
        }
      ]
    },
    {
      "cell_type": "markdown",
      "source": [
        "##5. Classification Model and Prediction"
      ],
      "metadata": {
        "id": "8GxCsIyqZoOm"
      }
    },
    {
      "cell_type": "code",
      "source": [
        "#mengubah dataframe yang sudah diseleksi menjadi fitur dan target\n",
        "\n",
        "#X -> independent var (fitur)\n",
        "X = df_cancer_test.iloc[:,[0,1,2,3]].values\n",
        "\n",
        "#y -> dependent var (target)\n",
        "y = df_cancer_test.iloc[:,-1].values"
      ],
      "metadata": {
        "id": "nto-Klp0yV69"
      },
      "execution_count": 18,
      "outputs": []
    },
    {
      "cell_type": "code",
      "source": [
        "#menampilkan 10 nilai awal X dan y\n",
        "print(f'X: \\n {X[:10]}')\n",
        "print(f'y: \\n {y[:10]}')"
      ],
      "metadata": {
        "colab": {
          "base_uri": "https://localhost:8080/"
        },
        "id": "IQ7_vAN8yjgl",
        "outputId": "e4ef90d2-3ce2-4314-a93a-f9dc66b5439e"
      },
      "execution_count": 19,
      "outputs": [
        {
          "output_type": "stream",
          "name": "stdout",
          "text": [
            "X: \n",
            " [[0 0 0 0]\n",
            " [0 0 0 0]\n",
            " [0 0 0 0]\n",
            " [0 0 0 0]\n",
            " [0 0 0 0]\n",
            " [0 0 0 0]\n",
            " [1 1 0 1]\n",
            " [0 0 0 0]\n",
            " [0 0 0 0]\n",
            " [0 0 0 0]]\n",
            "y: \n",
            " [0 0 0 0 0 0 1 0 0 0]\n"
          ]
        }
      ]
    },
    {
      "cell_type": "code",
      "source": [
        "#split dataset dengan test size 20%\n",
        "X_train, X_test, y_train, y_test = train_test_split(X, y, test_size=0.2, random_state=0)"
      ],
      "metadata": {
        "id": "62rRL9lTyt9l"
      },
      "execution_count": 20,
      "outputs": []
    },
    {
      "cell_type": "code",
      "source": [
        "#print bentuk dari hasil data split\n",
        "print('X_train shape: ',X_train.shape)\n",
        "print('X_test shape: ',X_test.shape)\n",
        "print('y_train shape: ',y_train.shape)\n",
        "print('y_test shape: ',y_test.shape)"
      ],
      "metadata": {
        "colab": {
          "base_uri": "https://localhost:8080/"
        },
        "id": "GNlIUp7RzCtm",
        "outputId": "4640897f-6ac7-4d69-9956-c0caeb703c04"
      },
      "execution_count": 21,
      "outputs": [
        {
          "output_type": "stream",
          "name": "stdout",
          "text": [
            "X_train shape:  (686, 4)\n",
            "X_test shape:  (172, 4)\n",
            "y_train shape:  (686,)\n",
            "y_test shape:  (172,)\n"
          ]
        }
      ]
    },
    {
      "cell_type": "code",
      "source": [
        "#membuat model klasifikasi dengan SVM\n",
        "classifierSVM= svm.SVC(kernel='linear')"
      ],
      "metadata": {
        "id": "xfzKwd8EzG9t"
      },
      "execution_count": 22,
      "outputs": []
    },
    {
      "cell_type": "code",
      "source": [
        "#training model klasifikasi\n",
        "classifierSVM.fit(X_train, y_train)"
      ],
      "metadata": {
        "colab": {
          "base_uri": "https://localhost:8080/"
        },
        "id": "6TseeeshdY4q",
        "outputId": "e121d252-6528-4bdf-d9a8-8dceea24c2e4"
      },
      "execution_count": 23,
      "outputs": [
        {
          "output_type": "execute_result",
          "data": {
            "text/plain": [
              "SVC(kernel='linear')"
            ]
          },
          "metadata": {},
          "execution_count": 23
        }
      ]
    },
    {
      "cell_type": "code",
      "source": [
        "#melakukan prediksi\n",
        "SVM_pred = classifierSVM.predict(X_test)"
      ],
      "metadata": {
        "id": "_sP5b-IhzIcN"
      },
      "execution_count": 24,
      "outputs": []
    },
    {
      "cell_type": "code",
      "source": [
        "#menampilkan hasil prediksi 15 kolom pertama\n",
        "print('index \\t cancer');\n",
        "for i,y in enumerate(SVM_pred[:15]):\n",
        "  print(f'{i} \\t {y}')"
      ],
      "metadata": {
        "colab": {
          "base_uri": "https://localhost:8080/"
        },
        "id": "nf7ZvbNMzMMc",
        "outputId": "d514dd27-1eed-4211-fa89-72369b544227"
      },
      "execution_count": 25,
      "outputs": [
        {
          "output_type": "stream",
          "name": "stdout",
          "text": [
            "index \t cancer\n",
            "0 \t 0\n",
            "1 \t 0\n",
            "2 \t 0\n",
            "3 \t 1\n",
            "4 \t 0\n",
            "5 \t 0\n",
            "6 \t 0\n",
            "7 \t 0\n",
            "8 \t 0\n",
            "9 \t 0\n",
            "10 \t 0\n",
            "11 \t 1\n",
            "12 \t 0\n",
            "13 \t 0\n",
            "14 \t 0\n"
          ]
        }
      ]
    },
    {
      "cell_type": "markdown",
      "source": [
        "## 6. Model Evaluation"
      ],
      "metadata": {
        "id": "fDyl2OH2acnt"
      }
    },
    {
      "cell_type": "code",
      "source": [
        "#menampilkan confussion matrix antara Naive Bayes\n",
        "plot_confusion_matrix(classifierSVM,X_test,y_test)\n",
        "plt.show()"
      ],
      "metadata": {
        "colab": {
          "base_uri": "https://localhost:8080/",
          "height": 279
        },
        "id": "JrMbvW_U0Yf1",
        "outputId": "727092ab-4b29-41be-df2d-7002cf68e3a6"
      },
      "execution_count": 26,
      "outputs": [
        {
          "output_type": "display_data",
          "data": {
            "text/plain": [
              "<Figure size 432x288 with 2 Axes>"
            ],
            "image/png": "[encoded data removed]"
          },
          "metadata": {
            "needs_background": "light"
          }
        }
      ]
    },
    {
      "cell_type": "code",
      "source": [
        "#menampilkan classification report untuk SVM Classification\n",
        "print('-------------------------------------------------------')\n",
        "print('Classification Report for SVM Classification')\n",
        "print('-------------------------------------------------------')\n",
        "print(classification_report(y_test,SVM_pred,zero_division=0))"
      ],
      "metadata": {
        "colab": {
          "base_uri": "https://localhost:8080/"
        },
        "id": "LxVFeYy9zZrM",
        "outputId": "b3a9f0e4-8255-47f1-c485-551d61b5ecf4"
      },
      "execution_count": 27,
      "outputs": [
        {
          "output_type": "stream",
          "name": "stdout",
          "text": [
            "-------------------------------------------------------\n",
            "Classification Report for SVM Classification\n",
            "-------------------------------------------------------\n",
            "              precision    recall  f1-score   support\n",
            "\n",
            "           0       0.99      1.00      1.00       154\n",
            "           1       1.00      0.94      0.97        18\n",
            "\n",
            "    accuracy                           0.99       172\n",
            "   macro avg       1.00      0.97      0.98       172\n",
            "weighted avg       0.99      0.99      0.99       172\n",
            "\n"
          ]
        }
      ]
    },
    {
      "cell_type": "markdown",
      "source": [
        "###ANALISIS"
      ],
      "metadata": {
        "id": "Dpz4BKfa0fv-"
      }
    },
    {
      "cell_type": "markdown",
      "source": [
        "Berdasarkan Confusion Matrix, maka klasifikasi tersebut menghasilkan:\n",
        "\n",
        "* True Negative : 154\n",
        "* True Positive : 17\n",
        "* False Positive : 0\n",
        "* False Negative : 1\n",
        "\n",
        "**Maka dapat dikatakan bahwa klasifikasi tersebut dapat benar-benar melakukan prediksi positif ataupun negatif karena nilai false nya sangat sedikit**"
      ],
      "metadata": {
        "id": "RBL5rW7l0u6U"
      }
    },
    {
      "cell_type": "markdown",
      "source": [
        "Berdasarkan Classification Report, maka klasifikasi tersebut menghasilkan: \n",
        "* Akurasi : 99%\n",
        "* Nilai Presisi Negatif : 99%\n",
        "* Nilai Presisi Positif : 100%\n",
        "* Nilai Recall Negatif : 100%\n",
        "* Nilai Recall Positif : 94%\n",
        "\n",
        "Artinya: \n",
        "* **Berdasakan nilai presisi, maka Algoritma SVM telah bagus dalam melakukan klasifikasi dataset tersebut karena banyak True Positif dengan prediksi yang dilakukan (99% dan 100%)**\n",
        "* **Berdasarkan nilai Recall, maka Algoritma SVM telah bagus dalam melakukan klasifikasi dataset tersebut karena banyak True Positif yang sesuai dengan class sebenarnya (100% dan 94%)**\n",
        "* **Nilai akurasi yang cukup tinggi (99%) mengindikasikan bahwa klasifikasi dataset tersebut dengan SVM telah menghasilkan prediksi class yang baik**"
      ],
      "metadata": {
        "id": "RXkYdIQg1fgg"
      }
    }
  ]
}