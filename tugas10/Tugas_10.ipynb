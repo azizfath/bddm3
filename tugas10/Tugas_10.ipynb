{
  "nbformat": 4,
  "nbformat_minor": 0,
  "metadata": {
    "colab": {
      "provenance": []
    },
    "kernelspec": {
      "name": "python3",
      "display_name": "Python 3"
    },
    "language_info": {
      "name": "python"
    }
  },
  "cells": [
    {
      "cell_type": "markdown",
      "source": [
        "Diberikan dataset sebagai berikut:\n",
        "https://drive.google.com/file/d/1W_-TeeNbSMCHxGhz6TJfEHFHgnyMiBQk/view?usp=share_link\n",
        "\n"
      ],
      "metadata": {
        "id": "_IqwPxlErg6N"
      }
    },
    {
      "cell_type": "markdown",
      "source": [
        "Tulis Identitas anda:\n",
        "\n",
        "*   Nim: 20.11.3694\n",
        "*   Nama: Fathurahman Nur Aziz\n",
        "*   Kelas: 20-SIIF-07 / 20S1IF-BigData3\n"
      ],
      "metadata": {
        "id": "YlDkkmrlpuyY"
      }
    },
    {
      "cell_type": "markdown",
      "source": [
        "1. Lakukan klasifikasi dengan ketentuan sebagai berikut:\n",
        "\n",
        "\n",
        "*   a. gunakan algoritma naive bayes\n",
        "*   b. gunakan algoritma random forest\n",
        "\n",
        "\n",
        "\n"
      ],
      "metadata": {
        "id": "1iCDZ7ZZr8x0"
      }
    },
    {
      "cell_type": "markdown",
      "source": [
        "2. Lakukan analisa performa naive bayes dan random forest tersebut"
      ],
      "metadata": {
        "id": "DxhUOwTtsUcS"
      }
    },
    {
      "cell_type": "markdown",
      "source": [
        "3. Gunakan K-FOLD VALIDATION DENGAN nilai K=10, untuk mengukur performa 2 algoritma tersebut"
      ],
      "metadata": {
        "id": "_qcKqECTsloz"
      }
    },
    {
      "cell_type": "markdown",
      "source": [
        "4. Lakukan analisa, algoritma mana yang paling baik performanya menurut anda, berikan penjelasannya"
      ],
      "metadata": {
        "id": "Poy0wgxAs3J7"
      }
    },
    {
      "cell_type": "markdown",
      "source": [
        "#JAWABAN :"
      ],
      "metadata": {
        "id": "BOCONiA1u3HT"
      }
    },
    {
      "cell_type": "markdown",
      "source": [
        "##1. Import Library"
      ],
      "metadata": {
        "id": "IdVnsUaCvUzL"
      }
    },
    {
      "cell_type": "code",
      "source": [
        "#import library\n",
        "import pandas as pd\n",
        "import matplotlib.pyplot as plt\n",
        "from sklearn.model_selection import train_test_split, cross_validate\n",
        "from sklearn.naive_bayes import GaussianNB\n",
        "from sklearn.ensemble import RandomForestClassifier\n",
        "from sklearn.metrics import *"
      ],
      "metadata": {
        "id": "EotM6tDPvQq9"
      },
      "execution_count": 1,
      "outputs": []
    },
    {
      "cell_type": "markdown",
      "source": [
        "##2. Load Dataset"
      ],
      "metadata": {
        "id": "h2MjnSaDu6VL"
      }
    },
    {
      "cell_type": "code",
      "source": [
        "#load dataset\n",
        "url = 'https://raw.githubusercontent.com/azizfath/bddm3/main/tugas10/IRIS.csv'\n",
        "\n",
        "df = pd.read_csv(url)\n",
        "df.head()"
      ],
      "metadata": {
        "colab": {
          "base_uri": "https://localhost:8080/",
          "height": 206
        },
        "id": "EFPsqPBCuhwF",
        "outputId": "2b9371a6-b3f7-4d3c-8bdf-99af16136f81"
      },
      "execution_count": 2,
      "outputs": [
        {
          "output_type": "execute_result",
          "data": {
            "text/plain": [
              "   sepal_length  sepal_width  petal_length  petal_width      species\n",
              "0           5.1          3.5           1.4          0.2  Iris-setosa\n",
              "1           4.9          3.0           1.4          0.2  Iris-setosa\n",
              "2           4.7          3.2           1.3          0.2  Iris-setosa\n",
              "3           4.6          3.1           1.5          0.2  Iris-setosa\n",
              "4           5.0          3.6           1.4          0.2  Iris-setosa"
            ],
            "text/html": [
              "\n",
              "  <div id=\"df-048ae474-d01f-4615-914e-b40f0d21e939\">\n",
              "    <div class=\"colab-df-container\">\n",
              "      <div>\n",
              "<style scoped>\n",
              "    .dataframe tbody tr th:only-of-type {\n",
              "        vertical-align: middle;\n",
              "    }\n",
              "\n",
              "    .dataframe tbody tr th {\n",
              "        vertical-align: top;\n",
              "    }\n",
              "\n",
              "    .dataframe thead th {\n",
              "        text-align: right;\n",
              "    }\n",
              "</style>\n",
              "<table border=\"1\" class=\"dataframe\">\n",
              "  <thead>\n",
              "    <tr style=\"text-align: right;\">\n",
              "      <th></th>\n",
              "      <th>sepal_length</th>\n",
              "      <th>sepal_width</th>\n",
              "      <th>petal_length</th>\n",
              "      <th>petal_width</th>\n",
              "      <th>species</th>\n",
              "    </tr>\n",
              "  </thead>\n",
              "  <tbody>\n",
              "    <tr>\n",
              "      <th>0</th>\n",
              "      <td>5.1</td>\n",
              "      <td>3.5</td>\n",
              "      <td>1.4</td>\n",
              "      <td>0.2</td>\n",
              "      <td>Iris-setosa</td>\n",
              "    </tr>\n",
              "    <tr>\n",
              "      <th>1</th>\n",
              "      <td>4.9</td>\n",
              "      <td>3.0</td>\n",
              "      <td>1.4</td>\n",
              "      <td>0.2</td>\n",
              "      <td>Iris-setosa</td>\n",
              "    </tr>\n",
              "    <tr>\n",
              "      <th>2</th>\n",
              "      <td>4.7</td>\n",
              "      <td>3.2</td>\n",
              "      <td>1.3</td>\n",
              "      <td>0.2</td>\n",
              "      <td>Iris-setosa</td>\n",
              "    </tr>\n",
              "    <tr>\n",
              "      <th>3</th>\n",
              "      <td>4.6</td>\n",
              "      <td>3.1</td>\n",
              "      <td>1.5</td>\n",
              "      <td>0.2</td>\n",
              "      <td>Iris-setosa</td>\n",
              "    </tr>\n",
              "    <tr>\n",
              "      <th>4</th>\n",
              "      <td>5.0</td>\n",
              "      <td>3.6</td>\n",
              "      <td>1.4</td>\n",
              "      <td>0.2</td>\n",
              "      <td>Iris-setosa</td>\n",
              "    </tr>\n",
              "  </tbody>\n",
              "</table>\n",
              "</div>\n",
              "      <button class=\"colab-df-convert\" onclick=\"convertToInteractive('df-048ae474-d01f-4615-914e-b40f0d21e939')\"\n",
              "              title=\"Convert this dataframe to an interactive table.\"\n",
              "              style=\"display:none;\">\n",
              "        \n",
              "  <svg xmlns=\"http://www.w3.org/2000/svg\" height=\"24px\"viewBox=\"0 0 24 24\"\n",
              "       width=\"24px\">\n",
              "    <path d=\"M0 0h24v24H0V0z\" fill=\"none\"/>\n",
              "    <path d=\"M18.56 5.44l.94 2.06.94-2.06 2.06-.94-2.06-.94-.94-2.06-.94 2.06-2.06.94zm-11 1L8.5 8.5l.94-2.06 2.06-.94-2.06-.94L8.5 2.5l-.94 2.06-2.06.94zm10 10l.94 2.06.94-2.06 2.06-.94-2.06-.94-.94-2.06-.94 2.06-2.06.94z\"/><path d=\"M17.41 7.96l-1.37-1.37c-.4-.4-.92-.59-1.43-.59-.52 0-1.04.2-1.43.59L10.3 9.45l-7.72 7.72c-.78.78-.78 2.05 0 2.83L4 21.41c.39.39.9.59 1.41.59.51 0 1.02-.2 1.41-.59l7.78-7.78 2.81-2.81c.8-.78.8-2.07 0-2.86zM5.41 20L4 18.59l7.72-7.72 1.47 1.35L5.41 20z\"/>\n",
              "  </svg>\n",
              "      </button>\n",
              "      \n",
              "  <style>\n",
              "    .colab-df-container {\n",
              "      display:flex;\n",
              "      flex-wrap:wrap;\n",
              "      gap: 12px;\n",
              "    }\n",
              "\n",
              "    .colab-df-convert {\n",
              "      background-color: #E8F0FE;\n",
              "      border: none;\n",
              "      border-radius: 50%;\n",
              "      cursor: pointer;\n",
              "      display: none;\n",
              "      fill: #1967D2;\n",
              "      height: 32px;\n",
              "      padding: 0 0 0 0;\n",
              "      width: 32px;\n",
              "    }\n",
              "\n",
              "    .colab-df-convert:hover {\n",
              "      background-color: #E2EBFA;\n",
              "      box-shadow: 0px 1px 2px rgba(60, 64, 67, 0.3), 0px 1px 3px 1px rgba(60, 64, 67, 0.15);\n",
              "      fill: #174EA6;\n",
              "    }\n",
              "\n",
              "    [theme=dark] .colab-df-convert {\n",
              "      background-color: #3B4455;\n",
              "      fill: #D2E3FC;\n",
              "    }\n",
              "\n",
              "    [theme=dark] .colab-df-convert:hover {\n",
              "      background-color: #434B5C;\n",
              "      box-shadow: 0px 1px 3px 1px rgba(0, 0, 0, 0.15);\n",
              "      filter: drop-shadow(0px 1px 2px rgba(0, 0, 0, 0.3));\n",
              "      fill: #FFFFFF;\n",
              "    }\n",
              "  </style>\n",
              "\n",
              "      <script>\n",
              "        const buttonEl =\n",
              "          document.querySelector('#df-048ae474-d01f-4615-914e-b40f0d21e939 button.colab-df-convert');\n",
              "        buttonEl.style.display =\n",
              "          google.colab.kernel.accessAllowed ? 'block' : 'none';\n",
              "\n",
              "        async function convertToInteractive(key) {\n",
              "          const element = document.querySelector('#df-048ae474-d01f-4615-914e-b40f0d21e939');\n",
              "          const dataTable =\n",
              "            await google.colab.kernel.invokeFunction('convertToInteractive',\n",
              "                                                     [key], {});\n",
              "          if (!dataTable) return;\n",
              "\n",
              "          const docLinkHtml = 'Like what you see? Visit the ' +\n",
              "            '<a target=\"_blank\" href=https://colab.research.google.com/notebooks/data_table.ipynb>data table notebook</a>'\n",
              "            + ' to learn more about interactive tables.';\n",
              "          element.innerHTML = '';\n",
              "          dataTable['output_type'] = 'display_data';\n",
              "          await google.colab.output.renderOutput(dataTable, element);\n",
              "          const docLink = document.createElement('div');\n",
              "          docLink.innerHTML = docLinkHtml;\n",
              "          element.appendChild(docLink);\n",
              "        }\n",
              "      </script>\n",
              "    </div>\n",
              "  </div>\n",
              "  "
            ]
          },
          "metadata": {},
          "execution_count": 2
        }
      ]
    },
    {
      "cell_type": "markdown",
      "source": [
        "##3. Encoding"
      ],
      "metadata": {
        "id": "Tzc6Zm1Fx3TI"
      }
    },
    {
      "cell_type": "code",
      "source": [
        "#cek data unik dari kolom species\n",
        "df['species'].unique()"
      ],
      "metadata": {
        "colab": {
          "base_uri": "https://localhost:8080/"
        },
        "id": "7oVANIB8yHdx",
        "outputId": "3f875ba0-f8eb-4bd6-8d40-554765b2bc67"
      },
      "execution_count": 3,
      "outputs": [
        {
          "output_type": "execute_result",
          "data": {
            "text/plain": [
              "array(['Iris-setosa', 'Iris-versicolor', 'Iris-virginica'], dtype=object)"
            ]
          },
          "metadata": {},
          "execution_count": 3
        }
      ]
    },
    {
      "cell_type": "code",
      "source": [
        "#melakukan mapping untuk kolom spesies\n",
        "num_species= {\n",
        "    'Iris-setosa':0, \n",
        "    'Iris-versicolor':1,\n",
        "    'Iris-virginica':2\n",
        "}\n",
        "\n",
        "#encoding dengan map di atas\n",
        "#kemudian letakan di dataframe baru\n",
        "df_encoded = df.copy()\n",
        "df_encoded['species'] = df_encoded['species'].map(num_species)"
      ],
      "metadata": {
        "id": "PyrVx1TxyM0W"
      },
      "execution_count": 4,
      "outputs": []
    },
    {
      "cell_type": "code",
      "source": [
        "#melihat ulang hasil mapping df sebelumnya\n",
        "df_encoded"
      ],
      "metadata": {
        "colab": {
          "base_uri": "https://localhost:8080/",
          "height": 424
        },
        "id": "GVWxuE0TzQE6",
        "outputId": "5e69eee3-7bec-4cbf-9be5-76247b2d2deb"
      },
      "execution_count": 5,
      "outputs": [
        {
          "output_type": "execute_result",
          "data": {
            "text/plain": [
              "     sepal_length  sepal_width  petal_length  petal_width  species\n",
              "0             5.1          3.5           1.4          0.2        0\n",
              "1             4.9          3.0           1.4          0.2        0\n",
              "2             4.7          3.2           1.3          0.2        0\n",
              "3             4.6          3.1           1.5          0.2        0\n",
              "4             5.0          3.6           1.4          0.2        0\n",
              "..            ...          ...           ...          ...      ...\n",
              "145           6.7          3.0           5.2          2.3        2\n",
              "146           6.3          2.5           5.0          1.9        2\n",
              "147           6.5          3.0           5.2          2.0        2\n",
              "148           6.2          3.4           5.4          2.3        2\n",
              "149           5.9          3.0           5.1          1.8        2\n",
              "\n",
              "[150 rows x 5 columns]"
            ],
            "text/html": [
              "\n",
              "  <div id=\"df-3fe6beb4-f338-4531-b22d-60b25c9266e8\">\n",
              "    <div class=\"colab-df-container\">\n",
              "      <div>\n",
              "<style scoped>\n",
              "    .dataframe tbody tr th:only-of-type {\n",
              "        vertical-align: middle;\n",
              "    }\n",
              "\n",
              "    .dataframe tbody tr th {\n",
              "        vertical-align: top;\n",
              "    }\n",
              "\n",
              "    .dataframe thead th {\n",
              "        text-align: right;\n",
              "    }\n",
              "</style>\n",
              "<table border=\"1\" class=\"dataframe\">\n",
              "  <thead>\n",
              "    <tr style=\"text-align: right;\">\n",
              "      <th></th>\n",
              "      <th>sepal_length</th>\n",
              "      <th>sepal_width</th>\n",
              "      <th>petal_length</th>\n",
              "      <th>petal_width</th>\n",
              "      <th>species</th>\n",
              "    </tr>\n",
              "  </thead>\n",
              "  <tbody>\n",
              "    <tr>\n",
              "      <th>0</th>\n",
              "      <td>5.1</td>\n",
              "      <td>3.5</td>\n",
              "      <td>1.4</td>\n",
              "      <td>0.2</td>\n",
              "      <td>0</td>\n",
              "    </tr>\n",
              "    <tr>\n",
              "      <th>1</th>\n",
              "      <td>4.9</td>\n",
              "      <td>3.0</td>\n",
              "      <td>1.4</td>\n",
              "      <td>0.2</td>\n",
              "      <td>0</td>\n",
              "    </tr>\n",
              "    <tr>\n",
              "      <th>2</th>\n",
              "      <td>4.7</td>\n",
              "      <td>3.2</td>\n",
              "      <td>1.3</td>\n",
              "      <td>0.2</td>\n",
              "      <td>0</td>\n",
              "    </tr>\n",
              "    <tr>\n",
              "      <th>3</th>\n",
              "      <td>4.6</td>\n",
              "      <td>3.1</td>\n",
              "      <td>1.5</td>\n",
              "      <td>0.2</td>\n",
              "      <td>0</td>\n",
              "    </tr>\n",
              "    <tr>\n",
              "      <th>4</th>\n",
              "      <td>5.0</td>\n",
              "      <td>3.6</td>\n",
              "      <td>1.4</td>\n",
              "      <td>0.2</td>\n",
              "      <td>0</td>\n",
              "    </tr>\n",
              "    <tr>\n",
              "      <th>...</th>\n",
              "      <td>...</td>\n",
              "      <td>...</td>\n",
              "      <td>...</td>\n",
              "      <td>...</td>\n",
              "      <td>...</td>\n",
              "    </tr>\n",
              "    <tr>\n",
              "      <th>145</th>\n",
              "      <td>6.7</td>\n",
              "      <td>3.0</td>\n",
              "      <td>5.2</td>\n",
              "      <td>2.3</td>\n",
              "      <td>2</td>\n",
              "    </tr>\n",
              "    <tr>\n",
              "      <th>146</th>\n",
              "      <td>6.3</td>\n",
              "      <td>2.5</td>\n",
              "      <td>5.0</td>\n",
              "      <td>1.9</td>\n",
              "      <td>2</td>\n",
              "    </tr>\n",
              "    <tr>\n",
              "      <th>147</th>\n",
              "      <td>6.5</td>\n",
              "      <td>3.0</td>\n",
              "      <td>5.2</td>\n",
              "      <td>2.0</td>\n",
              "      <td>2</td>\n",
              "    </tr>\n",
              "    <tr>\n",
              "      <th>148</th>\n",
              "      <td>6.2</td>\n",
              "      <td>3.4</td>\n",
              "      <td>5.4</td>\n",
              "      <td>2.3</td>\n",
              "      <td>2</td>\n",
              "    </tr>\n",
              "    <tr>\n",
              "      <th>149</th>\n",
              "      <td>5.9</td>\n",
              "      <td>3.0</td>\n",
              "      <td>5.1</td>\n",
              "      <td>1.8</td>\n",
              "      <td>2</td>\n",
              "    </tr>\n",
              "  </tbody>\n",
              "</table>\n",
              "<p>150 rows × 5 columns</p>\n",
              "</div>\n",
              "      <button class=\"colab-df-convert\" onclick=\"convertToInteractive('df-3fe6beb4-f338-4531-b22d-60b25c9266e8')\"\n",
              "              title=\"Convert this dataframe to an interactive table.\"\n",
              "              style=\"display:none;\">\n",
              "        \n",
              "  <svg xmlns=\"http://www.w3.org/2000/svg\" height=\"24px\"viewBox=\"0 0 24 24\"\n",
              "       width=\"24px\">\n",
              "    <path d=\"M0 0h24v24H0V0z\" fill=\"none\"/>\n",
              "    <path d=\"M18.56 5.44l.94 2.06.94-2.06 2.06-.94-2.06-.94-.94-2.06-.94 2.06-2.06.94zm-11 1L8.5 8.5l.94-2.06 2.06-.94-2.06-.94L8.5 2.5l-.94 2.06-2.06.94zm10 10l.94 2.06.94-2.06 2.06-.94-2.06-.94-.94-2.06-.94 2.06-2.06.94z\"/><path d=\"M17.41 7.96l-1.37-1.37c-.4-.4-.92-.59-1.43-.59-.52 0-1.04.2-1.43.59L10.3 9.45l-7.72 7.72c-.78.78-.78 2.05 0 2.83L4 21.41c.39.39.9.59 1.41.59.51 0 1.02-.2 1.41-.59l7.78-7.78 2.81-2.81c.8-.78.8-2.07 0-2.86zM5.41 20L4 18.59l7.72-7.72 1.47 1.35L5.41 20z\"/>\n",
              "  </svg>\n",
              "      </button>\n",
              "      \n",
              "  <style>\n",
              "    .colab-df-container {\n",
              "      display:flex;\n",
              "      flex-wrap:wrap;\n",
              "      gap: 12px;\n",
              "    }\n",
              "\n",
              "    .colab-df-convert {\n",
              "      background-color: #E8F0FE;\n",
              "      border: none;\n",
              "      border-radius: 50%;\n",
              "      cursor: pointer;\n",
              "      display: none;\n",
              "      fill: #1967D2;\n",
              "      height: 32px;\n",
              "      padding: 0 0 0 0;\n",
              "      width: 32px;\n",
              "    }\n",
              "\n",
              "    .colab-df-convert:hover {\n",
              "      background-color: #E2EBFA;\n",
              "      box-shadow: 0px 1px 2px rgba(60, 64, 67, 0.3), 0px 1px 3px 1px rgba(60, 64, 67, 0.15);\n",
              "      fill: #174EA6;\n",
              "    }\n",
              "\n",
              "    [theme=dark] .colab-df-convert {\n",
              "      background-color: #3B4455;\n",
              "      fill: #D2E3FC;\n",
              "    }\n",
              "\n",
              "    [theme=dark] .colab-df-convert:hover {\n",
              "      background-color: #434B5C;\n",
              "      box-shadow: 0px 1px 3px 1px rgba(0, 0, 0, 0.15);\n",
              "      filter: drop-shadow(0px 1px 2px rgba(0, 0, 0, 0.3));\n",
              "      fill: #FFFFFF;\n",
              "    }\n",
              "  </style>\n",
              "\n",
              "      <script>\n",
              "        const buttonEl =\n",
              "          document.querySelector('#df-3fe6beb4-f338-4531-b22d-60b25c9266e8 button.colab-df-convert');\n",
              "        buttonEl.style.display =\n",
              "          google.colab.kernel.accessAllowed ? 'block' : 'none';\n",
              "\n",
              "        async function convertToInteractive(key) {\n",
              "          const element = document.querySelector('#df-3fe6beb4-f338-4531-b22d-60b25c9266e8');\n",
              "          const dataTable =\n",
              "            await google.colab.kernel.invokeFunction('convertToInteractive',\n",
              "                                                     [key], {});\n",
              "          if (!dataTable) return;\n",
              "\n",
              "          const docLinkHtml = 'Like what you see? Visit the ' +\n",
              "            '<a target=\"_blank\" href=https://colab.research.google.com/notebooks/data_table.ipynb>data table notebook</a>'\n",
              "            + ' to learn more about interactive tables.';\n",
              "          element.innerHTML = '';\n",
              "          dataTable['output_type'] = 'display_data';\n",
              "          await google.colab.output.renderOutput(dataTable, element);\n",
              "          const docLink = document.createElement('div');\n",
              "          docLink.innerHTML = docLinkHtml;\n",
              "          element.appendChild(docLink);\n",
              "        }\n",
              "      </script>\n",
              "    </div>\n",
              "  </div>\n",
              "  "
            ]
          },
          "metadata": {},
          "execution_count": 5
        }
      ]
    },
    {
      "cell_type": "markdown",
      "source": [
        "###4. Preparing Data for Classification"
      ],
      "metadata": {
        "id": "YizRZ5x4zufr"
      }
    },
    {
      "cell_type": "code",
      "source": [
        "#mencari korelasi dengan method df.corr()\n",
        "corr = df_encoded.corr()\n",
        "corr"
      ],
      "metadata": {
        "colab": {
          "base_uri": "https://localhost:8080/",
          "height": 206
        },
        "id": "0NVOlnv5wxJP",
        "outputId": "ce0131a7-c62f-4125-a8c4-05561511b321"
      },
      "execution_count": 6,
      "outputs": [
        {
          "output_type": "execute_result",
          "data": {
            "text/plain": [
              "              sepal_length  sepal_width  petal_length  petal_width   species\n",
              "sepal_length      1.000000    -0.109369      0.871754     0.817954  0.782561\n",
              "sepal_width      -0.109369     1.000000     -0.420516    -0.356544 -0.419446\n",
              "petal_length      0.871754    -0.420516      1.000000     0.962757  0.949043\n",
              "petal_width       0.817954    -0.356544      0.962757     1.000000  0.956464\n",
              "species           0.782561    -0.419446      0.949043     0.956464  1.000000"
            ],
            "text/html": [
              "\n",
              "  <div id=\"df-ae977220-511c-4693-a1b3-1e74729dd3d4\">\n",
              "    <div class=\"colab-df-container\">\n",
              "      <div>\n",
              "<style scoped>\n",
              "    .dataframe tbody tr th:only-of-type {\n",
              "        vertical-align: middle;\n",
              "    }\n",
              "\n",
              "    .dataframe tbody tr th {\n",
              "        vertical-align: top;\n",
              "    }\n",
              "\n",
              "    .dataframe thead th {\n",
              "        text-align: right;\n",
              "    }\n",
              "</style>\n",
              "<table border=\"1\" class=\"dataframe\">\n",
              "  <thead>\n",
              "    <tr style=\"text-align: right;\">\n",
              "      <th></th>\n",
              "      <th>sepal_length</th>\n",
              "      <th>sepal_width</th>\n",
              "      <th>petal_length</th>\n",
              "      <th>petal_width</th>\n",
              "      <th>species</th>\n",
              "    </tr>\n",
              "  </thead>\n",
              "  <tbody>\n",
              "    <tr>\n",
              "      <th>sepal_length</th>\n",
              "      <td>1.000000</td>\n",
              "      <td>-0.109369</td>\n",
              "      <td>0.871754</td>\n",
              "      <td>0.817954</td>\n",
              "      <td>0.782561</td>\n",
              "    </tr>\n",
              "    <tr>\n",
              "      <th>sepal_width</th>\n",
              "      <td>-0.109369</td>\n",
              "      <td>1.000000</td>\n",
              "      <td>-0.420516</td>\n",
              "      <td>-0.356544</td>\n",
              "      <td>-0.419446</td>\n",
              "    </tr>\n",
              "    <tr>\n",
              "      <th>petal_length</th>\n",
              "      <td>0.871754</td>\n",
              "      <td>-0.420516</td>\n",
              "      <td>1.000000</td>\n",
              "      <td>0.962757</td>\n",
              "      <td>0.949043</td>\n",
              "    </tr>\n",
              "    <tr>\n",
              "      <th>petal_width</th>\n",
              "      <td>0.817954</td>\n",
              "      <td>-0.356544</td>\n",
              "      <td>0.962757</td>\n",
              "      <td>1.000000</td>\n",
              "      <td>0.956464</td>\n",
              "    </tr>\n",
              "    <tr>\n",
              "      <th>species</th>\n",
              "      <td>0.782561</td>\n",
              "      <td>-0.419446</td>\n",
              "      <td>0.949043</td>\n",
              "      <td>0.956464</td>\n",
              "      <td>1.000000</td>\n",
              "    </tr>\n",
              "  </tbody>\n",
              "</table>\n",
              "</div>\n",
              "      <button class=\"colab-df-convert\" onclick=\"convertToInteractive('df-ae977220-511c-4693-a1b3-1e74729dd3d4')\"\n",
              "              title=\"Convert this dataframe to an interactive table.\"\n",
              "              style=\"display:none;\">\n",
              "        \n",
              "  <svg xmlns=\"http://www.w3.org/2000/svg\" height=\"24px\"viewBox=\"0 0 24 24\"\n",
              "       width=\"24px\">\n",
              "    <path d=\"M0 0h24v24H0V0z\" fill=\"none\"/>\n",
              "    <path d=\"M18.56 5.44l.94 2.06.94-2.06 2.06-.94-2.06-.94-.94-2.06-.94 2.06-2.06.94zm-11 1L8.5 8.5l.94-2.06 2.06-.94-2.06-.94L8.5 2.5l-.94 2.06-2.06.94zm10 10l.94 2.06.94-2.06 2.06-.94-2.06-.94-.94-2.06-.94 2.06-2.06.94z\"/><path d=\"M17.41 7.96l-1.37-1.37c-.4-.4-.92-.59-1.43-.59-.52 0-1.04.2-1.43.59L10.3 9.45l-7.72 7.72c-.78.78-.78 2.05 0 2.83L4 21.41c.39.39.9.59 1.41.59.51 0 1.02-.2 1.41-.59l7.78-7.78 2.81-2.81c.8-.78.8-2.07 0-2.86zM5.41 20L4 18.59l7.72-7.72 1.47 1.35L5.41 20z\"/>\n",
              "  </svg>\n",
              "      </button>\n",
              "      \n",
              "  <style>\n",
              "    .colab-df-container {\n",
              "      display:flex;\n",
              "      flex-wrap:wrap;\n",
              "      gap: 12px;\n",
              "    }\n",
              "\n",
              "    .colab-df-convert {\n",
              "      background-color: #E8F0FE;\n",
              "      border: none;\n",
              "      border-radius: 50%;\n",
              "      cursor: pointer;\n",
              "      display: none;\n",
              "      fill: #1967D2;\n",
              "      height: 32px;\n",
              "      padding: 0 0 0 0;\n",
              "      width: 32px;\n",
              "    }\n",
              "\n",
              "    .colab-df-convert:hover {\n",
              "      background-color: #E2EBFA;\n",
              "      box-shadow: 0px 1px 2px rgba(60, 64, 67, 0.3), 0px 1px 3px 1px rgba(60, 64, 67, 0.15);\n",
              "      fill: #174EA6;\n",
              "    }\n",
              "\n",
              "    [theme=dark] .colab-df-convert {\n",
              "      background-color: #3B4455;\n",
              "      fill: #D2E3FC;\n",
              "    }\n",
              "\n",
              "    [theme=dark] .colab-df-convert:hover {\n",
              "      background-color: #434B5C;\n",
              "      box-shadow: 0px 1px 3px 1px rgba(0, 0, 0, 0.15);\n",
              "      filter: drop-shadow(0px 1px 2px rgba(0, 0, 0, 0.3));\n",
              "      fill: #FFFFFF;\n",
              "    }\n",
              "  </style>\n",
              "\n",
              "      <script>\n",
              "        const buttonEl =\n",
              "          document.querySelector('#df-ae977220-511c-4693-a1b3-1e74729dd3d4 button.colab-df-convert');\n",
              "        buttonEl.style.display =\n",
              "          google.colab.kernel.accessAllowed ? 'block' : 'none';\n",
              "\n",
              "        async function convertToInteractive(key) {\n",
              "          const element = document.querySelector('#df-ae977220-511c-4693-a1b3-1e74729dd3d4');\n",
              "          const dataTable =\n",
              "            await google.colab.kernel.invokeFunction('convertToInteractive',\n",
              "                                                     [key], {});\n",
              "          if (!dataTable) return;\n",
              "\n",
              "          const docLinkHtml = 'Like what you see? Visit the ' +\n",
              "            '<a target=\"_blank\" href=https://colab.research.google.com/notebooks/data_table.ipynb>data table notebook</a>'\n",
              "            + ' to learn more about interactive tables.';\n",
              "          element.innerHTML = '';\n",
              "          dataTable['output_type'] = 'display_data';\n",
              "          await google.colab.output.renderOutput(dataTable, element);\n",
              "          const docLink = document.createElement('div');\n",
              "          docLink.innerHTML = docLinkHtml;\n",
              "          element.appendChild(docLink);\n",
              "        }\n",
              "      </script>\n",
              "    </div>\n",
              "  </div>\n",
              "  "
            ]
          },
          "metadata": {},
          "execution_count": 6
        }
      ]
    },
    {
      "cell_type": "code",
      "source": [
        "#mencari korelasi kolom species\n",
        "\n",
        "corr_species = abs(corr['species'])\n",
        "#mencari fitur yang relevan\n",
        "relevant_features = corr_species[corr_species>0.5]\n",
        "relevant_features"
      ],
      "metadata": {
        "id": "izsSQPmRxEk9",
        "colab": {
          "base_uri": "https://localhost:8080/"
        },
        "outputId": "00988a62-7116-4d85-e95f-6cefd1d440c2"
      },
      "execution_count": 7,
      "outputs": [
        {
          "output_type": "execute_result",
          "data": {
            "text/plain": [
              "sepal_length    0.782561\n",
              "petal_length    0.949043\n",
              "petal_width     0.956464\n",
              "species         1.000000\n",
              "Name: species, dtype: float64"
            ]
          },
          "metadata": {},
          "execution_count": 7
        }
      ]
    },
    {
      "cell_type": "code",
      "source": [
        "#drop kolom yang tidak terpakai\n",
        "df_encoded.drop(['sepal_width'], axis=1, inplace=True)\n",
        "df_encoded"
      ],
      "metadata": {
        "colab": {
          "base_uri": "https://localhost:8080/",
          "height": 424
        },
        "id": "sodqcGBtG33m",
        "outputId": "de97b2a7-e1b1-446b-a456-65a79375b852"
      },
      "execution_count": 8,
      "outputs": [
        {
          "output_type": "execute_result",
          "data": {
            "text/plain": [
              "     sepal_length  petal_length  petal_width  species\n",
              "0             5.1           1.4          0.2        0\n",
              "1             4.9           1.4          0.2        0\n",
              "2             4.7           1.3          0.2        0\n",
              "3             4.6           1.5          0.2        0\n",
              "4             5.0           1.4          0.2        0\n",
              "..            ...           ...          ...      ...\n",
              "145           6.7           5.2          2.3        2\n",
              "146           6.3           5.0          1.9        2\n",
              "147           6.5           5.2          2.0        2\n",
              "148           6.2           5.4          2.3        2\n",
              "149           5.9           5.1          1.8        2\n",
              "\n",
              "[150 rows x 4 columns]"
            ],
            "text/html": [
              "\n",
              "  <div id=\"df-755f0fb9-57ac-4c84-8349-3908d76a6c10\">\n",
              "    <div class=\"colab-df-container\">\n",
              "      <div>\n",
              "<style scoped>\n",
              "    .dataframe tbody tr th:only-of-type {\n",
              "        vertical-align: middle;\n",
              "    }\n",
              "\n",
              "    .dataframe tbody tr th {\n",
              "        vertical-align: top;\n",
              "    }\n",
              "\n",
              "    .dataframe thead th {\n",
              "        text-align: right;\n",
              "    }\n",
              "</style>\n",
              "<table border=\"1\" class=\"dataframe\">\n",
              "  <thead>\n",
              "    <tr style=\"text-align: right;\">\n",
              "      <th></th>\n",
              "      <th>sepal_length</th>\n",
              "      <th>petal_length</th>\n",
              "      <th>petal_width</th>\n",
              "      <th>species</th>\n",
              "    </tr>\n",
              "  </thead>\n",
              "  <tbody>\n",
              "    <tr>\n",
              "      <th>0</th>\n",
              "      <td>5.1</td>\n",
              "      <td>1.4</td>\n",
              "      <td>0.2</td>\n",
              "      <td>0</td>\n",
              "    </tr>\n",
              "    <tr>\n",
              "      <th>1</th>\n",
              "      <td>4.9</td>\n",
              "      <td>1.4</td>\n",
              "      <td>0.2</td>\n",
              "      <td>0</td>\n",
              "    </tr>\n",
              "    <tr>\n",
              "      <th>2</th>\n",
              "      <td>4.7</td>\n",
              "      <td>1.3</td>\n",
              "      <td>0.2</td>\n",
              "      <td>0</td>\n",
              "    </tr>\n",
              "    <tr>\n",
              "      <th>3</th>\n",
              "      <td>4.6</td>\n",
              "      <td>1.5</td>\n",
              "      <td>0.2</td>\n",
              "      <td>0</td>\n",
              "    </tr>\n",
              "    <tr>\n",
              "      <th>4</th>\n",
              "      <td>5.0</td>\n",
              "      <td>1.4</td>\n",
              "      <td>0.2</td>\n",
              "      <td>0</td>\n",
              "    </tr>\n",
              "    <tr>\n",
              "      <th>...</th>\n",
              "      <td>...</td>\n",
              "      <td>...</td>\n",
              "      <td>...</td>\n",
              "      <td>...</td>\n",
              "    </tr>\n",
              "    <tr>\n",
              "      <th>145</th>\n",
              "      <td>6.7</td>\n",
              "      <td>5.2</td>\n",
              "      <td>2.3</td>\n",
              "      <td>2</td>\n",
              "    </tr>\n",
              "    <tr>\n",
              "      <th>146</th>\n",
              "      <td>6.3</td>\n",
              "      <td>5.0</td>\n",
              "      <td>1.9</td>\n",
              "      <td>2</td>\n",
              "    </tr>\n",
              "    <tr>\n",
              "      <th>147</th>\n",
              "      <td>6.5</td>\n",
              "      <td>5.2</td>\n",
              "      <td>2.0</td>\n",
              "      <td>2</td>\n",
              "    </tr>\n",
              "    <tr>\n",
              "      <th>148</th>\n",
              "      <td>6.2</td>\n",
              "      <td>5.4</td>\n",
              "      <td>2.3</td>\n",
              "      <td>2</td>\n",
              "    </tr>\n",
              "    <tr>\n",
              "      <th>149</th>\n",
              "      <td>5.9</td>\n",
              "      <td>5.1</td>\n",
              "      <td>1.8</td>\n",
              "      <td>2</td>\n",
              "    </tr>\n",
              "  </tbody>\n",
              "</table>\n",
              "<p>150 rows × 4 columns</p>\n",
              "</div>\n",
              "      <button class=\"colab-df-convert\" onclick=\"convertToInteractive('df-755f0fb9-57ac-4c84-8349-3908d76a6c10')\"\n",
              "              title=\"Convert this dataframe to an interactive table.\"\n",
              "              style=\"display:none;\">\n",
              "        \n",
              "  <svg xmlns=\"http://www.w3.org/2000/svg\" height=\"24px\"viewBox=\"0 0 24 24\"\n",
              "       width=\"24px\">\n",
              "    <path d=\"M0 0h24v24H0V0z\" fill=\"none\"/>\n",
              "    <path d=\"M18.56 5.44l.94 2.06.94-2.06 2.06-.94-2.06-.94-.94-2.06-.94 2.06-2.06.94zm-11 1L8.5 8.5l.94-2.06 2.06-.94-2.06-.94L8.5 2.5l-.94 2.06-2.06.94zm10 10l.94 2.06.94-2.06 2.06-.94-2.06-.94-.94-2.06-.94 2.06-2.06.94z\"/><path d=\"M17.41 7.96l-1.37-1.37c-.4-.4-.92-.59-1.43-.59-.52 0-1.04.2-1.43.59L10.3 9.45l-7.72 7.72c-.78.78-.78 2.05 0 2.83L4 21.41c.39.39.9.59 1.41.59.51 0 1.02-.2 1.41-.59l7.78-7.78 2.81-2.81c.8-.78.8-2.07 0-2.86zM5.41 20L4 18.59l7.72-7.72 1.47 1.35L5.41 20z\"/>\n",
              "  </svg>\n",
              "      </button>\n",
              "      \n",
              "  <style>\n",
              "    .colab-df-container {\n",
              "      display:flex;\n",
              "      flex-wrap:wrap;\n",
              "      gap: 12px;\n",
              "    }\n",
              "\n",
              "    .colab-df-convert {\n",
              "      background-color: #E8F0FE;\n",
              "      border: none;\n",
              "      border-radius: 50%;\n",
              "      cursor: pointer;\n",
              "      display: none;\n",
              "      fill: #1967D2;\n",
              "      height: 32px;\n",
              "      padding: 0 0 0 0;\n",
              "      width: 32px;\n",
              "    }\n",
              "\n",
              "    .colab-df-convert:hover {\n",
              "      background-color: #E2EBFA;\n",
              "      box-shadow: 0px 1px 2px rgba(60, 64, 67, 0.3), 0px 1px 3px 1px rgba(60, 64, 67, 0.15);\n",
              "      fill: #174EA6;\n",
              "    }\n",
              "\n",
              "    [theme=dark] .colab-df-convert {\n",
              "      background-color: #3B4455;\n",
              "      fill: #D2E3FC;\n",
              "    }\n",
              "\n",
              "    [theme=dark] .colab-df-convert:hover {\n",
              "      background-color: #434B5C;\n",
              "      box-shadow: 0px 1px 3px 1px rgba(0, 0, 0, 0.15);\n",
              "      filter: drop-shadow(0px 1px 2px rgba(0, 0, 0, 0.3));\n",
              "      fill: #FFFFFF;\n",
              "    }\n",
              "  </style>\n",
              "\n",
              "      <script>\n",
              "        const buttonEl =\n",
              "          document.querySelector('#df-755f0fb9-57ac-4c84-8349-3908d76a6c10 button.colab-df-convert');\n",
              "        buttonEl.style.display =\n",
              "          google.colab.kernel.accessAllowed ? 'block' : 'none';\n",
              "\n",
              "        async function convertToInteractive(key) {\n",
              "          const element = document.querySelector('#df-755f0fb9-57ac-4c84-8349-3908d76a6c10');\n",
              "          const dataTable =\n",
              "            await google.colab.kernel.invokeFunction('convertToInteractive',\n",
              "                                                     [key], {});\n",
              "          if (!dataTable) return;\n",
              "\n",
              "          const docLinkHtml = 'Like what you see? Visit the ' +\n",
              "            '<a target=\"_blank\" href=https://colab.research.google.com/notebooks/data_table.ipynb>data table notebook</a>'\n",
              "            + ' to learn more about interactive tables.';\n",
              "          element.innerHTML = '';\n",
              "          dataTable['output_type'] = 'display_data';\n",
              "          await google.colab.output.renderOutput(dataTable, element);\n",
              "          const docLink = document.createElement('div');\n",
              "          docLink.innerHTML = docLinkHtml;\n",
              "          element.appendChild(docLink);\n",
              "        }\n",
              "      </script>\n",
              "    </div>\n",
              "  </div>\n",
              "  "
            ]
          },
          "metadata": {},
          "execution_count": 8
        }
      ]
    },
    {
      "cell_type": "code",
      "source": [
        "#X -> independent var\n",
        "X = df_encoded.iloc[:,[0,1,2]].values\n",
        "\n",
        "#y -> dependent var\n",
        "y = df_encoded.iloc[:,-1].values\n",
        "\n",
        "#menampilkan 10 nilai awal X dan y\n",
        "print(f'X: \\n {X[:10]}')\n",
        "print(f'y: \\n {y[:10]}')"
      ],
      "metadata": {
        "colab": {
          "base_uri": "https://localhost:8080/"
        },
        "id": "UTGOK2-aHss8",
        "outputId": "d39ff9fb-68b8-4cf5-a32f-96946c1b151d"
      },
      "execution_count": 9,
      "outputs": [
        {
          "output_type": "stream",
          "name": "stdout",
          "text": [
            "X: \n",
            " [[5.1 1.4 0.2]\n",
            " [4.9 1.4 0.2]\n",
            " [4.7 1.3 0.2]\n",
            " [4.6 1.5 0.2]\n",
            " [5.  1.4 0.2]\n",
            " [5.4 1.7 0.4]\n",
            " [4.6 1.4 0.3]\n",
            " [5.  1.5 0.2]\n",
            " [4.4 1.4 0.2]\n",
            " [4.9 1.5 0.1]]\n",
            "y: \n",
            " [0 0 0 0 0 0 0 0 0 0]\n"
          ]
        }
      ]
    },
    {
      "cell_type": "code",
      "source": [
        "#split dataset\n",
        "\n",
        "X_train, X_test, y_train, y_test = train_test_split(X, y, test_size=0.3, random_state=21)"
      ],
      "metadata": {
        "id": "uUiCuHsEIJYU"
      },
      "execution_count": 10,
      "outputs": []
    },
    {
      "cell_type": "code",
      "source": [
        "#print bentuk dari hasil data split\n",
        "print('X_train shape: ',X_train.shape)\n",
        "print('X_test shape: ',X_test.shape)\n",
        "print('y_train shape: ',y_train.shape)\n",
        "print('y_test shape: ',y_test.shape)"
      ],
      "metadata": {
        "colab": {
          "base_uri": "https://localhost:8080/"
        },
        "id": "dkouY92aIbOF",
        "outputId": "efd37d65-a218-4d7c-e30d-2d012af9d0cd"
      },
      "execution_count": 11,
      "outputs": [
        {
          "output_type": "stream",
          "name": "stdout",
          "text": [
            "X_train shape:  (105, 3)\n",
            "X_test shape:  (45, 3)\n",
            "y_train shape:  (105,)\n",
            "y_test shape:  (45,)\n"
          ]
        }
      ]
    },
    {
      "cell_type": "markdown",
      "source": [
        "###5. Naive Bayes Classification"
      ],
      "metadata": {
        "id": "c8Ju75mJuVUC"
      }
    },
    {
      "cell_type": "code",
      "source": [
        "#membuat model klasifikasi dengan Gaussian Naive Bayes\n",
        "\n",
        "classifierNB = GaussianNB()\n",
        "classifierNB.fit(X_train,y_train)"
      ],
      "metadata": {
        "colab": {
          "base_uri": "https://localhost:8080/"
        },
        "id": "FMbR_NqxId_E",
        "outputId": "7aef24d4-3326-465a-ffb8-503bacb6c2c5"
      },
      "execution_count": 12,
      "outputs": [
        {
          "output_type": "execute_result",
          "data": {
            "text/plain": [
              "GaussianNB()"
            ]
          },
          "metadata": {},
          "execution_count": 12
        }
      ]
    },
    {
      "cell_type": "code",
      "source": [
        "#melakukan prediksi\n",
        "\n",
        "NB_pred = classifierNB.predict(X_test)"
      ],
      "metadata": {
        "id": "pMOR2k09IhpM"
      },
      "execution_count": 13,
      "outputs": []
    },
    {
      "cell_type": "code",
      "source": [
        "#menampilkan hasil prediksi 15 kolom pertama\n",
        "print('index \\t species');\n",
        "for i,y in enumerate(NB_pred[:15]):\n",
        "  print(f'{i} \\t {y}')"
      ],
      "metadata": {
        "colab": {
          "base_uri": "https://localhost:8080/"
        },
        "id": "WTTvp5FoIkHF",
        "outputId": "b3d2d8d7-eea8-4eeb-c38a-efec36a27a52"
      },
      "execution_count": 14,
      "outputs": [
        {
          "output_type": "stream",
          "name": "stdout",
          "text": [
            "index \t species\n",
            "0 \t 1\n",
            "1 \t 0\n",
            "2 \t 0\n",
            "3 \t 0\n",
            "4 \t 1\n",
            "5 \t 1\n",
            "6 \t 0\n",
            "7 \t 2\n",
            "8 \t 0\n",
            "9 \t 0\n",
            "10 \t 1\n",
            "11 \t 1\n",
            "12 \t 2\n",
            "13 \t 2\n",
            "14 \t 0\n"
          ]
        }
      ]
    },
    {
      "cell_type": "code",
      "source": [
        "#melihat probabilitas dari 15 data awal X test\n",
        "\n",
        "classifierNB.predict_proba(X_test[:15])"
      ],
      "metadata": {
        "colab": {
          "base_uri": "https://localhost:8080/"
        },
        "id": "ptvrO0YmIpe9",
        "outputId": "743577f6-ec10-42cc-d52c-2c95d29ef929"
      },
      "execution_count": 15,
      "outputs": [
        {
          "output_type": "execute_result",
          "data": {
            "text/plain": [
              "array([[2.57426973e-073, 9.99972397e-001, 2.76034248e-005],\n",
              "       [1.00000000e+000, 2.99343908e-011, 1.50341965e-019],\n",
              "       [1.00000000e+000, 1.49477790e-018, 2.36041102e-026],\n",
              "       [1.00000000e+000, 8.83536184e-015, 8.95185534e-024],\n",
              "       [8.82643177e-082, 9.99935992e-001, 6.40079105e-005],\n",
              "       [2.61069801e-103, 9.91754766e-001, 8.24523437e-003],\n",
              "       [1.00000000e+000, 2.17532503e-016, 1.75130489e-023],\n",
              "       [2.98072864e-160, 3.71812923e-003, 9.96281871e-001],\n",
              "       [1.00000000e+000, 2.95844252e-014, 3.61641758e-023],\n",
              "       [1.00000000e+000, 1.00544900e-016, 3.98072710e-025],\n",
              "       [9.73265028e-053, 9.99998469e-001, 1.53143092e-006],\n",
              "       [2.69225193e-081, 9.99942681e-001, 5.73191957e-005],\n",
              "       [9.02116780e-255, 1.34931496e-010, 1.00000000e+000],\n",
              "       [1.74222463e-316, 8.91220566e-013, 1.00000000e+000],\n",
              "       [1.00000000e+000, 4.15713904e-011, 2.96973584e-020]])"
            ]
          },
          "metadata": {},
          "execution_count": 15
        }
      ]
    },
    {
      "cell_type": "markdown",
      "source": [
        "###6. Random Forest Classification"
      ],
      "metadata": {
        "id": "CF150kQ_NkIc"
      }
    },
    {
      "cell_type": "code",
      "source": [
        "#create binary classifier with RFC\n",
        "classifierRFC = RandomForestClassifier()\n",
        "classifierRFC.fit(X_train,y_train)"
      ],
      "metadata": {
        "colab": {
          "base_uri": "https://localhost:8080/"
        },
        "id": "Vx8cVsVqMmLH",
        "outputId": "ca367a33-c44d-4b5d-b3e3-836acdb20d99"
      },
      "execution_count": 16,
      "outputs": [
        {
          "output_type": "execute_result",
          "data": {
            "text/plain": [
              "RandomForestClassifier()"
            ]
          },
          "metadata": {},
          "execution_count": 16
        }
      ]
    },
    {
      "cell_type": "code",
      "source": [
        "#predict\n",
        "RFC_pred = classifierRFC.predict(X_test)"
      ],
      "metadata": {
        "id": "Wx3YDF2rN0Ky"
      },
      "execution_count": 17,
      "outputs": []
    },
    {
      "cell_type": "code",
      "source": [
        "#menampilkan hasil prediksi 15 kolom pertama\n",
        "print('index \\t species');\n",
        "for i,y in enumerate(RFC_pred[:15]):\n",
        "  print(f'{i} \\t {y}')"
      ],
      "metadata": {
        "colab": {
          "base_uri": "https://localhost:8080/"
        },
        "outputId": "e96c73bf-ce28-4539-9b82-8e46ef5be38c",
        "id": "8l7EQdl2N0YC"
      },
      "execution_count": 18,
      "outputs": [
        {
          "output_type": "stream",
          "name": "stdout",
          "text": [
            "index \t species\n",
            "0 \t 1\n",
            "1 \t 0\n",
            "2 \t 0\n",
            "3 \t 0\n",
            "4 \t 1\n",
            "5 \t 1\n",
            "6 \t 0\n",
            "7 \t 1\n",
            "8 \t 0\n",
            "9 \t 0\n",
            "10 \t 1\n",
            "11 \t 1\n",
            "12 \t 2\n",
            "13 \t 2\n",
            "14 \t 0\n"
          ]
        }
      ]
    },
    {
      "cell_type": "markdown",
      "source": [
        "###7. Analisis Performa Naive Bayes Classification dan Random Forest Classification"
      ],
      "metadata": {
        "id": "aUUrxFyTN9zf"
      }
    },
    {
      "cell_type": "code",
      "source": [
        "#menampilkan classification report untuk Naive Bayes Classification\n",
        "print('-------------------------------------------------------')\n",
        "print('Classification Report for Naive Bayes Classification')\n",
        "print('-------------------------------------------------------')\n",
        "print(classification_report(y_test,NB_pred,zero_division=0))\n",
        "\n",
        "#menampilkan classification report untuk Random Forest Classification\n",
        "print('-------------------------------------------------------')\n",
        "print('Classification Report for Random Forest Classification')\n",
        "print('-------------------------------------------------------')\n",
        "print(classification_report(y_test,RFC_pred,zero_division=0))"
      ],
      "metadata": {
        "colab": {
          "base_uri": "https://localhost:8080/"
        },
        "id": "O_QYmIDM3IMg",
        "outputId": "f1a3d944-2b28-4f82-819e-1adee485e11e"
      },
      "execution_count": 19,
      "outputs": [
        {
          "output_type": "stream",
          "name": "stdout",
          "text": [
            "-------------------------------------------------------\n",
            "Classification Report for Naive Bayes Classification\n",
            "-------------------------------------------------------\n",
            "              precision    recall  f1-score   support\n",
            "\n",
            "           0       1.00      1.00      1.00        14\n",
            "           1       1.00      0.81      0.90        16\n",
            "           2       0.83      1.00      0.91        15\n",
            "\n",
            "    accuracy                           0.93        45\n",
            "   macro avg       0.94      0.94      0.94        45\n",
            "weighted avg       0.94      0.93      0.93        45\n",
            "\n",
            "-------------------------------------------------------\n",
            "Classification Report for Random Forest Classification\n",
            "-------------------------------------------------------\n",
            "              precision    recall  f1-score   support\n",
            "\n",
            "           0       1.00      1.00      1.00        14\n",
            "           1       0.93      0.88      0.90        16\n",
            "           2       0.88      0.93      0.90        15\n",
            "\n",
            "    accuracy                           0.93        45\n",
            "   macro avg       0.94      0.94      0.94        45\n",
            "weighted avg       0.93      0.93      0.93        45\n",
            "\n"
          ]
        }
      ]
    },
    {
      "cell_type": "code",
      "source": [
        "#menampilkan confussion matrix antara Naive Bayes dan RFC\n",
        "f, axes = plt.subplots(1,2,figsize=(15,5),sharey='row')\n",
        "\n",
        "classifier = {\n",
        "    \"Naive Bayes Classification\": NB_pred,\n",
        "    \"Random Forest Classification\": RFC_pred\n",
        "}\n",
        "\n",
        "for i,(key,val) in enumerate(classifier.items()):\n",
        "    cm = confusion_matrix(y_test,val)\n",
        "    disp = ConfusionMatrixDisplay(confusion_matrix=cm)\n",
        "    disp.plot(ax=axes[i])\n",
        "    disp.ax_.set_title(key)\n",
        "    \n",
        "plt.show()"
      ],
      "metadata": {
        "colab": {
          "base_uri": "https://localhost:8080/",
          "height": 350
        },
        "id": "n1UZs00bxW02",
        "outputId": "730c9417-50ae-477e-c000-0465eea27f95"
      },
      "execution_count": 20,
      "outputs": [
        {
          "output_type": "display_data",
          "data": {
            "text/plain": [
              "<Figure size 1080x360 with 4 Axes>"
            ],
            "image/png": "[encoded data removed]"
          },
          "metadata": {
            "needs_background": "light"
          }
        }
      ]
    },
    {
      "cell_type": "markdown",
      "source": [
        "###8. K-Fold Cross Validation (k=10)"
      ],
      "metadata": {
        "id": "C6DD7U_ZvDJi"
      }
    },
    {
      "cell_type": "code",
      "source": [
        "#K-Fold Cross Validation untuk Naive Bayes\n",
        "scoreNB = cross_validate(classifierNB, X_test, y_test, cv=10)\n",
        "\n",
        "df_scoreNB = pd.DataFrame(scoreNB)\n",
        "print(df_scoreNB)\n",
        "print(f'\\nAverage :\\n{df_scoreNB.mean()}')"
      ],
      "metadata": {
        "colab": {
          "base_uri": "https://localhost:8080/"
        },
        "id": "8zTvZX6CgeGP",
        "outputId": "6b0661b2-1fe7-42ea-e3ad-37df0a281556"
      },
      "execution_count": 21,
      "outputs": [
        {
          "output_type": "stream",
          "name": "stdout",
          "text": [
            "   fit_time  score_time  test_score\n",
            "0  0.001071    0.000578        1.00\n",
            "1  0.001005    0.000475        1.00\n",
            "2  0.000932    0.001614        0.80\n",
            "3  0.000966    0.000468        1.00\n",
            "4  0.000969    0.000491        1.00\n",
            "5  0.000998    0.000454        1.00\n",
            "6  0.000541    0.000313        0.75\n",
            "7  0.000518    0.000291        1.00\n",
            "8  0.000517    0.000252        1.00\n",
            "9  0.000644    0.000303        1.00\n",
            "\n",
            "Average :\n",
            "fit_time      0.000816\n",
            "score_time    0.000524\n",
            "test_score    0.955000\n",
            "dtype: float64\n"
          ]
        }
      ]
    },
    {
      "cell_type": "code",
      "source": [
        "#K-Fold Cross Validation untuk Random Forest Classification\n",
        "scoreNB = cross_validate(classifierRFC, X_test, y_test, cv=10)\n",
        "\n",
        "df_scoreNB = pd.DataFrame(scoreNB)\n",
        "print(df_scoreNB)\n",
        "print(f'\\nAverage :\\n{df_scoreNB.mean()}')"
      ],
      "metadata": {
        "colab": {
          "base_uri": "https://localhost:8080/"
        },
        "id": "RbVsIWzpveDR",
        "outputId": "cdfe4efc-2e5b-42c1-b2c0-b7e70754990f"
      },
      "execution_count": 22,
      "outputs": [
        {
          "output_type": "stream",
          "name": "stdout",
          "text": [
            "   fit_time  score_time  test_score\n",
            "0  0.189488    0.008922        1.00\n",
            "1  0.094458    0.008035        0.80\n",
            "2  0.090194    0.008745        0.80\n",
            "3  0.098283    0.008150        1.00\n",
            "4  0.091375    0.008019        1.00\n",
            "5  0.095390    0.011112        1.00\n",
            "6  0.103663    0.008170        0.75\n",
            "7  0.102028    0.008309        1.00\n",
            "8  0.113830    0.012785        1.00\n",
            "9  0.156125    0.016129        1.00\n",
            "\n",
            "Average :\n",
            "fit_time      0.113484\n",
            "score_time    0.009837\n",
            "test_score    0.935000\n",
            "dtype: float64\n"
          ]
        }
      ]
    },
    {
      "cell_type": "code",
      "source": [
        "#Berdasarkan 2 test diatas, diperoleh bahwa :\n",
        "#1. Rata-rata Fit Time Naive Bayes jauh lebih kecil (lebih cepat) daripada Random Forest Classification\n",
        "#2. Rata-rata Score Time Naive Bayes jauh lebih kecil (lebih cepat) daripada Random Forest Classification\n",
        "#3. Rata-rata test Score Naive Bayes jauh lebih besar (lebih akurat) daripada Random Forest Classfication\n",
        "\n",
        "#Maka dapat disimpulkan bahwa Performa Naive Bayes lebih bagus jika dillihat dari poin 1 & 2\n",
        "#dan Akurasi dari Klasifikasi Naive Bayes juga lebih baik jika dilihat dari poin 3\n",
        "\n",
        "#Jadi Algoritma yang lebih baik adalah Naive Bayes Classification"
      ],
      "metadata": {
        "id": "N40pp8awELnI"
      },
      "execution_count": 23,
      "outputs": []
    }
  ]
}