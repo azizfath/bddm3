{
  "nbformat": 4,
  "nbformat_minor": 0,
  "metadata": {
    "colab": {
      "provenance": []
    },
    "kernelspec": {
      "name": "python3",
      "display_name": "Python 3"
    },
    "language_info": {
      "name": "python"
    }
  },
  "cells": [
    {
      "cell_type": "markdown",
      "source": [
        "#**NAMA: FATHURRAHMAN NUR AZIZ**\n",
        "#**NIM 20.11.3694**"
      ],
      "metadata": {
        "id": "86fcMhPB2_HB"
      }
    },
    {
      "cell_type": "markdown",
      "source": [
        "##1. Buatlah spark session dengan nama \"Responsi\""
      ],
      "metadata": {
        "id": "VXDia17H3DXM"
      }
    },
    {
      "cell_type": "code",
      "source": [
        "#install findspark and pyspark\n",
        "!pip install -q findspark\n",
        "!pip install -q pyspark"
      ],
      "metadata": {
        "colab": {
          "base_uri": "https://localhost:8080/",
          "height": 0
        },
        "id": "e5tfmXnq3RA3",
        "outputId": "fd55de17-8c0a-4f27-db5e-49515aaa65e6"
      },
      "execution_count": 1,
      "outputs": [
        {
          "output_type": "stream",
          "name": "stdout",
          "text": [
            "\u001b[2K     \u001b[90m━━━━━━━━━━━━━━━━━━━━━━━━━━━━━━━━━━━━━━━\u001b[0m \u001b[32m281.4/281.4 MB\u001b[0m \u001b[31m4.4 MB/s\u001b[0m eta \u001b[36m0:00:00\u001b[0m\n",
            "\u001b[?25h  Preparing metadata (setup.py) ... \u001b[?25l\u001b[?25hdone\n",
            "\u001b[2K     \u001b[90m━━━━━━━━━━━━━━━━━━━━━━━━━━━━━━━━━━━━━━\u001b[0m \u001b[32m199.7/199.7 KB\u001b[0m \u001b[31m15.1 MB/s\u001b[0m eta \u001b[36m0:00:00\u001b[0m\n",
            "\u001b[?25h  Building wheel for pyspark (setup.py) ... \u001b[?25l\u001b[?25hdone\n"
          ]
        }
      ]
    },
    {
      "cell_type": "code",
      "source": [
        "#create spark session\n",
        "from pyspark.sql import SparkSession\n",
        "spark = SparkSession \\\n",
        "  .builder \\\n",
        "  .appName(\"Responsi\") \\\n",
        "  .getOrCreate()"
      ],
      "metadata": {
        "id": "UkdIU68Z3zVj"
      },
      "execution_count": 94,
      "outputs": []
    },
    {
      "cell_type": "code",
      "source": [
        "#create spark context\n",
        "sc = spark.sparkContext"
      ],
      "metadata": {
        "id": "iBvipBki-XYy"
      },
      "execution_count": 95,
      "outputs": []
    },
    {
      "cell_type": "code",
      "source": [
        "#import dataset\n",
        "url = 'https://raw.githubusercontent.com/ariflaksito/ST153-Big-Data-Lanjut/master/flights_small.csv'\n",
        "dir = r'/content/drive/MyDrive/Colab\\ Notebooks/BDPA\\ LANJUT/'\n",
        "\n",
        "path = dir + url.split('/')[-1]\n",
        "\n",
        "!curl {url} > {path}"
      ],
      "metadata": {
        "colab": {
          "base_uri": "https://localhost:8080/",
          "height": 0
        },
        "id": "6r75ISBu5GJS",
        "outputId": "ba1fe7a6-264f-46b4-8a4b-95da9304ce00"
      },
      "execution_count": 96,
      "outputs": [
        {
          "output_type": "stream",
          "name": "stdout",
          "text": [
            "  % Total    % Received % Xferd  Average Speed   Time    Time     Time  Current\n",
            "                                 Dload  Upload   Total   Spent    Left  Speed\n",
            "100  599k  100  599k    0     0  1966k      0 --:--:-- --:--:-- --:--:-- 1972k\n"
          ]
        }
      ]
    },
    {
      "cell_type": "code",
      "source": [
        "#load dataset\n",
        "df = spark.read.csv(path, header=True, inferSchema=True)"
      ],
      "metadata": {
        "id": "cLbQvvnm5f72"
      },
      "execution_count": 97,
      "outputs": []
    },
    {
      "cell_type": "markdown",
      "source": [
        "##2. Cek tipe data tiap kolom dan tampilkan 20 data teratas"
      ],
      "metadata": {
        "id": "XIwApltI58tO"
      }
    },
    {
      "cell_type": "code",
      "source": [
        "#cek tipe data tiap kolom\n",
        "df.printSchema()"
      ],
      "metadata": {
        "colab": {
          "base_uri": "https://localhost:8080/",
          "height": 0
        },
        "id": "I-8LTq836Bv0",
        "outputId": "2c6bcfc2-ba67-4f3f-cd5a-20530c665bc4"
      },
      "execution_count": 98,
      "outputs": [
        {
          "output_type": "stream",
          "name": "stdout",
          "text": [
            "root\n",
            " |-- year: integer (nullable = true)\n",
            " |-- month: integer (nullable = true)\n",
            " |-- day: integer (nullable = true)\n",
            " |-- dep_time: string (nullable = true)\n",
            " |-- dep_delay: string (nullable = true)\n",
            " |-- arr_time: string (nullable = true)\n",
            " |-- arr_delay: string (nullable = true)\n",
            " |-- carrier: string (nullable = true)\n",
            " |-- tailnum: string (nullable = true)\n",
            " |-- flight: integer (nullable = true)\n",
            " |-- origin: string (nullable = true)\n",
            " |-- dest: string (nullable = true)\n",
            " |-- air_time: string (nullable = true)\n",
            " |-- distance: integer (nullable = true)\n",
            " |-- hour: string (nullable = true)\n",
            " |-- minute: string (nullable = true)\n",
            "\n"
          ]
        }
      ]
    },
    {
      "cell_type": "code",
      "source": [
        "#menampilkan 20 kolom teratas\n",
        "df.show(20)"
      ],
      "metadata": {
        "colab": {
          "base_uri": "https://localhost:8080/",
          "height": 0
        },
        "id": "k74da8gX6O4h",
        "outputId": "90447da7-ebc1-4b4b-98a5-e7e33d6f6432"
      },
      "execution_count": 99,
      "outputs": [
        {
          "output_type": "stream",
          "name": "stdout",
          "text": [
            "+----+-----+---+--------+---------+--------+---------+-------+-------+------+------+----+--------+--------+----+------+\n",
            "|year|month|day|dep_time|dep_delay|arr_time|arr_delay|carrier|tailnum|flight|origin|dest|air_time|distance|hour|minute|\n",
            "+----+-----+---+--------+---------+--------+---------+-------+-------+------+------+----+--------+--------+----+------+\n",
            "|2014|   12|  8|     658|       -7|     935|       -5|     VX| N846VA|  1780|   SEA| LAX|     132|     954|   6|    58|\n",
            "|2014|    1| 22|    1040|        5|    1505|        5|     AS| N559AS|   851|   SEA| HNL|     360|    2677|  10|    40|\n",
            "|2014|    3|  9|    1443|       -2|    1652|        2|     VX| N847VA|   755|   SEA| SFO|     111|     679|  14|    43|\n",
            "|2014|    4|  9|    1705|       45|    1839|       34|     WN| N360SW|   344|   PDX| SJC|      83|     569|  17|     5|\n",
            "|2014|    3|  9|     754|       -1|    1015|        1|     AS| N612AS|   522|   SEA| BUR|     127|     937|   7|    54|\n",
            "|2014|    1| 15|    1037|        7|    1352|        2|     WN| N646SW|    48|   PDX| DEN|     121|     991|  10|    37|\n",
            "|2014|    7|  2|     847|       42|    1041|       51|     WN| N422WN|  1520|   PDX| OAK|      90|     543|   8|    47|\n",
            "|2014|    5| 12|    1655|       -5|    1842|      -18|     VX| N361VA|   755|   SEA| SFO|      98|     679|  16|    55|\n",
            "|2014|    4| 19|    1236|       -4|    1508|       -7|     AS| N309AS|   490|   SEA| SAN|     135|    1050|  12|    36|\n",
            "|2014|   11| 19|    1812|       -3|    2352|       -4|     AS| N564AS|    26|   SEA| ORD|     198|    1721|  18|    12|\n",
            "|2014|   11|  8|    1653|       -2|    1924|       -1|     AS| N323AS|   448|   SEA| LAX|     130|     954|  16|    53|\n",
            "|2014|    8|  3|    1120|        0|    1415|        2|     AS| N305AS|   656|   SEA| PHX|     154|    1107|  11|    20|\n",
            "|2014|   10| 30|     811|       21|    1038|       29|     AS| N433AS|   608|   SEA| LAS|     127|     867|   8|    11|\n",
            "|2014|   11| 12|    2346|       -4|     217|      -28|     AS| N765AS|   121|   SEA| ANC|     183|    1448|  23|    46|\n",
            "|2014|   10| 31|    1314|       89|    1544|      111|     AS| N713AS|   306|   SEA| SFO|     129|     679|  13|    14|\n",
            "|2014|    1| 29|    2009|        3|    2159|        9|     UA| N27205|  1458|   PDX| SFO|      90|     550|  20|     9|\n",
            "|2014|   12| 17|    2015|       50|    2150|       41|     AS| N626AS|   368|   SEA| SMF|      76|     605|  20|    15|\n",
            "|2014|    8| 11|    1017|       -3|    1613|       -7|     WN| N8634A|   827|   SEA| MDW|     216|    1733|  10|    17|\n",
            "|2014|    1| 13|    2156|       -9|     607|      -15|     AS| N597AS|    24|   SEA| BOS|     290|    2496|  21|    56|\n",
            "|2014|    6|  5|    1733|      -12|    1945|      -10|     OO| N215AG|  3488|   PDX| BUR|     111|     817|  17|    33|\n",
            "+----+-----+---+--------+---------+--------+---------+-------+-------+------+------+----+--------+--------+----+------+\n",
            "only showing top 20 rows\n",
            "\n"
          ]
        }
      ]
    },
    {
      "cell_type": "markdown",
      "source": [
        "##3. Buat RDD berisikan data Carrier, OriginAirportID, dan DestAirportID"
      ],
      "metadata": {
        "id": "ho4MRzn66bK0"
      }
    },
    {
      "cell_type": "code",
      "source": [
        "#membuat RDD dari dataframe\n",
        "RDD = df.rdd\n",
        "\n",
        "#print tipe data RDD\n",
        "print(f'The file type of RDD is {type(RDD)}')"
      ],
      "metadata": {
        "colab": {
          "base_uri": "https://localhost:8080/",
          "height": 0
        },
        "id": "L3bVzVSdBskN",
        "outputId": "ed7e4697-b80a-4373-ca9c-51fbbcb5e04d"
      },
      "execution_count": 100,
      "outputs": [
        {
          "output_type": "stream",
          "name": "stdout",
          "text": [
            "The file type of RDD is <class 'pyspark.rdd.RDD'>\n"
          ]
        }
      ]
    },
    {
      "cell_type": "code",
      "source": [
        "#lihat 5 data teratas RDD\n",
        "RDD.take(5)"
      ],
      "metadata": {
        "colab": {
          "base_uri": "https://localhost:8080/",
          "height": 0
        },
        "id": "qsLYZHFRCI19",
        "outputId": "753f6355-2d2a-41dd-818e-c2f44c468f8a"
      },
      "execution_count": 101,
      "outputs": [
        {
          "output_type": "execute_result",
          "data": {
            "text/plain": [
              "[Row(year=2014, month=12, day=8, dep_time='658', dep_delay='-7', arr_time='935', arr_delay='-5', carrier='VX', tailnum='N846VA', flight=1780, origin='SEA', dest='LAX', air_time='132', distance=954, hour='6', minute='58'),\n",
              " Row(year=2014, month=1, day=22, dep_time='1040', dep_delay='5', arr_time='1505', arr_delay='5', carrier='AS', tailnum='N559AS', flight=851, origin='SEA', dest='HNL', air_time='360', distance=2677, hour='10', minute='40'),\n",
              " Row(year=2014, month=3, day=9, dep_time='1443', dep_delay='-2', arr_time='1652', arr_delay='2', carrier='VX', tailnum='N847VA', flight=755, origin='SEA', dest='SFO', air_time='111', distance=679, hour='14', minute='43'),\n",
              " Row(year=2014, month=4, day=9, dep_time='1705', dep_delay='45', arr_time='1839', arr_delay='34', carrier='WN', tailnum='N360SW', flight=344, origin='PDX', dest='SJC', air_time='83', distance=569, hour='17', minute='5'),\n",
              " Row(year=2014, month=3, day=9, dep_time='754', dep_delay='-1', arr_time='1015', arr_delay='1', carrier='AS', tailnum='N612AS', flight=522, origin='SEA', dest='BUR', air_time='127', distance=937, hour='7', minute='54')]"
            ]
          },
          "metadata": {},
          "execution_count": 101
        }
      ]
    },
    {
      "cell_type": "code",
      "source": [
        "#membuat RDD_sub yang berisi hanya kolom carrier, origin, dan dest dari RDD sebelumnya\n",
        "RDD_sub=RDD.map(lambda x: (x['carrier'],x['origin'],x['dest']))\n",
        "\n",
        "#print tipe data RDD_sub\n",
        "print(f'The file type of RDD_sub is {type(RDD_sub)}')"
      ],
      "metadata": {
        "colab": {
          "base_uri": "https://localhost:8080/",
          "height": 0
        },
        "id": "ncsL3LHJBuO8",
        "outputId": "57209bce-feb8-4d7c-8d67-7e5e87bbe5ed"
      },
      "execution_count": 102,
      "outputs": [
        {
          "output_type": "stream",
          "name": "stdout",
          "text": [
            "The file type of RDD_sub is <class 'pyspark.rdd.PipelinedRDD'>\n"
          ]
        }
      ]
    },
    {
      "cell_type": "code",
      "source": [
        "#lihat 5 data teratas RDD_sub\n",
        "RDD_sub.take(5)"
      ],
      "metadata": {
        "colab": {
          "base_uri": "https://localhost:8080/",
          "height": 0
        },
        "id": "I3P65wmWCM6c",
        "outputId": "04de1d53-7190-4177-edd4-922a661be978"
      },
      "execution_count": 103,
      "outputs": [
        {
          "output_type": "execute_result",
          "data": {
            "text/plain": [
              "[('VX', 'SEA', 'LAX'),\n",
              " ('AS', 'SEA', 'HNL'),\n",
              " ('VX', 'SEA', 'SFO'),\n",
              " ('WN', 'PDX', 'SJC'),\n",
              " ('AS', 'SEA', 'BUR')]"
            ]
          },
          "metadata": {},
          "execution_count": 103
        }
      ]
    },
    {
      "cell_type": "markdown",
      "source": [
        "##4. Ubah RDD ke dataframe pada poin 3"
      ],
      "metadata": {
        "id": "H4cZcdyGEJCc"
      }
    },
    {
      "cell_type": "code",
      "source": [
        "#ubah RDD sub ke Dataframe dan tampung ke variabel df_sub\n",
        "df_sub = RDD_sub.toDF(['Carrier','OriginAirportID','DestAirportID'])\n",
        "\n",
        "#print tipe data df_sub\n",
        "print(f'The file type of df_sub is {type(df_sub)}')"
      ],
      "metadata": {
        "colab": {
          "base_uri": "https://localhost:8080/",
          "height": 0
        },
        "id": "HUDVXYpCEM6O",
        "outputId": "f86efaad-5e24-4d57-c4dd-dbb020a4debe"
      },
      "execution_count": 104,
      "outputs": [
        {
          "output_type": "stream",
          "name": "stdout",
          "text": [
            "The file type of df_sub is <class 'pyspark.sql.dataframe.DataFrame'>\n"
          ]
        }
      ]
    },
    {
      "cell_type": "code",
      "source": [
        "#cek tipe data dataframe df_sub\n",
        "df_sub.printSchema()"
      ],
      "metadata": {
        "colab": {
          "base_uri": "https://localhost:8080/",
          "height": 0
        },
        "id": "Cty8pXLaEeQW",
        "outputId": "8f3e53c8-b5ba-4267-9184-9f6c07d6b972"
      },
      "execution_count": 105,
      "outputs": [
        {
          "output_type": "stream",
          "name": "stdout",
          "text": [
            "root\n",
            " |-- Carrier: string (nullable = true)\n",
            " |-- OriginAirportID: string (nullable = true)\n",
            " |-- DestAirportID: string (nullable = true)\n",
            "\n"
          ]
        }
      ]
    },
    {
      "cell_type": "code",
      "source": [
        "#lihat 5 row teratas dari df_sub\n",
        "df_sub.show(5)"
      ],
      "metadata": {
        "colab": {
          "base_uri": "https://localhost:8080/",
          "height": 0
        },
        "id": "k_4OFvYPEd5h",
        "outputId": "255543f3-10f3-4361-e9ca-c454f7ba5781"
      },
      "execution_count": 106,
      "outputs": [
        {
          "output_type": "stream",
          "name": "stdout",
          "text": [
            "+-------+---------------+-------------+\n",
            "|Carrier|OriginAirportID|DestAirportID|\n",
            "+-------+---------------+-------------+\n",
            "|     VX|            SEA|          LAX|\n",
            "|     AS|            SEA|          HNL|\n",
            "|     VX|            SEA|          SFO|\n",
            "|     WN|            PDX|          SJC|\n",
            "|     AS|            SEA|          BUR|\n",
            "+-------+---------------+-------------+\n",
            "only showing top 5 rows\n",
            "\n"
          ]
        }
      ]
    },
    {
      "cell_type": "markdown",
      "source": [
        "##5. Tampilkan berapa jumlah masing-massing DestAirportID dari masing-masing Carrier!"
      ],
      "metadata": {
        "id": "jpniTBw1GPoG"
      }
    },
    {
      "cell_type": "code",
      "source": [
        "#grouping by Carrier dan DestAirPortID, \n",
        "#kemudian menghitung jumlah dari DestAirportID\n",
        "#kemudian menampilkan dengan sort ascending berdasarkan kolom carrier\n",
        "\n",
        "count_dest_by_carrier = df_sub.groupBy('Carrier','DestAirportID')\n",
        "\n",
        "count_dest_by_carrier \\\n",
        "  .count() \\\n",
        "  .sort('Carrier') \\\n",
        "  .show(100)"
      ],
      "metadata": {
        "colab": {
          "base_uri": "https://localhost:8080/",
          "height": 0
        },
        "id": "LK0mWIQhGXxy",
        "outputId": "27568ad5-282b-48d8-bb41-0aa61c1c6d86"
      },
      "execution_count": 120,
      "outputs": [
        {
          "output_type": "stream",
          "name": "stdout",
          "text": [
            "+-------+-------------+-----+\n",
            "|Carrier|DestAirportID|count|\n",
            "+-------+-------------+-----+\n",
            "|     AA|          PHX|    1|\n",
            "|     AA|          ORD|  156|\n",
            "|     AA|          JFK|   17|\n",
            "|     AA|          MIA|   19|\n",
            "|     AA|          DFW|  289|\n",
            "|     AS|          SLC|   59|\n",
            "|     AS|          ANC|  377|\n",
            "|     AS|          FLL|   29|\n",
            "|     AS|          BLI|    5|\n",
            "|     AS|          MSP|   35|\n",
            "|     AS|          PHX|  163|\n",
            "|     AS|          MSY|    9|\n",
            "|     AS|          LIH|   37|\n",
            "|     AS|          ORD|   86|\n",
            "|     AS|          AUS|   27|\n",
            "|     AS|          SAT|   18|\n",
            "|     AS|          LAX|  346|\n",
            "|     AS|          STL|   16|\n",
            "|     AS|          BWI|   11|\n",
            "|     AS|          DCA|   69|\n",
            "|     AS|          OAK|   86|\n",
            "|     AS|          OGG|   67|\n",
            "|     AS|          DTW|    3|\n",
            "|     AS|          JNU|   65|\n",
            "|     AS|          GEG|   91|\n",
            "|     AS|          LAS|  256|\n",
            "|     AS|          MCO|   31|\n",
            "|     AS|          KTN|   77|\n",
            "|     AS|          DEN|   91|\n",
            "|     AS|          TPA|   11|\n",
            "|     AS|          SIT|    6|\n",
            "|     AS|          ABQ|    9|\n",
            "|     AS|          DFW|   82|\n",
            "|     AS|          SFO|  288|\n",
            "|     AS|          KOA|   52|\n",
            "|     AS|          EWR|   45|\n",
            "|     AS|          SMF|  110|\n",
            "|     AS|          PSP|   45|\n",
            "|     AS|          BUR|   66|\n",
            "|     AS|          BOS|   74|\n",
            "|     AS|          PHL|   24|\n",
            "|     AS|          FAI|   75|\n",
            "|     AS|          SNA|  198|\n",
            "|     AS|          HNL|   66|\n",
            "|     AS|          SJC|  176|\n",
            "|     AS|          ONT|   71|\n",
            "|     AS|          SAN|  208|\n",
            "|     AS|          SEA|   10|\n",
            "|     AS|          PDX|    8|\n",
            "|     AS|          TUS|   26|\n",
            "|     AS|          IAH|   24|\n",
            "|     AS|          MCI|   24|\n",
            "|     AS|          ATL|   32|\n",
            "|     B6|          ANC|    8|\n",
            "|     B6|          BOS|   55|\n",
            "|     B6|          JFK|   41|\n",
            "|     B6|          LGB|  110|\n",
            "|     DL|          JFK|  115|\n",
            "|     DL|          CVG|    5|\n",
            "|     DL|          FAI|    5|\n",
            "|     DL|          LAS|   16|\n",
            "|     DL|          HNL|   25|\n",
            "|     DL|          MSP|  203|\n",
            "|     DL|          JNU|   12|\n",
            "|     DL|          SLC|  236|\n",
            "|     DL|          ATL|  223|\n",
            "|     DL|          SAN|    9|\n",
            "|     DL|          LAX|   62|\n",
            "|     DL|          DTW|  120|\n",
            "|     DL|          OGG|    3|\n",
            "|     DL|          ANC|   48|\n",
            "|     F9|          CLE|    2|\n",
            "|     F9|          DEN|  175|\n",
            "|     F9|          STL|    4|\n",
            "|     HA|          OGG|   21|\n",
            "|     HA|          HNL|   52|\n",
            "|     OO|          LMT|   10|\n",
            "|     OO|          GEG|   14|\n",
            "|     OO|          OMA|   25|\n",
            "|     OO|          PHX|    4|\n",
            "|     OO|          PDX|  149|\n",
            "|     OO|          BUR|   71|\n",
            "|     OO|          LAX|  116|\n",
            "|     OO|          BOI|    7|\n",
            "|     OO|          SLC|   31|\n",
            "|     OO|          ONT|   57|\n",
            "|     OO|          COS|   26|\n",
            "|     OO|          EUG|   41|\n",
            "|     OO|          FAT|   47|\n",
            "|     OO|          SJC|   53|\n",
            "|     OO|          TUS|   24|\n",
            "|     OO|          LAS|   79|\n",
            "|     OO|          RDM|   54|\n",
            "|     OO|          SFO|   94|\n",
            "|     OO|          DEN|   32|\n",
            "|     OO|          PSP|    3|\n",
            "|     OO|          LGB|   65|\n",
            "|     OO|          SEA|  134|\n",
            "|     OO|          SBA|   46|\n",
            "|     OO|          HDN|    4|\n",
            "+-------+-------------+-----+\n",
            "only showing top 100 rows\n",
            "\n"
          ]
        }
      ]
    }
  ]
}